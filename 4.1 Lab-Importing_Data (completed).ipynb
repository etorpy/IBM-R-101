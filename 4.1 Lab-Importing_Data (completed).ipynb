{
 "cells": [
  {
   "cell_type": "markdown",
   "metadata": {},
   "source": [
    "<img src=\"http://cognitiveclass.ai/wp-content/uploads/2017/11/cc-logo-square.png\" width=\"150\">\n",
    "\n",
    "<h1 align=center>IMPORTING DATA in R</h1> \n",
    "\n"
   ]
  },
  {
   "cell_type": "markdown",
   "metadata": {},
   "source": [
    "<br>"
   ]
  },
  {
   "cell_type": "markdown",
   "metadata": {},
   "source": [
    "### Welcome!\n",
    "\n",
    "By the end of this notebook, you will have learned how to **import and read data** from different file types in R."
   ]
  },
  {
   "cell_type": "markdown",
   "metadata": {},
   "source": [
    "## Table of Contents\n",
    "\n",
    "\n",
    "<ul>\n",
    "<li><a href=\"#About-the-Dataset\">About the Dataset</a></li>\n",
    "<li><a href=\"#Reading-CSV-Files\">Reading CSV Files</a></li>\n",
    "<li><a href=\"#Reading-Excel-Files\">Reading Excel Files</a></li>\n",
    "<li><a href=\"#Accessing-Rows-and-Columns\">Accessing Rows and Columns from dataset</a></li>\n",
    "<li><a href=\"#Accessing-Built-in-Datasets-in-R\">Accessing Built-in Datasets in R</a></li>\n",
    "</ul>\n",
    "<p></p>\n",
    "Estimated Time Needed: <strong>15 min</strong>\n",
    "\n",
    "<hr>"
   ]
  },
  {
   "cell_type": "markdown",
   "metadata": {},
   "source": [
    "<a id=\"ref0\"></a>\n",
    "<h2 align=center>About the Dataset</h2>"
   ]
  },
  {
   "cell_type": "markdown",
   "metadata": {},
   "source": [
    "**Movies dataset**\n",
    "\n",
    "Here we have a dataset that includes one row for each movie, with several columns for each movie characteristic:\n",
    "\n",
    "- **name** - Name of the movie\n",
    "- **year** - Year the movie was released\n",
    "- **length_min** - Length of the movie (minutes)\n",
    "- **genre** - Genre of the movie\n",
    "- **average_rating** - Average rating on [IMDB](http://www.imdb.com/)\n",
    "- **cost_millions** - Movie's production cost (millions in USD)\n",
    "- **foreign** - Is the movie foreign (1) or domestic (0)?\n",
    "- **age_restriction** - Age restriction for the movie\n",
    "<br>\n"
   ]
  },
  {
   "cell_type": "markdown",
   "metadata": {},
   "source": [
    "<img src = \"https://ibm.box.com/shared/static/6kr8sg0n6pc40zd1xn6hjhtvy3k7cmeq.png\" width = 90% align=\"left\">"
   ]
  },
  {
   "cell_type": "markdown",
   "metadata": {},
   "source": [
    "Let's learn how to **import and read data** from two common types of files used to store tabular data (when data is stored in a table or a spreadsheet.)\n",
    "- **CSV files** (.csv)\n",
    "- **Excel files** (.xls or .xlsx)\n",
    "\n",
    "To begin, we'll need to **download the data**!"
   ]
  },
  {
   "cell_type": "markdown",
   "metadata": {},
   "source": [
    "<a id=\"ref0\"></a>\n",
    "<h2 align=center>Download the Data</h2>"
   ]
  },
  {
   "cell_type": "markdown",
   "metadata": {},
   "source": [
    "We've made it easy for you to get the data, which we've hosted online. Simply run the code cell below (Shift + Enter) to download the data to your current folder."
   ]
  },
  {
   "cell_type": "code",
   "execution_count": 1,
   "metadata": {
    "collapsed": true
   },
   "outputs": [],
   "source": [
    "# Download datasets\n",
    "\n",
    "# CSV file\n",
    "download.file(\"https://ibm.box.com/shared/static/n5ay5qadfe7e1nnsv5s01oe1x62mq51j.csv\", \n",
    "              destfile=\"movies-db.csv\")\n",
    "\n",
    "# XLS file\n",
    "download.file(\"https://ibm.box.com/shared/static/nx0ohd9sq0iz3p871zg8ehc1m39ibpx6.xls\", \n",
    "              destfile=\"movies-db.xls\")"
   ]
  },
  {
   "cell_type": "markdown",
   "metadata": {},
   "source": [
    "**If you ran the cell above, you have now downloaded the following files to your current folder:**\n",
    "> movies-db.csv  \n",
    "> movies-db.xls"
   ]
  },
  {
   "cell_type": "markdown",
   "metadata": {},
   "source": [
    "<a id=\"ref1\"></a>\n",
    "<center><h2>Reading CSV Files</h2></center>"
   ]
  },
  {
   "cell_type": "markdown",
   "metadata": {},
   "source": [
    "#### What are CSV files?"
   ]
  },
  {
   "cell_type": "markdown",
   "metadata": {},
   "source": [
    "Let's read data from a CSV file. CSV (Comma Separated Values) is one of the most common formats of structured data you will find. These files contain data in a table format, where in each row, columns are separated by a delimiter -- traditionally, a comma (hence comma-separated values).   \n",
    "  \n",
    "Usually, the first line in a CSV file contains the column names for the table itself. CSV files are popular because you do not need a particular program to open it."
   ]
  },
  {
   "cell_type": "markdown",
   "metadata": {},
   "source": [
    "#### Reading CSV files in R"
   ]
  },
  {
   "cell_type": "markdown",
   "metadata": {},
   "source": [
    "In the **`movies-db.csv`** file, the first line of text is the header (names of each of the columns), followed by rows of movie information.\n",
    "\n",
    "To read CSV files into R, we use the core function **`read.csv`**.  \n",
    "\n",
    "`read.csv` easy to use. All you need is the filepath to the CSV file. Let's try loading the file using the filepath to the `movies-db.csv` file we downloaded earlier:"
   ]
  },
  {
   "cell_type": "code",
   "execution_count": 2,
   "metadata": {
    "collapsed": false
   },
   "outputs": [
    {
     "data": {
      "text/html": [
       "<table>\n",
       "<thead><tr><th scope=col>name</th><th scope=col>year</th><th scope=col>length_min</th><th scope=col>genre</th><th scope=col>average_rating</th><th scope=col>cost_millions</th><th scope=col>foreign</th><th scope=col>age_restriction</th></tr></thead>\n",
       "<tbody>\n",
       "\t<tr><td>Toy Story                                </td><td>1995                                     </td><td> 81                                      </td><td>Animation                                </td><td>8.3                                      </td><td> 30.0                                    </td><td>0                                        </td><td> 0                                       </td></tr>\n",
       "\t<tr><td>Akira                                    </td><td>1998                                     </td><td>125                                      </td><td>Animation                                </td><td>8.1                                      </td><td> 10.4                                    </td><td>1                                        </td><td>14                                       </td></tr>\n",
       "\t<tr><td>The Breakfast Club                       </td><td>1985                                     </td><td> 97                                      </td><td>Drama                                    </td><td>7.9                                      </td><td>  1.0                                    </td><td>0                                        </td><td>14                                       </td></tr>\n",
       "\t<tr><td>The Artist                               </td><td>2011                                     </td><td>100                                      </td><td>Romance                                  </td><td>8.0                                      </td><td> 15.0                                    </td><td>1                                        </td><td>12                                       </td></tr>\n",
       "\t<tr><td>Modern Times                             </td><td>1936                                     </td><td> 87                                      </td><td>Comedy                                   </td><td>8.6                                      </td><td>  1.5                                    </td><td>0                                        </td><td>10                                       </td></tr>\n",
       "\t<tr><td>Fight Club                               </td><td>1999                                     </td><td>139                                      </td><td>Drama                                    </td><td>8.9                                      </td><td> 63.0                                    </td><td>0                                        </td><td>18                                       </td></tr>\n",
       "\t<tr><td>City of God                              </td><td>2002                                     </td><td>130                                      </td><td>Crime                                    </td><td>8.7                                      </td><td>  3.3                                    </td><td>1                                        </td><td>18                                       </td></tr>\n",
       "\t<tr><td>The Untouchables                         </td><td>1987                                     </td><td>119                                      </td><td>Drama                                    </td><td>7.9                                      </td><td> 25.0                                    </td><td>0                                        </td><td>14                                       </td></tr>\n",
       "\t<tr><td>Star Wars Episode IV                     </td><td>1977                                     </td><td>121                                      </td><td>Action                                   </td><td>8.7                                      </td><td> 11.0                                    </td><td>0                                        </td><td>10                                       </td></tr>\n",
       "\t<tr><td>American Beauty                          </td><td>1999                                     </td><td>122                                      </td><td>Drama                                    </td><td>8.4                                      </td><td> 15.0                                    </td><td>0                                        </td><td>14                                       </td></tr>\n",
       "\t<tr><td>Room                                     </td><td>2015                                     </td><td>118                                      </td><td>Drama                                    </td><td>8.3                                      </td><td> 13.0                                    </td><td>1                                        </td><td>14                                       </td></tr>\n",
       "\t<tr><td>Dr. Strangelove                          </td><td>1964                                     </td><td> 94                                      </td><td>Comedy                                   </td><td>8.5                                      </td><td>  1.8                                    </td><td>1                                        </td><td>10                                       </td></tr>\n",
       "\t<tr><td>The Ring                                 </td><td>1998                                     </td><td> 95                                      </td><td>Horror                                   </td><td>7.3                                      </td><td>  1.2                                    </td><td>1                                        </td><td>18                                       </td></tr>\n",
       "\t<tr><td>Monty Python and the Holy Grail          </td><td>1975                                     </td><td> 91                                      </td><td>Comedy                                   </td><td>8.3                                      </td><td>  0.4                                    </td><td>1                                        </td><td>18                                       </td></tr>\n",
       "\t<tr><td>High School Musical                      </td><td>2006                                     </td><td> 98                                      </td><td>Comedy                                   </td><td>5.2                                      </td><td>  4.2                                    </td><td>0                                        </td><td> 0                                       </td></tr>\n",
       "\t<tr><td>Shaun of the Dead                        </td><td>2004                                     </td><td> 99                                      </td><td>Horror                                   </td><td>8.0                                      </td><td>  6.1                                    </td><td>1                                        </td><td>18                                       </td></tr>\n",
       "\t<tr><td>Taxi Driver                              </td><td>1976                                     </td><td>113                                      </td><td>Crime                                    </td><td>8.3                                      </td><td>  1.3                                    </td><td>1                                        </td><td>14                                       </td></tr>\n",
       "\t<tr><td>The Shawshank Redemption                 </td><td>1994                                     </td><td>142                                      </td><td>Crime                                    </td><td>9.3                                      </td><td> 25.0                                    </td><td>0                                        </td><td>16                                       </td></tr>\n",
       "\t<tr><td>Interstellar                             </td><td>2014                                     </td><td>169                                      </td><td>Adventure                                </td><td>8.6                                      </td><td>165.0                                    </td><td>0                                        </td><td>10                                       </td></tr>\n",
       "\t<tr><td>Casino                                   </td><td>1995                                     </td><td>178                                      </td><td>Biography                                </td><td>8.2                                      </td><td> 50.0                                    </td><td>0                                        </td><td>18                                       </td></tr>\n",
       "\t<tr><td>The Goodfellas                           </td><td>1990                                     </td><td>145                                      </td><td>Biography                                </td><td>8.7                                      </td><td> 25.0                                    </td><td>0                                        </td><td>14                                       </td></tr>\n",
       "\t<tr><td>Blue is the Warmest Colour               </td><td>2013                                     </td><td>179                                      </td><td>Romance                                  </td><td>7.8                                      </td><td>  4.5                                    </td><td>1                                        </td><td>18                                       </td></tr>\n",
       "\t<tr><td>Black Swan                               </td><td>2010                                     </td><td>108                                      </td><td>Thriller                                 </td><td>8.0                                      </td><td> 13.0                                    </td><td>0                                        </td><td>16                                       </td></tr>\n",
       "\t<tr><td>Back to the Future                       </td><td>1985                                     </td><td>116                                      </td><td>Sci-fi                                   </td><td>8.5                                      </td><td> 19.0                                    </td><td>0                                        </td><td> 0                                       </td></tr>\n",
       "\t<tr><td>The Wave                                 </td><td>2008                                     </td><td>107                                      </td><td>Thriller                                 </td><td>7.6                                      </td><td>  5.5                                    </td><td>1                                        </td><td>16                                       </td></tr>\n",
       "\t<tr><td>Whiplash                                 </td><td>2014                                     </td><td>106                                      </td><td>Drama                                    </td><td>8.5                                      </td><td>  3.3                                    </td><td>1                                        </td><td>12                                       </td></tr>\n",
       "\t<tr><td>The Grand Hotel Budapest                 </td><td>2014                                     </td><td>100                                      </td><td>Crime                                    </td><td>8.1                                      </td><td> 25.5                                    </td><td>0                                        </td><td>14                                       </td></tr>\n",
       "\t<tr><td>Jumanji                                  </td><td>1995                                     </td><td>104                                      </td><td>Fantasy                                  </td><td>6.9                                      </td><td> 65.0                                    </td><td>0                                        </td><td>12                                       </td></tr>\n",
       "\t<tr><td>The Eternal Sunshine of the Spotless Mind</td><td>2004                                     </td><td>108                                      </td><td>Drama                                    </td><td>8.3                                      </td><td> 20.0                                    </td><td>0                                        </td><td>14                                       </td></tr>\n",
       "\t<tr><td>Chicago                                  </td><td>2002                                     </td><td>113                                      </td><td>Comedy                                   </td><td>7.2                                      </td><td> 45.0                                    </td><td>0                                        </td><td>12                                       </td></tr>\n",
       "</tbody>\n",
       "</table>\n"
      ],
      "text/latex": [
       "\\begin{tabular}{r|llllllll}\n",
       " name & year & length\\_min & genre & average\\_rating & cost\\_millions & foreign & age\\_restriction\\\\\n",
       "\\hline\n",
       "\t Toy Story                                 & 1995                                      &  81                                       & Animation                                 & 8.3                                       &  30.0                                     & 0                                         &  0                                       \\\\\n",
       "\t Akira                                     & 1998                                      & 125                                       & Animation                                 & 8.1                                       &  10.4                                     & 1                                         & 14                                       \\\\\n",
       "\t The Breakfast Club                        & 1985                                      &  97                                       & Drama                                     & 7.9                                       &   1.0                                     & 0                                         & 14                                       \\\\\n",
       "\t The Artist                                & 2011                                      & 100                                       & Romance                                   & 8.0                                       &  15.0                                     & 1                                         & 12                                       \\\\\n",
       "\t Modern Times                              & 1936                                      &  87                                       & Comedy                                    & 8.6                                       &   1.5                                     & 0                                         & 10                                       \\\\\n",
       "\t Fight Club                                & 1999                                      & 139                                       & Drama                                     & 8.9                                       &  63.0                                     & 0                                         & 18                                       \\\\\n",
       "\t City of God                               & 2002                                      & 130                                       & Crime                                     & 8.7                                       &   3.3                                     & 1                                         & 18                                       \\\\\n",
       "\t The Untouchables                          & 1987                                      & 119                                       & Drama                                     & 7.9                                       &  25.0                                     & 0                                         & 14                                       \\\\\n",
       "\t Star Wars Episode IV                      & 1977                                      & 121                                       & Action                                    & 8.7                                       &  11.0                                     & 0                                         & 10                                       \\\\\n",
       "\t American Beauty                           & 1999                                      & 122                                       & Drama                                     & 8.4                                       &  15.0                                     & 0                                         & 14                                       \\\\\n",
       "\t Room                                      & 2015                                      & 118                                       & Drama                                     & 8.3                                       &  13.0                                     & 1                                         & 14                                       \\\\\n",
       "\t Dr. Strangelove                           & 1964                                      &  94                                       & Comedy                                    & 8.5                                       &   1.8                                     & 1                                         & 10                                       \\\\\n",
       "\t The Ring                                  & 1998                                      &  95                                       & Horror                                    & 7.3                                       &   1.2                                     & 1                                         & 18                                       \\\\\n",
       "\t Monty Python and the Holy Grail           & 1975                                      &  91                                       & Comedy                                    & 8.3                                       &   0.4                                     & 1                                         & 18                                       \\\\\n",
       "\t High School Musical                       & 2006                                      &  98                                       & Comedy                                    & 5.2                                       &   4.2                                     & 0                                         &  0                                       \\\\\n",
       "\t Shaun of the Dead                         & 2004                                      &  99                                       & Horror                                    & 8.0                                       &   6.1                                     & 1                                         & 18                                       \\\\\n",
       "\t Taxi Driver                               & 1976                                      & 113                                       & Crime                                     & 8.3                                       &   1.3                                     & 1                                         & 14                                       \\\\\n",
       "\t The Shawshank Redemption                  & 1994                                      & 142                                       & Crime                                     & 9.3                                       &  25.0                                     & 0                                         & 16                                       \\\\\n",
       "\t Interstellar                              & 2014                                      & 169                                       & Adventure                                 & 8.6                                       & 165.0                                     & 0                                         & 10                                       \\\\\n",
       "\t Casino                                    & 1995                                      & 178                                       & Biography                                 & 8.2                                       &  50.0                                     & 0                                         & 18                                       \\\\\n",
       "\t The Goodfellas                            & 1990                                      & 145                                       & Biography                                 & 8.7                                       &  25.0                                     & 0                                         & 14                                       \\\\\n",
       "\t Blue is the Warmest Colour                & 2013                                      & 179                                       & Romance                                   & 7.8                                       &   4.5                                     & 1                                         & 18                                       \\\\\n",
       "\t Black Swan                                & 2010                                      & 108                                       & Thriller                                  & 8.0                                       &  13.0                                     & 0                                         & 16                                       \\\\\n",
       "\t Back to the Future                        & 1985                                      & 116                                       & Sci-fi                                    & 8.5                                       &  19.0                                     & 0                                         &  0                                       \\\\\n",
       "\t The Wave                                  & 2008                                      & 107                                       & Thriller                                  & 7.6                                       &   5.5                                     & 1                                         & 16                                       \\\\\n",
       "\t Whiplash                                  & 2014                                      & 106                                       & Drama                                     & 8.5                                       &   3.3                                     & 1                                         & 12                                       \\\\\n",
       "\t The Grand Hotel Budapest                  & 2014                                      & 100                                       & Crime                                     & 8.1                                       &  25.5                                     & 0                                         & 14                                       \\\\\n",
       "\t Jumanji                                   & 1995                                      & 104                                       & Fantasy                                   & 6.9                                       &  65.0                                     & 0                                         & 12                                       \\\\\n",
       "\t The Eternal Sunshine of the Spotless Mind & 2004                                      & 108                                       & Drama                                     & 8.3                                       &  20.0                                     & 0                                         & 14                                       \\\\\n",
       "\t Chicago                                   & 2002                                      & 113                                       & Comedy                                    & 7.2                                       &  45.0                                     & 0                                         & 12                                       \\\\\n",
       "\\end{tabular}\n"
      ],
      "text/markdown": [
       "\n",
       "name | year | length_min | genre | average_rating | cost_millions | foreign | age_restriction | \n",
       "|---|---|---|---|---|---|---|---|---|---|---|---|---|---|---|---|---|---|---|---|---|---|---|---|---|---|---|---|---|---|\n",
       "| Toy Story                                 | 1995                                      |  81                                       | Animation                                 | 8.3                                       |  30.0                                     | 0                                         |  0                                        | \n",
       "| Akira                                     | 1998                                      | 125                                       | Animation                                 | 8.1                                       |  10.4                                     | 1                                         | 14                                        | \n",
       "| The Breakfast Club                        | 1985                                      |  97                                       | Drama                                     | 7.9                                       |   1.0                                     | 0                                         | 14                                        | \n",
       "| The Artist                                | 2011                                      | 100                                       | Romance                                   | 8.0                                       |  15.0                                     | 1                                         | 12                                        | \n",
       "| Modern Times                              | 1936                                      |  87                                       | Comedy                                    | 8.6                                       |   1.5                                     | 0                                         | 10                                        | \n",
       "| Fight Club                                | 1999                                      | 139                                       | Drama                                     | 8.9                                       |  63.0                                     | 0                                         | 18                                        | \n",
       "| City of God                               | 2002                                      | 130                                       | Crime                                     | 8.7                                       |   3.3                                     | 1                                         | 18                                        | \n",
       "| The Untouchables                          | 1987                                      | 119                                       | Drama                                     | 7.9                                       |  25.0                                     | 0                                         | 14                                        | \n",
       "| Star Wars Episode IV                      | 1977                                      | 121                                       | Action                                    | 8.7                                       |  11.0                                     | 0                                         | 10                                        | \n",
       "| American Beauty                           | 1999                                      | 122                                       | Drama                                     | 8.4                                       |  15.0                                     | 0                                         | 14                                        | \n",
       "| Room                                      | 2015                                      | 118                                       | Drama                                     | 8.3                                       |  13.0                                     | 1                                         | 14                                        | \n",
       "| Dr. Strangelove                           | 1964                                      |  94                                       | Comedy                                    | 8.5                                       |   1.8                                     | 1                                         | 10                                        | \n",
       "| The Ring                                  | 1998                                      |  95                                       | Horror                                    | 7.3                                       |   1.2                                     | 1                                         | 18                                        | \n",
       "| Monty Python and the Holy Grail           | 1975                                      |  91                                       | Comedy                                    | 8.3                                       |   0.4                                     | 1                                         | 18                                        | \n",
       "| High School Musical                       | 2006                                      |  98                                       | Comedy                                    | 5.2                                       |   4.2                                     | 0                                         |  0                                        | \n",
       "| Shaun of the Dead                         | 2004                                      |  99                                       | Horror                                    | 8.0                                       |   6.1                                     | 1                                         | 18                                        | \n",
       "| Taxi Driver                               | 1976                                      | 113                                       | Crime                                     | 8.3                                       |   1.3                                     | 1                                         | 14                                        | \n",
       "| The Shawshank Redemption                  | 1994                                      | 142                                       | Crime                                     | 9.3                                       |  25.0                                     | 0                                         | 16                                        | \n",
       "| Interstellar                              | 2014                                      | 169                                       | Adventure                                 | 8.6                                       | 165.0                                     | 0                                         | 10                                        | \n",
       "| Casino                                    | 1995                                      | 178                                       | Biography                                 | 8.2                                       |  50.0                                     | 0                                         | 18                                        | \n",
       "| The Goodfellas                            | 1990                                      | 145                                       | Biography                                 | 8.7                                       |  25.0                                     | 0                                         | 14                                        | \n",
       "| Blue is the Warmest Colour                | 2013                                      | 179                                       | Romance                                   | 7.8                                       |   4.5                                     | 1                                         | 18                                        | \n",
       "| Black Swan                                | 2010                                      | 108                                       | Thriller                                  | 8.0                                       |  13.0                                     | 0                                         | 16                                        | \n",
       "| Back to the Future                        | 1985                                      | 116                                       | Sci-fi                                    | 8.5                                       |  19.0                                     | 0                                         |  0                                        | \n",
       "| The Wave                                  | 2008                                      | 107                                       | Thriller                                  | 7.6                                       |   5.5                                     | 1                                         | 16                                        | \n",
       "| Whiplash                                  | 2014                                      | 106                                       | Drama                                     | 8.5                                       |   3.3                                     | 1                                         | 12                                        | \n",
       "| The Grand Hotel Budapest                  | 2014                                      | 100                                       | Crime                                     | 8.1                                       |  25.5                                     | 0                                         | 14                                        | \n",
       "| Jumanji                                   | 1995                                      | 104                                       | Fantasy                                   | 6.9                                       |  65.0                                     | 0                                         | 12                                        | \n",
       "| The Eternal Sunshine of the Spotless Mind | 2004                                      | 108                                       | Drama                                     | 8.3                                       |  20.0                                     | 0                                         | 14                                        | \n",
       "| Chicago                                   | 2002                                      | 113                                       | Comedy                                    | 7.2                                       |  45.0                                     | 0                                         | 12                                        | \n",
       "\n",
       "\n"
      ],
      "text/plain": [
       "   name                                      year length_min genre    \n",
       "1  Toy Story                                 1995  81        Animation\n",
       "2  Akira                                     1998 125        Animation\n",
       "3  The Breakfast Club                        1985  97        Drama    \n",
       "4  The Artist                                2011 100        Romance  \n",
       "5  Modern Times                              1936  87        Comedy   \n",
       "6  Fight Club                                1999 139        Drama    \n",
       "7  City of God                               2002 130        Crime    \n",
       "8  The Untouchables                          1987 119        Drama    \n",
       "9  Star Wars Episode IV                      1977 121        Action   \n",
       "10 American Beauty                           1999 122        Drama    \n",
       "11 Room                                      2015 118        Drama    \n",
       "12 Dr. Strangelove                           1964  94        Comedy   \n",
       "13 The Ring                                  1998  95        Horror   \n",
       "14 Monty Python and the Holy Grail           1975  91        Comedy   \n",
       "15 High School Musical                       2006  98        Comedy   \n",
       "16 Shaun of the Dead                         2004  99        Horror   \n",
       "17 Taxi Driver                               1976 113        Crime    \n",
       "18 The Shawshank Redemption                  1994 142        Crime    \n",
       "19 Interstellar                              2014 169        Adventure\n",
       "20 Casino                                    1995 178        Biography\n",
       "21 The Goodfellas                            1990 145        Biography\n",
       "22 Blue is the Warmest Colour                2013 179        Romance  \n",
       "23 Black Swan                                2010 108        Thriller \n",
       "24 Back to the Future                        1985 116        Sci-fi   \n",
       "25 The Wave                                  2008 107        Thriller \n",
       "26 Whiplash                                  2014 106        Drama    \n",
       "27 The Grand Hotel Budapest                  2014 100        Crime    \n",
       "28 Jumanji                                   1995 104        Fantasy  \n",
       "29 The Eternal Sunshine of the Spotless Mind 2004 108        Drama    \n",
       "30 Chicago                                   2002 113        Comedy   \n",
       "   average_rating cost_millions foreign age_restriction\n",
       "1  8.3             30.0         0        0             \n",
       "2  8.1             10.4         1       14             \n",
       "3  7.9              1.0         0       14             \n",
       "4  8.0             15.0         1       12             \n",
       "5  8.6              1.5         0       10             \n",
       "6  8.9             63.0         0       18             \n",
       "7  8.7              3.3         1       18             \n",
       "8  7.9             25.0         0       14             \n",
       "9  8.7             11.0         0       10             \n",
       "10 8.4             15.0         0       14             \n",
       "11 8.3             13.0         1       14             \n",
       "12 8.5              1.8         1       10             \n",
       "13 7.3              1.2         1       18             \n",
       "14 8.3              0.4         1       18             \n",
       "15 5.2              4.2         0        0             \n",
       "16 8.0              6.1         1       18             \n",
       "17 8.3              1.3         1       14             \n",
       "18 9.3             25.0         0       16             \n",
       "19 8.6            165.0         0       10             \n",
       "20 8.2             50.0         0       18             \n",
       "21 8.7             25.0         0       14             \n",
       "22 7.8              4.5         1       18             \n",
       "23 8.0             13.0         0       16             \n",
       "24 8.5             19.0         0        0             \n",
       "25 7.6              5.5         1       16             \n",
       "26 8.5              3.3         1       12             \n",
       "27 8.1             25.5         0       14             \n",
       "28 6.9             65.0         0       12             \n",
       "29 8.3             20.0         0       14             \n",
       "30 7.2             45.0         0       12             "
      ]
     },
     "metadata": {},
     "output_type": "display_data"
    }
   ],
   "source": [
    "# Load the CSV table into the my_data variable.\n",
    "my_data <- read.csv(\"movies-db.csv\")\n",
    "my_data"
   ]
  },
  {
   "cell_type": "markdown",
   "metadata": {},
   "source": [
    "The data was loaded into the `my_data` variable. But instead of viewing all the data at once, we can use the `head` function to take a look at only the top six rows of our table, like so:"
   ]
  },
  {
   "cell_type": "code",
   "execution_count": 3,
   "metadata": {
    "collapsed": false
   },
   "outputs": [
    {
     "data": {
      "text/html": [
       "<table>\n",
       "<thead><tr><th scope=col>name</th><th scope=col>year</th><th scope=col>length_min</th><th scope=col>genre</th><th scope=col>average_rating</th><th scope=col>cost_millions</th><th scope=col>foreign</th><th scope=col>age_restriction</th></tr></thead>\n",
       "<tbody>\n",
       "\t<tr><td>Toy Story         </td><td>1995              </td><td> 81               </td><td>Animation         </td><td>8.3               </td><td>30.0              </td><td>0                 </td><td> 0                </td></tr>\n",
       "\t<tr><td>Akira             </td><td>1998              </td><td>125               </td><td>Animation         </td><td>8.1               </td><td>10.4              </td><td>1                 </td><td>14                </td></tr>\n",
       "\t<tr><td>The Breakfast Club</td><td>1985              </td><td> 97               </td><td>Drama             </td><td>7.9               </td><td> 1.0              </td><td>0                 </td><td>14                </td></tr>\n",
       "\t<tr><td>The Artist        </td><td>2011              </td><td>100               </td><td>Romance           </td><td>8.0               </td><td>15.0              </td><td>1                 </td><td>12                </td></tr>\n",
       "\t<tr><td>Modern Times      </td><td>1936              </td><td> 87               </td><td>Comedy            </td><td>8.6               </td><td> 1.5              </td><td>0                 </td><td>10                </td></tr>\n",
       "\t<tr><td>Fight Club        </td><td>1999              </td><td>139               </td><td>Drama             </td><td>8.9               </td><td>63.0              </td><td>0                 </td><td>18                </td></tr>\n",
       "</tbody>\n",
       "</table>\n"
      ],
      "text/latex": [
       "\\begin{tabular}{r|llllllll}\n",
       " name & year & length\\_min & genre & average\\_rating & cost\\_millions & foreign & age\\_restriction\\\\\n",
       "\\hline\n",
       "\t Toy Story          & 1995               &  81                & Animation          & 8.3                & 30.0               & 0                  &  0                \\\\\n",
       "\t Akira              & 1998               & 125                & Animation          & 8.1                & 10.4               & 1                  & 14                \\\\\n",
       "\t The Breakfast Club & 1985               &  97                & Drama              & 7.9                &  1.0               & 0                  & 14                \\\\\n",
       "\t The Artist         & 2011               & 100                & Romance            & 8.0                & 15.0               & 1                  & 12                \\\\\n",
       "\t Modern Times       & 1936               &  87                & Comedy             & 8.6                &  1.5               & 0                  & 10                \\\\\n",
       "\t Fight Club         & 1999               & 139                & Drama              & 8.9                & 63.0               & 0                  & 18                \\\\\n",
       "\\end{tabular}\n"
      ],
      "text/markdown": [
       "\n",
       "name | year | length_min | genre | average_rating | cost_millions | foreign | age_restriction | \n",
       "|---|---|---|---|---|---|\n",
       "| Toy Story          | 1995               |  81                | Animation          | 8.3                | 30.0               | 0                  |  0                 | \n",
       "| Akira              | 1998               | 125                | Animation          | 8.1                | 10.4               | 1                  | 14                 | \n",
       "| The Breakfast Club | 1985               |  97                | Drama              | 7.9                |  1.0               | 0                  | 14                 | \n",
       "| The Artist         | 2011               | 100                | Romance            | 8.0                | 15.0               | 1                  | 12                 | \n",
       "| Modern Times       | 1936               |  87                | Comedy             | 8.6                |  1.5               | 0                  | 10                 | \n",
       "| Fight Club         | 1999               | 139                | Drama              | 8.9                | 63.0               | 0                  | 18                 | \n",
       "\n",
       "\n"
      ],
      "text/plain": [
       "  name               year length_min genre     average_rating cost_millions\n",
       "1 Toy Story          1995  81        Animation 8.3            30.0         \n",
       "2 Akira              1998 125        Animation 8.1            10.4         \n",
       "3 The Breakfast Club 1985  97        Drama     7.9             1.0         \n",
       "4 The Artist         2011 100        Romance   8.0            15.0         \n",
       "5 Modern Times       1936  87        Comedy    8.6             1.5         \n",
       "6 Fight Club         1999 139        Drama     8.9            63.0         \n",
       "  foreign age_restriction\n",
       "1 0        0             \n",
       "2 1       14             \n",
       "3 0       14             \n",
       "4 1       12             \n",
       "5 0       10             \n",
       "6 0       18             "
      ]
     },
     "metadata": {},
     "output_type": "display_data"
    }
   ],
   "source": [
    "# Print out the first six rows of my_data\n",
    "head(my_data)"
   ]
  },
  {
   "cell_type": "markdown",
   "metadata": {},
   "source": [
    "Additionally, you may want to take a look at the **structure** of your newly created table. R provides us with a function that summarizes an entire table's properties, called `str`. Let's try it out."
   ]
  },
  {
   "cell_type": "code",
   "execution_count": 4,
   "metadata": {
    "collapsed": false
   },
   "outputs": [
    {
     "name": "stdout",
     "output_type": "stream",
     "text": [
      "'data.frame':\t30 obs. of  8 variables:\n",
      " $ name           : Factor w/ 30 levels \"Akira\",\"American Beauty\",..: 29 1 21 20 14 10 8 27 18 2 ...\n",
      " $ year           : int  1995 1998 1985 2011 1936 1999 2002 1987 1977 1999 ...\n",
      " $ length_min     : int  81 125 97 100 87 139 130 119 121 122 ...\n",
      " $ genre          : Factor w/ 12 levels \"Action\",\"Adventure\",..: 3 3 7 10 5 7 6 7 1 7 ...\n",
      " $ average_rating : num  8.3 8.1 7.9 8 8.6 8.9 8.7 7.9 8.7 8.4 ...\n",
      " $ cost_millions  : num  30 10.4 1 15 1.5 63 3.3 25 11 15 ...\n",
      " $ foreign        : int  0 1 0 1 0 0 1 0 0 0 ...\n",
      " $ age_restriction: int  0 14 14 12 10 18 18 14 10 14 ...\n"
     ]
    }
   ],
   "source": [
    "# Prints out the structure of your table.\n",
    "str(my_data)"
   ]
  },
  {
   "cell_type": "markdown",
   "metadata": {},
   "source": [
    "When we loaded the file with the `read.csv` function, we had to only pass it one parameter -- the **path** to our desired file.\n",
    "\n",
    "If you're using Data Scientist Workbench, it is simple to find the path to your uploaded file. In the **Recent Data** section in the sidebar on the right, you can click the arrow to the left of the filename to see extra options -- one of these commands should be **Insert Path**, which automatically copies the path to your file into Jupyter Notebooks."
   ]
  },
  {
   "cell_type": "markdown",
   "metadata": {},
   "source": [
    "-----------------"
   ]
  },
  {
   "cell_type": "markdown",
   "metadata": {},
   "source": [
    "<a id=\"ref2\"></a>\n",
    "<center><h2>Reading Excel Files</h2></center>"
   ]
  },
  {
   "cell_type": "markdown",
   "metadata": {},
   "source": [
    "Reading XLS (Excel Spreadsheet) files is similar to reading CSV files, but there's one catch -- R does not have a native function to read them. However, thankfully, R has an extremely large repository of user-created functions, called *CRAN*. From there, we can download a library package to make us able to read XLS files.\n",
    "\n",
    "To download a package, we use the `install.packages` function. Once installed, you do not need to install that same library ever again, unless, of course, you uninstall it."
   ]
  },
  {
   "cell_type": "code",
   "execution_count": 5,
   "metadata": {
    "collapsed": false
   },
   "outputs": [
    {
     "name": "stderr",
     "output_type": "stream",
     "text": [
      "also installing the dependencies ‘prettyunits’, ‘progress’\n",
      "\n",
      "Warning message in install.packages(\"readxl\"):\n",
      "“installation of package ‘readxl’ had non-zero exit status”Updating HTML index of packages in '.Library'\n",
      "Making 'packages.html' ... done\n"
     ]
    }
   ],
   "source": [
    "# Download and install the \"readxl\" library\n",
    "install.packages(\"readxl\")"
   ]
  },
  {
   "cell_type": "markdown",
   "metadata": {},
   "source": [
    "Whenever you are going to use a library that is not native to R, you have to load it into the R environment after you install it. In other words, you need to install once only, but to use it, you must load it into R for every new session. To do so, use the `library` function, which loads up everything we can use in that library into R."
   ]
  },
  {
   "cell_type": "code",
   "execution_count": 6,
   "metadata": {
    "collapsed": false
   },
   "outputs": [],
   "source": [
    "# Load the \"readxl\" library into the R environment.\n",
    "library(readxl)"
   ]
  },
  {
   "cell_type": "markdown",
   "metadata": {},
   "source": [
    "Now that we have our library and its functions ready, we can move on to actually reading the file. In `readxl`, there is a function called `read_excel`, which does all the work for us. You can use it like this:"
   ]
  },
  {
   "cell_type": "code",
   "execution_count": 7,
   "metadata": {
    "collapsed": false
   },
   "outputs": [],
   "source": [
    "# Read data from the XLS file and attribute the table to the my_excel_data variable.\n",
    "my_excel_data <- read_excel(\"movies-db.xls\")"
   ]
  },
  {
   "cell_type": "markdown",
   "metadata": {},
   "source": [
    "Since `my_excel_data` is now a dataframe in R, much like the one we created out of the CSV file, all of the native R functions can be applied to it, like `head` and `str`."
   ]
  },
  {
   "cell_type": "code",
   "execution_count": 8,
   "metadata": {
    "collapsed": false
   },
   "outputs": [
    {
     "name": "stdout",
     "output_type": "stream",
     "text": [
      "Classes ‘tbl_df’, ‘tbl’ and 'data.frame':\t30 obs. of  8 variables:\n",
      " $ name           : chr  \"Toy Story\" \"Akira\" \"The Breakfast Club\" \"The Artist\" ...\n",
      " $ year           : num  1995 1998 1985 2011 1936 ...\n",
      " $ length_min     : num  81 125 97 100 87 139 130 119 121 122 ...\n",
      " $ genre          : chr  \"Animation\" \"Animation\" \"Drama\" \"Romance\" ...\n",
      " $ average_rating : num  8.3 8.1 7.9 8 8.6 8.9 8.7 7.9 8.7 8.4 ...\n",
      " $ cost_millions  : num  30 10.4 1 15 1.5 63 3.3 25 11 15 ...\n",
      " $ foreign        : num  0 1 0 1 0 0 1 0 0 0 ...\n",
      " $ age_restriction: num  0 14 14 12 10 18 18 14 10 14 ...\n"
     ]
    },
    {
     "data": {
      "text/html": [
       "<table>\n",
       "<thead><tr><th scope=col>name</th><th scope=col>year</th><th scope=col>length_min</th><th scope=col>genre</th><th scope=col>average_rating</th><th scope=col>cost_millions</th><th scope=col>foreign</th><th scope=col>age_restriction</th></tr></thead>\n",
       "<tbody>\n",
       "\t<tr><td>Toy Story         </td><td>1995              </td><td> 81               </td><td>Animation         </td><td>8.3               </td><td>30.0              </td><td>0                 </td><td> 0                </td></tr>\n",
       "\t<tr><td>Akira             </td><td>1998              </td><td>125               </td><td>Animation         </td><td>8.1               </td><td>10.4              </td><td>1                 </td><td>14                </td></tr>\n",
       "\t<tr><td>The Breakfast Club</td><td>1985              </td><td> 97               </td><td>Drama             </td><td>7.9               </td><td> 1.0              </td><td>0                 </td><td>14                </td></tr>\n",
       "\t<tr><td>The Artist        </td><td>2011              </td><td>100               </td><td>Romance           </td><td>8.0               </td><td>15.0              </td><td>1                 </td><td>12                </td></tr>\n",
       "\t<tr><td>Modern Times      </td><td>1936              </td><td> 87               </td><td>Comedy            </td><td>8.6               </td><td> 1.5              </td><td>0                 </td><td>10                </td></tr>\n",
       "\t<tr><td>Fight Club        </td><td>1999              </td><td>139               </td><td>Drama             </td><td>8.9               </td><td>63.0              </td><td>0                 </td><td>18                </td></tr>\n",
       "</tbody>\n",
       "</table>\n"
      ],
      "text/latex": [
       "\\begin{tabular}{r|llllllll}\n",
       " name & year & length\\_min & genre & average\\_rating & cost\\_millions & foreign & age\\_restriction\\\\\n",
       "\\hline\n",
       "\t Toy Story          & 1995               &  81                & Animation          & 8.3                & 30.0               & 0                  &  0                \\\\\n",
       "\t Akira              & 1998               & 125                & Animation          & 8.1                & 10.4               & 1                  & 14                \\\\\n",
       "\t The Breakfast Club & 1985               &  97                & Drama              & 7.9                &  1.0               & 0                  & 14                \\\\\n",
       "\t The Artist         & 2011               & 100                & Romance            & 8.0                & 15.0               & 1                  & 12                \\\\\n",
       "\t Modern Times       & 1936               &  87                & Comedy             & 8.6                &  1.5               & 0                  & 10                \\\\\n",
       "\t Fight Club         & 1999               & 139                & Drama              & 8.9                & 63.0               & 0                  & 18                \\\\\n",
       "\\end{tabular}\n"
      ],
      "text/markdown": [
       "\n",
       "name | year | length_min | genre | average_rating | cost_millions | foreign | age_restriction | \n",
       "|---|---|---|---|---|---|\n",
       "| Toy Story          | 1995               |  81                | Animation          | 8.3                | 30.0               | 0                  |  0                 | \n",
       "| Akira              | 1998               | 125                | Animation          | 8.1                | 10.4               | 1                  | 14                 | \n",
       "| The Breakfast Club | 1985               |  97                | Drama              | 7.9                |  1.0               | 0                  | 14                 | \n",
       "| The Artist         | 2011               | 100                | Romance            | 8.0                | 15.0               | 1                  | 12                 | \n",
       "| Modern Times       | 1936               |  87                | Comedy             | 8.6                |  1.5               | 0                  | 10                 | \n",
       "| Fight Club         | 1999               | 139                | Drama              | 8.9                | 63.0               | 0                  | 18                 | \n",
       "\n",
       "\n"
      ],
      "text/plain": [
       "  name               year length_min genre     average_rating cost_millions\n",
       "1 Toy Story          1995  81        Animation 8.3            30.0         \n",
       "2 Akira              1998 125        Animation 8.1            10.4         \n",
       "3 The Breakfast Club 1985  97        Drama     7.9             1.0         \n",
       "4 The Artist         2011 100        Romance   8.0            15.0         \n",
       "5 Modern Times       1936  87        Comedy    8.6             1.5         \n",
       "6 Fight Club         1999 139        Drama     8.9            63.0         \n",
       "  foreign age_restriction\n",
       "1 0        0             \n",
       "2 1       14             \n",
       "3 0       14             \n",
       "4 1       12             \n",
       "5 0       10             \n",
       "6 0       18             "
      ]
     },
     "metadata": {},
     "output_type": "display_data"
    }
   ],
   "source": [
    "# Prints out the structure of your table.\n",
    "# Tells you how many rows and columns there are, and the names and type of each column.\n",
    "# This should be the very same as the other table we created, as they are the same dataset.\n",
    "str(my_excel_data)\n",
    "head(my_excel_data)    # Recommend always looking at the data file as well"
   ]
  },
  {
   "cell_type": "markdown",
   "metadata": {},
   "source": [
    "Much like the `read.csv` function, `read_excel` takes as its main parameter the **path** to the desired file."
   ]
  },
  {
   "cell_type": "markdown",
   "metadata": {},
   "source": [
    "<div class=\"alert alert-success alertsuccess\">\n",
    "<b>[Tip]</b>   \n",
    "A **Library** is basically a collection of different classes and functions which are used to perform some specific operations. You can install and use libraries to add more functions that are not included on the core R files.\n",
    "For example, the **readxl** library adds functions to read data from excel files.\n",
    "<br><br>\n",
    "It's important to know that there are many other libraries too which can be used for a variety of things. There are also plenty of other libraries to read Excel files -- readxl is just one of them.\n",
    "</div>"
   ]
  },
  {
   "cell_type": "markdown",
   "metadata": {},
   "source": [
    "-----------------"
   ]
  },
  {
   "cell_type": "markdown",
   "metadata": {},
   "source": [
    "<center><h2>Accessing Rows and Columns</h2></center>"
   ]
  },
  {
   "cell_type": "markdown",
   "metadata": {},
   "source": [
    "Whenever we use functions to read tabular data in R, the default method of structuring this data in the R environment is using Data Frames -- R's primary data structure. Data Frames are extremely versatile, and R presents us many options to manipulate them.\n",
    "\n",
    "Suppose we want to access the \"name\" column of our dataset. We can directly reference the column name on our data frame to retrieve this data, like this:"
   ]
  },
  {
   "cell_type": "code",
   "execution_count": 9,
   "metadata": {
    "collapsed": false
   },
   "outputs": [
    {
     "data": {
      "text/html": [
       "<table>\n",
       "<thead><tr><th scope=col>name</th></tr></thead>\n",
       "<tbody>\n",
       "\t<tr><td>Toy Story                                </td></tr>\n",
       "\t<tr><td>Akira                                    </td></tr>\n",
       "\t<tr><td>The Breakfast Club                       </td></tr>\n",
       "\t<tr><td>The Artist                               </td></tr>\n",
       "\t<tr><td>Modern Times                             </td></tr>\n",
       "\t<tr><td>Fight Club                               </td></tr>\n",
       "\t<tr><td>City of God                              </td></tr>\n",
       "\t<tr><td>The Untouchables                         </td></tr>\n",
       "\t<tr><td>Star Wars Episode IV                     </td></tr>\n",
       "\t<tr><td>American Beauty                          </td></tr>\n",
       "\t<tr><td>Room                                     </td></tr>\n",
       "\t<tr><td>Dr. Strangelove                          </td></tr>\n",
       "\t<tr><td>The Ring                                 </td></tr>\n",
       "\t<tr><td>Monty Python and the Holy Grail          </td></tr>\n",
       "\t<tr><td>High School Musical                      </td></tr>\n",
       "\t<tr><td>Shaun of the Dead                        </td></tr>\n",
       "\t<tr><td>Taxi Driver                              </td></tr>\n",
       "\t<tr><td>The Shawshank Redemption                 </td></tr>\n",
       "\t<tr><td>Interstellar                             </td></tr>\n",
       "\t<tr><td>Casino                                   </td></tr>\n",
       "\t<tr><td>The Goodfellas                           </td></tr>\n",
       "\t<tr><td>Blue is the Warmest Colour               </td></tr>\n",
       "\t<tr><td>Black Swan                               </td></tr>\n",
       "\t<tr><td>Back to the Future                       </td></tr>\n",
       "\t<tr><td>The Wave                                 </td></tr>\n",
       "\t<tr><td>Whiplash                                 </td></tr>\n",
       "\t<tr><td>The Grand Hotel Budapest                 </td></tr>\n",
       "\t<tr><td>Jumanji                                  </td></tr>\n",
       "\t<tr><td>The Eternal Sunshine of the Spotless Mind</td></tr>\n",
       "\t<tr><td>Chicago                                  </td></tr>\n",
       "</tbody>\n",
       "</table>\n"
      ],
      "text/latex": [
       "\\begin{tabular}{r|l}\n",
       " name\\\\\n",
       "\\hline\n",
       "\t Toy Story                                \\\\\n",
       "\t Akira                                    \\\\\n",
       "\t The Breakfast Club                       \\\\\n",
       "\t The Artist                               \\\\\n",
       "\t Modern Times                             \\\\\n",
       "\t Fight Club                               \\\\\n",
       "\t City of God                              \\\\\n",
       "\t The Untouchables                         \\\\\n",
       "\t Star Wars Episode IV                     \\\\\n",
       "\t American Beauty                          \\\\\n",
       "\t Room                                     \\\\\n",
       "\t Dr. Strangelove                          \\\\\n",
       "\t The Ring                                 \\\\\n",
       "\t Monty Python and the Holy Grail          \\\\\n",
       "\t High School Musical                      \\\\\n",
       "\t Shaun of the Dead                        \\\\\n",
       "\t Taxi Driver                              \\\\\n",
       "\t The Shawshank Redemption                 \\\\\n",
       "\t Interstellar                             \\\\\n",
       "\t Casino                                   \\\\\n",
       "\t The Goodfellas                           \\\\\n",
       "\t Blue is the Warmest Colour               \\\\\n",
       "\t Black Swan                               \\\\\n",
       "\t Back to the Future                       \\\\\n",
       "\t The Wave                                 \\\\\n",
       "\t Whiplash                                 \\\\\n",
       "\t The Grand Hotel Budapest                 \\\\\n",
       "\t Jumanji                                  \\\\\n",
       "\t The Eternal Sunshine of the Spotless Mind\\\\\n",
       "\t Chicago                                  \\\\\n",
       "\\end{tabular}\n"
      ],
      "text/markdown": [
       "\n",
       "name | \n",
       "|---|---|---|---|---|---|---|---|---|---|---|---|---|---|---|---|---|---|---|---|---|---|---|---|---|---|---|---|---|---|\n",
       "| Toy Story                                 | \n",
       "| Akira                                     | \n",
       "| The Breakfast Club                        | \n",
       "| The Artist                                | \n",
       "| Modern Times                              | \n",
       "| Fight Club                                | \n",
       "| City of God                               | \n",
       "| The Untouchables                          | \n",
       "| Star Wars Episode IV                      | \n",
       "| American Beauty                           | \n",
       "| Room                                      | \n",
       "| Dr. Strangelove                           | \n",
       "| The Ring                                  | \n",
       "| Monty Python and the Holy Grail           | \n",
       "| High School Musical                       | \n",
       "| Shaun of the Dead                         | \n",
       "| Taxi Driver                               | \n",
       "| The Shawshank Redemption                  | \n",
       "| Interstellar                              | \n",
       "| Casino                                    | \n",
       "| The Goodfellas                            | \n",
       "| Blue is the Warmest Colour                | \n",
       "| Black Swan                                | \n",
       "| Back to the Future                        | \n",
       "| The Wave                                  | \n",
       "| Whiplash                                  | \n",
       "| The Grand Hotel Budapest                  | \n",
       "| Jumanji                                   | \n",
       "| The Eternal Sunshine of the Spotless Mind | \n",
       "| Chicago                                   | \n",
       "\n",
       "\n"
      ],
      "text/plain": [
       "   name                                     \n",
       "1  Toy Story                                \n",
       "2  Akira                                    \n",
       "3  The Breakfast Club                       \n",
       "4  The Artist                               \n",
       "5  Modern Times                             \n",
       "6  Fight Club                               \n",
       "7  City of God                              \n",
       "8  The Untouchables                         \n",
       "9  Star Wars Episode IV                     \n",
       "10 American Beauty                          \n",
       "11 Room                                     \n",
       "12 Dr. Strangelove                          \n",
       "13 The Ring                                 \n",
       "14 Monty Python and the Holy Grail          \n",
       "15 High School Musical                      \n",
       "16 Shaun of the Dead                        \n",
       "17 Taxi Driver                              \n",
       "18 The Shawshank Redemption                 \n",
       "19 Interstellar                             \n",
       "20 Casino                                   \n",
       "21 The Goodfellas                           \n",
       "22 Blue is the Warmest Colour               \n",
       "23 Black Swan                               \n",
       "24 Back to the Future                       \n",
       "25 The Wave                                 \n",
       "26 Whiplash                                 \n",
       "27 The Grand Hotel Budapest                 \n",
       "28 Jumanji                                  \n",
       "29 The Eternal Sunshine of the Spotless Mind\n",
       "30 Chicago                                  "
      ]
     },
     "metadata": {},
     "output_type": "display_data"
    }
   ],
   "source": [
    "# Retrieve a subset of the data frame consisting of the \"name\" columns\n",
    "my_data['name']"
   ]
  },
  {
   "cell_type": "markdown",
   "metadata": {},
   "source": [
    "Another way to do this is by using the `$` notation which at the output will provide a vector:"
   ]
  },
  {
   "cell_type": "code",
   "execution_count": 10,
   "metadata": {
    "collapsed": false
   },
   "outputs": [
    {
     "data": {
      "text/html": [
       "<ol class=list-inline>\n",
       "\t<li>Toy Story</li>\n",
       "\t<li>Akira</li>\n",
       "\t<li>The Breakfast Club</li>\n",
       "\t<li>The Artist</li>\n",
       "\t<li>Modern Times</li>\n",
       "\t<li>Fight Club</li>\n",
       "\t<li>City of God</li>\n",
       "\t<li>The Untouchables</li>\n",
       "\t<li>Star Wars Episode IV</li>\n",
       "\t<li>American Beauty</li>\n",
       "\t<li>Room</li>\n",
       "\t<li>Dr. Strangelove</li>\n",
       "\t<li>The Ring</li>\n",
       "\t<li>Monty Python and the Holy Grail</li>\n",
       "\t<li>High School Musical</li>\n",
       "\t<li>Shaun of the Dead</li>\n",
       "\t<li>Taxi Driver</li>\n",
       "\t<li>The Shawshank Redemption</li>\n",
       "\t<li>Interstellar</li>\n",
       "\t<li>Casino</li>\n",
       "\t<li>The Goodfellas</li>\n",
       "\t<li>Blue is the Warmest Colour</li>\n",
       "\t<li>Black Swan</li>\n",
       "\t<li>Back to the Future</li>\n",
       "\t<li>The Wave</li>\n",
       "\t<li>Whiplash</li>\n",
       "\t<li>The Grand Hotel Budapest</li>\n",
       "\t<li>Jumanji</li>\n",
       "\t<li>The Eternal Sunshine of the Spotless Mind</li>\n",
       "\t<li>Chicago</li>\n",
       "</ol>\n",
       "\n",
       "<details>\n",
       "\t<summary style=display:list-item;cursor:pointer>\n",
       "\t\t<strong>Levels</strong>:\n",
       "\t</summary>\n",
       "\t<ol class=list-inline>\n",
       "\t\t<li>'Akira'</li>\n",
       "\t\t<li>'American Beauty'</li>\n",
       "\t\t<li>'Back to the Future'</li>\n",
       "\t\t<li>'Black Swan'</li>\n",
       "\t\t<li>'Blue is the Warmest Colour'</li>\n",
       "\t\t<li>'Casino'</li>\n",
       "\t\t<li>'Chicago'</li>\n",
       "\t\t<li>'City of God'</li>\n",
       "\t\t<li>'Dr. Strangelove'</li>\n",
       "\t\t<li>'Fight Club'</li>\n",
       "\t\t<li>'High School Musical'</li>\n",
       "\t\t<li>'Interstellar'</li>\n",
       "\t\t<li>'Jumanji'</li>\n",
       "\t\t<li>'Modern Times'</li>\n",
       "\t\t<li>'Monty Python and the Holy Grail'</li>\n",
       "\t\t<li>'Room'</li>\n",
       "\t\t<li>'Shaun of the Dead'</li>\n",
       "\t\t<li>'Star Wars Episode IV'</li>\n",
       "\t\t<li>'Taxi Driver'</li>\n",
       "\t\t<li>'The Artist'</li>\n",
       "\t\t<li>'The Breakfast Club'</li>\n",
       "\t\t<li>'The Eternal Sunshine of the Spotless Mind'</li>\n",
       "\t\t<li>'The Goodfellas'</li>\n",
       "\t\t<li>'The Grand Hotel Budapest'</li>\n",
       "\t\t<li>'The Ring'</li>\n",
       "\t\t<li>'The Shawshank Redemption'</li>\n",
       "\t\t<li>'The Untouchables'</li>\n",
       "\t\t<li>'The Wave'</li>\n",
       "\t\t<li>'Toy Story'</li>\n",
       "\t\t<li>'Whiplash'</li>\n",
       "\t</ol>\n",
       "</details>"
      ],
      "text/latex": [
       "\\begin{enumerate*}\n",
       "\\item Toy Story\n",
       "\\item Akira\n",
       "\\item The Breakfast Club\n",
       "\\item The Artist\n",
       "\\item Modern Times\n",
       "\\item Fight Club\n",
       "\\item City of God\n",
       "\\item The Untouchables\n",
       "\\item Star Wars Episode IV\n",
       "\\item American Beauty\n",
       "\\item Room\n",
       "\\item Dr. Strangelove\n",
       "\\item The Ring\n",
       "\\item Monty Python and the Holy Grail\n",
       "\\item High School Musical\n",
       "\\item Shaun of the Dead\n",
       "\\item Taxi Driver\n",
       "\\item The Shawshank Redemption\n",
       "\\item Interstellar\n",
       "\\item Casino\n",
       "\\item The Goodfellas\n",
       "\\item Blue is the Warmest Colour\n",
       "\\item Black Swan\n",
       "\\item Back to the Future\n",
       "\\item The Wave\n",
       "\\item Whiplash\n",
       "\\item The Grand Hotel Budapest\n",
       "\\item Jumanji\n",
       "\\item The Eternal Sunshine of the Spotless Mind\n",
       "\\item Chicago\n",
       "\\end{enumerate*}\n",
       "\n",
       "\\emph{Levels}: \\begin{enumerate*}\n",
       "\\item 'Akira'\n",
       "\\item 'American Beauty'\n",
       "\\item 'Back to the Future'\n",
       "\\item 'Black Swan'\n",
       "\\item 'Blue is the Warmest Colour'\n",
       "\\item 'Casino'\n",
       "\\item 'Chicago'\n",
       "\\item 'City of God'\n",
       "\\item 'Dr. Strangelove'\n",
       "\\item 'Fight Club'\n",
       "\\item 'High School Musical'\n",
       "\\item 'Interstellar'\n",
       "\\item 'Jumanji'\n",
       "\\item 'Modern Times'\n",
       "\\item 'Monty Python and the Holy Grail'\n",
       "\\item 'Room'\n",
       "\\item 'Shaun of the Dead'\n",
       "\\item 'Star Wars Episode IV'\n",
       "\\item 'Taxi Driver'\n",
       "\\item 'The Artist'\n",
       "\\item 'The Breakfast Club'\n",
       "\\item 'The Eternal Sunshine of the Spotless Mind'\n",
       "\\item 'The Goodfellas'\n",
       "\\item 'The Grand Hotel Budapest'\n",
       "\\item 'The Ring'\n",
       "\\item 'The Shawshank Redemption'\n",
       "\\item 'The Untouchables'\n",
       "\\item 'The Wave'\n",
       "\\item 'Toy Story'\n",
       "\\item 'Whiplash'\n",
       "\\end{enumerate*}\n"
      ],
      "text/markdown": [
       "1. Toy Story\n",
       "2. Akira\n",
       "3. The Breakfast Club\n",
       "4. The Artist\n",
       "5. Modern Times\n",
       "6. Fight Club\n",
       "7. City of God\n",
       "8. The Untouchables\n",
       "9. Star Wars Episode IV\n",
       "10. American Beauty\n",
       "11. Room\n",
       "12. Dr. Strangelove\n",
       "13. The Ring\n",
       "14. Monty Python and the Holy Grail\n",
       "15. High School Musical\n",
       "16. Shaun of the Dead\n",
       "17. Taxi Driver\n",
       "18. The Shawshank Redemption\n",
       "19. Interstellar\n",
       "20. Casino\n",
       "21. The Goodfellas\n",
       "22. Blue is the Warmest Colour\n",
       "23. Black Swan\n",
       "24. Back to the Future\n",
       "25. The Wave\n",
       "26. Whiplash\n",
       "27. The Grand Hotel Budapest\n",
       "28. Jumanji\n",
       "29. The Eternal Sunshine of the Spotless Mind\n",
       "30. Chicago\n",
       "\n",
       "\n",
       "\n",
       "**Levels**: 1. 'Akira'\n",
       "2. 'American Beauty'\n",
       "3. 'Back to the Future'\n",
       "4. 'Black Swan'\n",
       "5. 'Blue is the Warmest Colour'\n",
       "6. 'Casino'\n",
       "7. 'Chicago'\n",
       "8. 'City of God'\n",
       "9. 'Dr. Strangelove'\n",
       "10. 'Fight Club'\n",
       "11. 'High School Musical'\n",
       "12. 'Interstellar'\n",
       "13. 'Jumanji'\n",
       "14. 'Modern Times'\n",
       "15. 'Monty Python and the Holy Grail'\n",
       "16. 'Room'\n",
       "17. 'Shaun of the Dead'\n",
       "18. 'Star Wars Episode IV'\n",
       "19. 'Taxi Driver'\n",
       "20. 'The Artist'\n",
       "21. 'The Breakfast Club'\n",
       "22. 'The Eternal Sunshine of the Spotless Mind'\n",
       "23. 'The Goodfellas'\n",
       "24. 'The Grand Hotel Budapest'\n",
       "25. 'The Ring'\n",
       "26. 'The Shawshank Redemption'\n",
       "27. 'The Untouchables'\n",
       "28. 'The Wave'\n",
       "29. 'Toy Story'\n",
       "30. 'Whiplash'\n",
       "\n",
       "\n"
      ],
      "text/plain": [
       " [1] Toy Story                                \n",
       " [2] Akira                                    \n",
       " [3] The Breakfast Club                       \n",
       " [4] The Artist                               \n",
       " [5] Modern Times                             \n",
       " [6] Fight Club                               \n",
       " [7] City of God                              \n",
       " [8] The Untouchables                         \n",
       " [9] Star Wars Episode IV                     \n",
       "[10] American Beauty                          \n",
       "[11] Room                                     \n",
       "[12] Dr. Strangelove                          \n",
       "[13] The Ring                                 \n",
       "[14] Monty Python and the Holy Grail          \n",
       "[15] High School Musical                      \n",
       "[16] Shaun of the Dead                        \n",
       "[17] Taxi Driver                              \n",
       "[18] The Shawshank Redemption                 \n",
       "[19] Interstellar                             \n",
       "[20] Casino                                   \n",
       "[21] The Goodfellas                           \n",
       "[22] Blue is the Warmest Colour               \n",
       "[23] Black Swan                               \n",
       "[24] Back to the Future                       \n",
       "[25] The Wave                                 \n",
       "[26] Whiplash                                 \n",
       "[27] The Grand Hotel Budapest                 \n",
       "[28] Jumanji                                  \n",
       "[29] The Eternal Sunshine of the Spotless Mind\n",
       "[30] Chicago                                  \n",
       "30 Levels: Akira American Beauty Back to the Future ... Whiplash"
      ]
     },
     "metadata": {},
     "output_type": "display_data"
    }
   ],
   "source": [
    "# Retrieve the data for the \"name\" column in the data frame.\n",
    "my_data$name"
   ]
  },
  {
   "cell_type": "markdown",
   "metadata": {},
   "source": [
    "You can also do the same thing using **double square brackets**, to get a vector of `names` column."
   ]
  },
  {
   "cell_type": "code",
   "execution_count": 11,
   "metadata": {
    "collapsed": false
   },
   "outputs": [
    {
     "data": {
      "text/html": [
       "<ol class=list-inline>\n",
       "\t<li>Toy Story</li>\n",
       "\t<li>Akira</li>\n",
       "\t<li>The Breakfast Club</li>\n",
       "\t<li>The Artist</li>\n",
       "\t<li>Modern Times</li>\n",
       "\t<li>Fight Club</li>\n",
       "\t<li>City of God</li>\n",
       "\t<li>The Untouchables</li>\n",
       "\t<li>Star Wars Episode IV</li>\n",
       "\t<li>American Beauty</li>\n",
       "\t<li>Room</li>\n",
       "\t<li>Dr. Strangelove</li>\n",
       "\t<li>The Ring</li>\n",
       "\t<li>Monty Python and the Holy Grail</li>\n",
       "\t<li>High School Musical</li>\n",
       "\t<li>Shaun of the Dead</li>\n",
       "\t<li>Taxi Driver</li>\n",
       "\t<li>The Shawshank Redemption</li>\n",
       "\t<li>Interstellar</li>\n",
       "\t<li>Casino</li>\n",
       "\t<li>The Goodfellas</li>\n",
       "\t<li>Blue is the Warmest Colour</li>\n",
       "\t<li>Black Swan</li>\n",
       "\t<li>Back to the Future</li>\n",
       "\t<li>The Wave</li>\n",
       "\t<li>Whiplash</li>\n",
       "\t<li>The Grand Hotel Budapest</li>\n",
       "\t<li>Jumanji</li>\n",
       "\t<li>The Eternal Sunshine of the Spotless Mind</li>\n",
       "\t<li>Chicago</li>\n",
       "</ol>\n",
       "\n",
       "<details>\n",
       "\t<summary style=display:list-item;cursor:pointer>\n",
       "\t\t<strong>Levels</strong>:\n",
       "\t</summary>\n",
       "\t<ol class=list-inline>\n",
       "\t\t<li>'Akira'</li>\n",
       "\t\t<li>'American Beauty'</li>\n",
       "\t\t<li>'Back to the Future'</li>\n",
       "\t\t<li>'Black Swan'</li>\n",
       "\t\t<li>'Blue is the Warmest Colour'</li>\n",
       "\t\t<li>'Casino'</li>\n",
       "\t\t<li>'Chicago'</li>\n",
       "\t\t<li>'City of God'</li>\n",
       "\t\t<li>'Dr. Strangelove'</li>\n",
       "\t\t<li>'Fight Club'</li>\n",
       "\t\t<li>'High School Musical'</li>\n",
       "\t\t<li>'Interstellar'</li>\n",
       "\t\t<li>'Jumanji'</li>\n",
       "\t\t<li>'Modern Times'</li>\n",
       "\t\t<li>'Monty Python and the Holy Grail'</li>\n",
       "\t\t<li>'Room'</li>\n",
       "\t\t<li>'Shaun of the Dead'</li>\n",
       "\t\t<li>'Star Wars Episode IV'</li>\n",
       "\t\t<li>'Taxi Driver'</li>\n",
       "\t\t<li>'The Artist'</li>\n",
       "\t\t<li>'The Breakfast Club'</li>\n",
       "\t\t<li>'The Eternal Sunshine of the Spotless Mind'</li>\n",
       "\t\t<li>'The Goodfellas'</li>\n",
       "\t\t<li>'The Grand Hotel Budapest'</li>\n",
       "\t\t<li>'The Ring'</li>\n",
       "\t\t<li>'The Shawshank Redemption'</li>\n",
       "\t\t<li>'The Untouchables'</li>\n",
       "\t\t<li>'The Wave'</li>\n",
       "\t\t<li>'Toy Story'</li>\n",
       "\t\t<li>'Whiplash'</li>\n",
       "\t</ol>\n",
       "</details>"
      ],
      "text/latex": [
       "\\begin{enumerate*}\n",
       "\\item Toy Story\n",
       "\\item Akira\n",
       "\\item The Breakfast Club\n",
       "\\item The Artist\n",
       "\\item Modern Times\n",
       "\\item Fight Club\n",
       "\\item City of God\n",
       "\\item The Untouchables\n",
       "\\item Star Wars Episode IV\n",
       "\\item American Beauty\n",
       "\\item Room\n",
       "\\item Dr. Strangelove\n",
       "\\item The Ring\n",
       "\\item Monty Python and the Holy Grail\n",
       "\\item High School Musical\n",
       "\\item Shaun of the Dead\n",
       "\\item Taxi Driver\n",
       "\\item The Shawshank Redemption\n",
       "\\item Interstellar\n",
       "\\item Casino\n",
       "\\item The Goodfellas\n",
       "\\item Blue is the Warmest Colour\n",
       "\\item Black Swan\n",
       "\\item Back to the Future\n",
       "\\item The Wave\n",
       "\\item Whiplash\n",
       "\\item The Grand Hotel Budapest\n",
       "\\item Jumanji\n",
       "\\item The Eternal Sunshine of the Spotless Mind\n",
       "\\item Chicago\n",
       "\\end{enumerate*}\n",
       "\n",
       "\\emph{Levels}: \\begin{enumerate*}\n",
       "\\item 'Akira'\n",
       "\\item 'American Beauty'\n",
       "\\item 'Back to the Future'\n",
       "\\item 'Black Swan'\n",
       "\\item 'Blue is the Warmest Colour'\n",
       "\\item 'Casino'\n",
       "\\item 'Chicago'\n",
       "\\item 'City of God'\n",
       "\\item 'Dr. Strangelove'\n",
       "\\item 'Fight Club'\n",
       "\\item 'High School Musical'\n",
       "\\item 'Interstellar'\n",
       "\\item 'Jumanji'\n",
       "\\item 'Modern Times'\n",
       "\\item 'Monty Python and the Holy Grail'\n",
       "\\item 'Room'\n",
       "\\item 'Shaun of the Dead'\n",
       "\\item 'Star Wars Episode IV'\n",
       "\\item 'Taxi Driver'\n",
       "\\item 'The Artist'\n",
       "\\item 'The Breakfast Club'\n",
       "\\item 'The Eternal Sunshine of the Spotless Mind'\n",
       "\\item 'The Goodfellas'\n",
       "\\item 'The Grand Hotel Budapest'\n",
       "\\item 'The Ring'\n",
       "\\item 'The Shawshank Redemption'\n",
       "\\item 'The Untouchables'\n",
       "\\item 'The Wave'\n",
       "\\item 'Toy Story'\n",
       "\\item 'Whiplash'\n",
       "\\end{enumerate*}\n"
      ],
      "text/markdown": [
       "1. Toy Story\n",
       "2. Akira\n",
       "3. The Breakfast Club\n",
       "4. The Artist\n",
       "5. Modern Times\n",
       "6. Fight Club\n",
       "7. City of God\n",
       "8. The Untouchables\n",
       "9. Star Wars Episode IV\n",
       "10. American Beauty\n",
       "11. Room\n",
       "12. Dr. Strangelove\n",
       "13. The Ring\n",
       "14. Monty Python and the Holy Grail\n",
       "15. High School Musical\n",
       "16. Shaun of the Dead\n",
       "17. Taxi Driver\n",
       "18. The Shawshank Redemption\n",
       "19. Interstellar\n",
       "20. Casino\n",
       "21. The Goodfellas\n",
       "22. Blue is the Warmest Colour\n",
       "23. Black Swan\n",
       "24. Back to the Future\n",
       "25. The Wave\n",
       "26. Whiplash\n",
       "27. The Grand Hotel Budapest\n",
       "28. Jumanji\n",
       "29. The Eternal Sunshine of the Spotless Mind\n",
       "30. Chicago\n",
       "\n",
       "\n",
       "\n",
       "**Levels**: 1. 'Akira'\n",
       "2. 'American Beauty'\n",
       "3. 'Back to the Future'\n",
       "4. 'Black Swan'\n",
       "5. 'Blue is the Warmest Colour'\n",
       "6. 'Casino'\n",
       "7. 'Chicago'\n",
       "8. 'City of God'\n",
       "9. 'Dr. Strangelove'\n",
       "10. 'Fight Club'\n",
       "11. 'High School Musical'\n",
       "12. 'Interstellar'\n",
       "13. 'Jumanji'\n",
       "14. 'Modern Times'\n",
       "15. 'Monty Python and the Holy Grail'\n",
       "16. 'Room'\n",
       "17. 'Shaun of the Dead'\n",
       "18. 'Star Wars Episode IV'\n",
       "19. 'Taxi Driver'\n",
       "20. 'The Artist'\n",
       "21. 'The Breakfast Club'\n",
       "22. 'The Eternal Sunshine of the Spotless Mind'\n",
       "23. 'The Goodfellas'\n",
       "24. 'The Grand Hotel Budapest'\n",
       "25. 'The Ring'\n",
       "26. 'The Shawshank Redemption'\n",
       "27. 'The Untouchables'\n",
       "28. 'The Wave'\n",
       "29. 'Toy Story'\n",
       "30. 'Whiplash'\n",
       "\n",
       "\n"
      ],
      "text/plain": [
       " [1] Toy Story                                \n",
       " [2] Akira                                    \n",
       " [3] The Breakfast Club                       \n",
       " [4] The Artist                               \n",
       " [5] Modern Times                             \n",
       " [6] Fight Club                               \n",
       " [7] City of God                              \n",
       " [8] The Untouchables                         \n",
       " [9] Star Wars Episode IV                     \n",
       "[10] American Beauty                          \n",
       "[11] Room                                     \n",
       "[12] Dr. Strangelove                          \n",
       "[13] The Ring                                 \n",
       "[14] Monty Python and the Holy Grail          \n",
       "[15] High School Musical                      \n",
       "[16] Shaun of the Dead                        \n",
       "[17] Taxi Driver                              \n",
       "[18] The Shawshank Redemption                 \n",
       "[19] Interstellar                             \n",
       "[20] Casino                                   \n",
       "[21] The Goodfellas                           \n",
       "[22] Blue is the Warmest Colour               \n",
       "[23] Black Swan                               \n",
       "[24] Back to the Future                       \n",
       "[25] The Wave                                 \n",
       "[26] Whiplash                                 \n",
       "[27] The Grand Hotel Budapest                 \n",
       "[28] Jumanji                                  \n",
       "[29] The Eternal Sunshine of the Spotless Mind\n",
       "[30] Chicago                                  \n",
       "30 Levels: Akira American Beauty Back to the Future ... Whiplash"
      ]
     },
     "metadata": {},
     "output_type": "display_data"
    }
   ],
   "source": [
    "my_data[[\"name\"]]"
   ]
  },
  {
   "cell_type": "markdown",
   "metadata": {},
   "source": [
    "Similarly, any particular row of the dataset can also be accessed. For example, to get the first row of the dataset with all column values, we can use:"
   ]
  },
  {
   "cell_type": "code",
   "execution_count": 12,
   "metadata": {
    "collapsed": false
   },
   "outputs": [
    {
     "data": {
      "text/html": [
       "<table>\n",
       "<thead><tr><th scope=col>name</th><th scope=col>year</th><th scope=col>length_min</th><th scope=col>genre</th><th scope=col>average_rating</th><th scope=col>cost_millions</th><th scope=col>foreign</th><th scope=col>age_restriction</th></tr></thead>\n",
       "<tbody>\n",
       "\t<tr><td>Toy Story</td><td>1995     </td><td>81       </td><td>Animation</td><td>8.3      </td><td>30       </td><td>0        </td><td>0        </td></tr>\n",
       "</tbody>\n",
       "</table>\n"
      ],
      "text/latex": [
       "\\begin{tabular}{r|llllllll}\n",
       " name & year & length\\_min & genre & average\\_rating & cost\\_millions & foreign & age\\_restriction\\\\\n",
       "\\hline\n",
       "\t Toy Story & 1995      & 81        & Animation & 8.3       & 30        & 0         & 0        \\\\\n",
       "\\end{tabular}\n"
      ],
      "text/markdown": [
       "\n",
       "name | year | length_min | genre | average_rating | cost_millions | foreign | age_restriction | \n",
       "|---|\n",
       "| Toy Story | 1995      | 81        | Animation | 8.3       | 30        | 0         | 0         | \n",
       "\n",
       "\n"
      ],
      "text/plain": [
       "  name      year length_min genre     average_rating cost_millions foreign\n",
       "1 Toy Story 1995 81         Animation 8.3            30            0      \n",
       "  age_restriction\n",
       "1 0              "
      ]
     },
     "metadata": {},
     "output_type": "display_data"
    }
   ],
   "source": [
    "# Retrieve the first row of the data frame.\n",
    "my_data[1,]"
   ]
  },
  {
   "cell_type": "markdown",
   "metadata": {},
   "source": [
    "The first value before the comma represents the **row** of the dataset and the second value (which is blank in the above example) represents the **column** of the dataset to be retrieved. By setting the first number as 1 we say we want data from row 1. By leaving the column blank we say we want all the columns in that row.\n",
    "\n",
    "We can specify more than one column or row by using **`c`**, the **concatenate** function. By using `c` to concatenate a list of elements, we tell R that we want these observations out of the data frame. Let's try it out."
   ]
  },
  {
   "cell_type": "code",
   "execution_count": 13,
   "metadata": {
    "collapsed": false
   },
   "outputs": [
    {
     "data": {
      "text/html": [
       "<table>\n",
       "<thead><tr><th scope=col>name</th><th scope=col>length_min</th></tr></thead>\n",
       "<tbody>\n",
       "\t<tr><td>Toy Story</td><td>81       </td></tr>\n",
       "</tbody>\n",
       "</table>\n"
      ],
      "text/latex": [
       "\\begin{tabular}{r|ll}\n",
       " name & length\\_min\\\\\n",
       "\\hline\n",
       "\t Toy Story & 81       \\\\\n",
       "\\end{tabular}\n"
      ],
      "text/markdown": [
       "\n",
       "name | length_min | \n",
       "|---|\n",
       "| Toy Story | 81        | \n",
       "\n",
       "\n"
      ],
      "text/plain": [
       "  name      length_min\n",
       "1 Toy Story 81        "
      ]
     },
     "metadata": {},
     "output_type": "display_data"
    }
   ],
   "source": [
    "# Retrieve the first row of the data frame, but only the \"name\" and \"length_min\" columns.\n",
    "my_data[1, c(\"name\",\"length_min\")]"
   ]
  },
  {
   "cell_type": "markdown",
   "metadata": {},
   "source": [
    "-----------------"
   ]
  },
  {
   "cell_type": "markdown",
   "metadata": {},
   "source": [
    "<a id=\"ref4\"></a>\n",
    "<center><h2>Accessing Built-in Datasets in R</h2></center>"
   ]
  },
  {
   "cell_type": "markdown",
   "metadata": {},
   "source": [
    "R provides various built-in datasets for users to utilize for different purposes. To know which datasets are available, R provides a simple function -- `data` -- that returns all of the present datasets' names with a small description beside them. The ones in the `datasets` package are all inbuilt."
   ]
  },
  {
   "cell_type": "code",
   "execution_count": 14,
   "metadata": {
    "collapsed": false
   },
   "outputs": [
    {
     "data": {
      "text/html": [
       "<h3>Data sets</h3>\n",
       "<table>\n",
       "<thead><tr><th scope=col>Package</th><th scope=col>Item</th><th scope=col>Title</th></tr></thead>\n",
       "<tbody>\n",
       "\t<tr><td>datasets                                                       </td><td>AirPassengers                                                  </td><td>Monthly Airline Passenger Numbers 1949-1960                    </td></tr>\n",
       "\t<tr><td>datasets                                                       </td><td>BJsales                                                        </td><td>Sales Data with Leading Indicator                              </td></tr>\n",
       "\t<tr><td>datasets                                                       </td><td>BJsales.lead (BJsales)                                         </td><td>Sales Data with Leading Indicator                              </td></tr>\n",
       "\t<tr><td>datasets                                                       </td><td>BOD                                                            </td><td>Biochemical Oxygen Demand                                      </td></tr>\n",
       "\t<tr><td>datasets                                                       </td><td>CO2                                                            </td><td>Carbon Dioxide Uptake in Grass Plants                          </td></tr>\n",
       "\t<tr><td>datasets                                                       </td><td>ChickWeight                                                    </td><td>Weight versus age of chicks on different diets                 </td></tr>\n",
       "\t<tr><td>datasets                                                       </td><td>DNase                                                          </td><td>Elisa assay of DNase                                           </td></tr>\n",
       "\t<tr><td>datasets                                                       </td><td>EuStockMarkets                                                 </td><td>Daily Closing Prices of Major European Stock Indices, 1991-1998</td></tr>\n",
       "\t<tr><td>datasets                                                       </td><td>Formaldehyde                                                   </td><td>Determination of Formaldehyde                                  </td></tr>\n",
       "\t<tr><td>datasets                                                       </td><td>HairEyeColor                                                   </td><td>Hair and Eye Color of Statistics Students                      </td></tr>\n",
       "\t<tr><td>datasets                                                       </td><td>Harman23.cor                                                   </td><td>Harman Example 2.3                                             </td></tr>\n",
       "\t<tr><td>datasets                                                       </td><td>Harman74.cor                                                   </td><td>Harman Example 7.4                                             </td></tr>\n",
       "\t<tr><td>datasets                                                       </td><td>Indometh                                                       </td><td>Pharmacokinetics of Indomethacin                               </td></tr>\n",
       "\t<tr><td>datasets                                                       </td><td>InsectSprays                                                   </td><td>Effectiveness of Insect Sprays                                 </td></tr>\n",
       "\t<tr><td>datasets                                                                                                   </td><td><span style=white-space:pre-wrap>JohnsonJohnson        </span>                                             </td><td><span style=white-space:pre-wrap>Quarterly Earnings per Johnson &amp; Johnson Share                 </span></td></tr>\n",
       "\t<tr><td>datasets                                                       </td><td>LakeHuron                                                      </td><td>Level of Lake Huron 1875-1972                                  </td></tr>\n",
       "\t<tr><td>datasets                                                       </td><td>LifeCycleSavings                                               </td><td>Intercountry Life-Cycle Savings Data                           </td></tr>\n",
       "\t<tr><td>datasets                                                       </td><td>Loblolly                                                       </td><td>Growth of Loblolly pine trees                                  </td></tr>\n",
       "\t<tr><td>datasets                                                       </td><td>Nile                                                           </td><td>Flow of the River Nile                                         </td></tr>\n",
       "\t<tr><td>datasets                                                       </td><td>Orange                                                         </td><td>Growth of Orange Trees                                         </td></tr>\n",
       "\t<tr><td>datasets                                                       </td><td>OrchardSprays                                                  </td><td>Potency of Orchard Sprays                                      </td></tr>\n",
       "\t<tr><td>datasets                                                       </td><td>PlantGrowth                                                    </td><td>Results from an Experiment on Plant Growth                     </td></tr>\n",
       "\t<tr><td>datasets                                                       </td><td>Puromycin                                                      </td><td>Reaction Velocity of an Enzymatic Reaction                     </td></tr>\n",
       "\t<tr><td>datasets                                                       </td><td>Seatbelts                                                      </td><td>Road Casualties in Great Britain 1969-84                       </td></tr>\n",
       "\t<tr><td>datasets                                                       </td><td>Theoph                                                         </td><td>Pharmacokinetics of Theophylline                               </td></tr>\n",
       "\t<tr><td>datasets                                                       </td><td>Titanic                                                        </td><td>Survival of passengers on the Titanic                          </td></tr>\n",
       "\t<tr><td>datasets                                                       </td><td>ToothGrowth                                                    </td><td>The Effect of Vitamin C on Tooth Growth in Guinea Pigs         </td></tr>\n",
       "\t<tr><td>datasets                                                       </td><td>UCBAdmissions                                                  </td><td>Student Admissions at UC Berkeley                              </td></tr>\n",
       "\t<tr><td>datasets                                                       </td><td>UKDriverDeaths                                                 </td><td>Road Casualties in Great Britain 1969-84                       </td></tr>\n",
       "\t<tr><td>datasets                                                       </td><td>UKgas                                                          </td><td>UK Quarterly Gas Consumption                                   </td></tr>\n",
       "\t<tr><td>datasets                                                       </td><td>USAccDeaths                                                    </td><td>Accidental Deaths in the US 1973-1978                          </td></tr>\n",
       "\t<tr><td>datasets                                                       </td><td>USArrests                                                      </td><td>Violent Crime Rates by US State                                </td></tr>\n",
       "\t<tr><td>datasets                                                       </td><td>USJudgeRatings                                                 </td><td>Lawyers' Ratings of State Judges in the US Superior Court      </td></tr>\n",
       "\t<tr><td>datasets                                                       </td><td>USPersonalExpenditure                                          </td><td>Personal Expenditure Data                                      </td></tr>\n",
       "\t<tr><td>datasets                                                       </td><td>UScitiesD                                                      </td><td>Distances Between European Cities and Between US Cities        </td></tr>\n",
       "\t<tr><td>datasets                                                       </td><td>VADeaths                                                       </td><td>Death Rates in Virginia (1940)                                 </td></tr>\n",
       "\t<tr><td>datasets                                                       </td><td>WWWusage                                                       </td><td>Internet Usage per Minute                                      </td></tr>\n",
       "\t<tr><td>datasets                                                       </td><td>WorldPhones                                                    </td><td>The World's Telephones                                         </td></tr>\n",
       "\t<tr><td>datasets                                                       </td><td>ability.cov                                                    </td><td>Ability and Intelligence Tests                                 </td></tr>\n",
       "\t<tr><td>datasets                                                       </td><td>airmiles                                                       </td><td>Passenger Miles on Commercial US Airlines, 1937-1960           </td></tr>\n",
       "\t<tr><td>datasets                                                       </td><td>airquality                                                     </td><td>New York Air Quality Measurements                              </td></tr>\n",
       "\t<tr><td>datasets                                                       </td><td>anscombe                                                       </td><td>Anscombe's Quartet of 'Identical' Simple Linear Regressions    </td></tr>\n",
       "\t<tr><td>datasets                                                       </td><td>attenu                                                         </td><td>The Joyner-Boore Attenuation Data                              </td></tr>\n",
       "\t<tr><td>datasets                                                       </td><td>attitude                                                       </td><td>The Chatterjee-Price Attitude Data                             </td></tr>\n",
       "\t<tr><td>datasets                                                       </td><td>austres                                                        </td><td>Quarterly Time Series of the Number of Australian Residents    </td></tr>\n",
       "\t<tr><td>datasets                                                       </td><td>beaver1 (beavers)                                              </td><td>Body Temperature Series of Two Beavers                         </td></tr>\n",
       "\t<tr><td>datasets                                                       </td><td>beaver2 (beavers)                                              </td><td>Body Temperature Series of Two Beavers                         </td></tr>\n",
       "\t<tr><td>datasets                                                       </td><td>cars                                                           </td><td>Speed and Stopping Distances of Cars                           </td></tr>\n",
       "\t<tr><td>datasets                                                       </td><td>chickwts                                                       </td><td>Chicken Weights by Feed Type                                   </td></tr>\n",
       "\t<tr><td>datasets                                                       </td><td>co2                                                            </td><td>Mauna Loa Atmospheric CO2 Concentration                        </td></tr>\n",
       "\t<tr><td>datasets                                                       </td><td>crimtab                                                        </td><td>Student's 3000 Criminals Data                                  </td></tr>\n",
       "\t<tr><td>datasets                                                       </td><td>discoveries                                                    </td><td>Yearly Numbers of Important Discoveries                        </td></tr>\n",
       "\t<tr><td>datasets                                                       </td><td>esoph                                                          </td><td>Smoking, Alcohol and (O)esophageal Cancer                      </td></tr>\n",
       "\t<tr><td>datasets                                                       </td><td>euro                                                           </td><td>Conversion Rates of Euro Currencies                            </td></tr>\n",
       "\t<tr><td>datasets                                                       </td><td>euro.cross (euro)                                              </td><td>Conversion Rates of Euro Currencies                            </td></tr>\n",
       "\t<tr><td>datasets                                                       </td><td>eurodist                                                       </td><td>Distances Between European Cities and Between US Cities        </td></tr>\n",
       "\t<tr><td>datasets                                                       </td><td>faithful                                                       </td><td>Old Faithful Geyser Data                                       </td></tr>\n",
       "\t<tr><td>datasets                                                       </td><td>fdeaths (UKLungDeaths)                                         </td><td>Monthly Deaths from Lung Diseases in the UK                    </td></tr>\n",
       "\t<tr><td>datasets                                                       </td><td>freeny                                                         </td><td>Freeny's Revenue Data                                          </td></tr>\n",
       "\t<tr><td>datasets                                                       </td><td>freeny.x (freeny)                                              </td><td>Freeny's Revenue Data                                          </td></tr>\n",
       "\t<tr><td>datasets                                                       </td><td>freeny.y (freeny)                                              </td><td>Freeny's Revenue Data                                          </td></tr>\n",
       "\t<tr><td>datasets                                                       </td><td>infert                                                         </td><td>Infertility after Spontaneous and Induced Abortion             </td></tr>\n",
       "\t<tr><td>datasets                                                       </td><td>iris                                                           </td><td>Edgar Anderson's Iris Data                                     </td></tr>\n",
       "\t<tr><td>datasets                                                       </td><td>iris3                                                          </td><td>Edgar Anderson's Iris Data                                     </td></tr>\n",
       "\t<tr><td>datasets                                                       </td><td>islands                                                        </td><td>Areas of the World's Major Landmasses                          </td></tr>\n",
       "\t<tr><td>datasets                                                       </td><td>ldeaths (UKLungDeaths)                                         </td><td>Monthly Deaths from Lung Diseases in the UK                    </td></tr>\n",
       "\t<tr><td>datasets                                                       </td><td>lh                                                             </td><td>Luteinizing Hormone in Blood Samples                           </td></tr>\n",
       "\t<tr><td>datasets                                                       </td><td>longley                                                        </td><td>Longley's Economic Regression Data                             </td></tr>\n",
       "\t<tr><td>datasets                                                       </td><td>lynx                                                           </td><td>Annual Canadian Lynx trappings 1821-1934                       </td></tr>\n",
       "\t<tr><td>datasets                                                       </td><td>mdeaths (UKLungDeaths)                                         </td><td>Monthly Deaths from Lung Diseases in the UK                    </td></tr>\n",
       "\t<tr><td>datasets                                                       </td><td>morley                                                         </td><td>Michelson Speed of Light Data                                  </td></tr>\n",
       "\t<tr><td>datasets                                                       </td><td>mtcars                                                         </td><td>Motor Trend Car Road Tests                                     </td></tr>\n",
       "\t<tr><td>datasets                                                       </td><td>nhtemp                                                         </td><td>Average Yearly Temperatures in New Haven                       </td></tr>\n",
       "\t<tr><td>datasets                                                       </td><td>nottem                                                         </td><td>Average Monthly Temperatures at Nottingham, 1920-1939          </td></tr>\n",
       "\t<tr><td>datasets                                                       </td><td>npk                                                            </td><td>Classical N, P, K Factorial Experiment                         </td></tr>\n",
       "\t<tr><td>datasets                                                       </td><td>occupationalStatus                                             </td><td>Occupational Status of Fathers and their Sons                  </td></tr>\n",
       "\t<tr><td>datasets                                                       </td><td>precip                                                         </td><td>Annual Precipitation in US Cities                              </td></tr>\n",
       "\t<tr><td>datasets                                                       </td><td>presidents                                                     </td><td>Quarterly Approval Ratings of US Presidents                    </td></tr>\n",
       "\t<tr><td>datasets                                                       </td><td>pressure                                                       </td><td>Vapor Pressure of Mercury as a Function of Temperature         </td></tr>\n",
       "\t<tr><td>datasets                                                       </td><td>quakes                                                         </td><td>Locations of Earthquakes off Fiji                              </td></tr>\n",
       "\t<tr><td>datasets                                                       </td><td>randu                                                          </td><td>Random Numbers from Congruential Generator RANDU               </td></tr>\n",
       "\t<tr><td>datasets                                                       </td><td>rivers                                                         </td><td>Lengths of Major North American Rivers                         </td></tr>\n",
       "\t<tr><td>datasets                                                       </td><td>rock                                                           </td><td>Measurements on Petroleum Rock Samples                         </td></tr>\n",
       "\t<tr><td>datasets                                                       </td><td>sleep                                                          </td><td>Student's Sleep Data                                           </td></tr>\n",
       "\t<tr><td>datasets                                                       </td><td>stack.loss (stackloss)                                         </td><td>Brownlee's Stack Loss Plant Data                               </td></tr>\n",
       "\t<tr><td>datasets                                                       </td><td>stack.x (stackloss)                                            </td><td>Brownlee's Stack Loss Plant Data                               </td></tr>\n",
       "\t<tr><td>datasets                                                       </td><td>stackloss                                                      </td><td>Brownlee's Stack Loss Plant Data                               </td></tr>\n",
       "\t<tr><td>datasets                                                       </td><td>state.abb (state)                                              </td><td>US State Facts and Figures                                     </td></tr>\n",
       "\t<tr><td>datasets                                                       </td><td>state.area (state)                                             </td><td>US State Facts and Figures                                     </td></tr>\n",
       "\t<tr><td>datasets                                                       </td><td>state.center (state)                                           </td><td>US State Facts and Figures                                     </td></tr>\n",
       "\t<tr><td>datasets                                                       </td><td>state.division (state)                                         </td><td>US State Facts and Figures                                     </td></tr>\n",
       "\t<tr><td>datasets                                                       </td><td>state.name (state)                                             </td><td>US State Facts and Figures                                     </td></tr>\n",
       "\t<tr><td>datasets                                                       </td><td>state.region (state)                                           </td><td>US State Facts and Figures                                     </td></tr>\n",
       "\t<tr><td>datasets                                                       </td><td>state.x77 (state)                                              </td><td>US State Facts and Figures                                     </td></tr>\n",
       "\t<tr><td>datasets                                                       </td><td>sunspot.month                                                  </td><td>Monthly Sunspot Data, from 1749 to \"Present\"                   </td></tr>\n",
       "\t<tr><td>datasets                                                       </td><td>sunspot.year                                                   </td><td>Yearly Sunspot Data, 1700-1988                                 </td></tr>\n",
       "\t<tr><td>datasets                                                       </td><td>sunspots                                                       </td><td>Monthly Sunspot Numbers, 1749-1983                             </td></tr>\n",
       "\t<tr><td>datasets                                                       </td><td>swiss                                                          </td><td>Swiss Fertility and Socioeconomic Indicators (1888) Data       </td></tr>\n",
       "\t<tr><td>datasets                                                       </td><td>treering                                                       </td><td>Yearly Treering Data, -6000-1979                               </td></tr>\n",
       "\t<tr><td>datasets                                                       </td><td>trees                                                          </td><td>Girth, Height and Volume for Black Cherry Trees                </td></tr>\n",
       "\t<tr><td>datasets                                                       </td><td>uspop                                                          </td><td>Populations Recorded by the US Census                          </td></tr>\n",
       "\t<tr><td>datasets                                                       </td><td>volcano                                                        </td><td>Topographic Information on Auckland's Maunga Whau Volcano      </td></tr>\n",
       "\t<tr><td>datasets                                                       </td><td>warpbreaks                                                     </td><td>The Number of Breaks in Yarn during Weaving                    </td></tr>\n",
       "\t<tr><td>datasets                                                       </td><td>women                                                          </td><td>Average Heights and Weights for American Women                 </td></tr>\n",
       "</tbody>\n",
       "</table>\n",
       "\n",
       "<p>Use ‘data(package = .packages(all.available = TRUE))’\n",
       "to list the data sets in all *available* packages.</p>"
      ],
      "text/plain": [
       "Data sets in package ‘datasets’:\n",
       "\n",
       "AirPassengers           Monthly Airline Passenger Numbers 1949-1960\n",
       "BJsales                 Sales Data with Leading Indicator\n",
       "BJsales.lead (BJsales)\n",
       "                        Sales Data with Leading Indicator\n",
       "BOD                     Biochemical Oxygen Demand\n",
       "CO2                     Carbon Dioxide Uptake in Grass Plants\n",
       "ChickWeight             Weight versus age of chicks on different diets\n",
       "DNase                   Elisa assay of DNase\n",
       "EuStockMarkets          Daily Closing Prices of Major European Stock\n",
       "                        Indices, 1991-1998\n",
       "Formaldehyde            Determination of Formaldehyde\n",
       "HairEyeColor            Hair and Eye Color of Statistics Students\n",
       "Harman23.cor            Harman Example 2.3\n",
       "Harman74.cor            Harman Example 7.4\n",
       "Indometh                Pharmacokinetics of Indomethacin\n",
       "InsectSprays            Effectiveness of Insect Sprays\n",
       "JohnsonJohnson          Quarterly Earnings per Johnson & Johnson Share\n",
       "LakeHuron               Level of Lake Huron 1875-1972\n",
       "LifeCycleSavings        Intercountry Life-Cycle Savings Data\n",
       "Loblolly                Growth of Loblolly pine trees\n",
       "Nile                    Flow of the River Nile\n",
       "Orange                  Growth of Orange Trees\n",
       "OrchardSprays           Potency of Orchard Sprays\n",
       "PlantGrowth             Results from an Experiment on Plant Growth\n",
       "Puromycin               Reaction Velocity of an Enzymatic Reaction\n",
       "Seatbelts               Road Casualties in Great Britain 1969-84\n",
       "Theoph                  Pharmacokinetics of Theophylline\n",
       "Titanic                 Survival of passengers on the Titanic\n",
       "ToothGrowth             The Effect of Vitamin C on Tooth Growth in\n",
       "                        Guinea Pigs\n",
       "UCBAdmissions           Student Admissions at UC Berkeley\n",
       "UKDriverDeaths          Road Casualties in Great Britain 1969-84\n",
       "UKgas                   UK Quarterly Gas Consumption\n",
       "USAccDeaths             Accidental Deaths in the US 1973-1978\n",
       "USArrests               Violent Crime Rates by US State\n",
       "USJudgeRatings          Lawyers' Ratings of State Judges in the US\n",
       "                        Superior Court\n",
       "USPersonalExpenditure   Personal Expenditure Data\n",
       "UScitiesD               Distances Between European Cities and Between\n",
       "                        US Cities\n",
       "VADeaths                Death Rates in Virginia (1940)\n",
       "WWWusage                Internet Usage per Minute\n",
       "WorldPhones             The World's Telephones\n",
       "ability.cov             Ability and Intelligence Tests\n",
       "airmiles                Passenger Miles on Commercial US Airlines,\n",
       "                        1937-1960\n",
       "airquality              New York Air Quality Measurements\n",
       "anscombe                Anscombe's Quartet of 'Identical' Simple Linear\n",
       "                        Regressions\n",
       "attenu                  The Joyner-Boore Attenuation Data\n",
       "attitude                The Chatterjee-Price Attitude Data\n",
       "austres                 Quarterly Time Series of the Number of\n",
       "                        Australian Residents\n",
       "beaver1 (beavers)       Body Temperature Series of Two Beavers\n",
       "beaver2 (beavers)       Body Temperature Series of Two Beavers\n",
       "cars                    Speed and Stopping Distances of Cars\n",
       "chickwts                Chicken Weights by Feed Type\n",
       "co2                     Mauna Loa Atmospheric CO2 Concentration\n",
       "crimtab                 Student's 3000 Criminals Data\n",
       "discoveries             Yearly Numbers of Important Discoveries\n",
       "esoph                   Smoking, Alcohol and (O)esophageal Cancer\n",
       "euro                    Conversion Rates of Euro Currencies\n",
       "euro.cross (euro)       Conversion Rates of Euro Currencies\n",
       "eurodist                Distances Between European Cities and Between\n",
       "                        US Cities\n",
       "faithful                Old Faithful Geyser Data\n",
       "fdeaths (UKLungDeaths)\n",
       "                        Monthly Deaths from Lung Diseases in the UK\n",
       "freeny                  Freeny's Revenue Data\n",
       "freeny.x (freeny)       Freeny's Revenue Data\n",
       "freeny.y (freeny)       Freeny's Revenue Data\n",
       "infert                  Infertility after Spontaneous and Induced\n",
       "                        Abortion\n",
       "iris                    Edgar Anderson's Iris Data\n",
       "iris3                   Edgar Anderson's Iris Data\n",
       "islands                 Areas of the World's Major Landmasses\n",
       "ldeaths (UKLungDeaths)\n",
       "                        Monthly Deaths from Lung Diseases in the UK\n",
       "lh                      Luteinizing Hormone in Blood Samples\n",
       "longley                 Longley's Economic Regression Data\n",
       "lynx                    Annual Canadian Lynx trappings 1821-1934\n",
       "mdeaths (UKLungDeaths)\n",
       "                        Monthly Deaths from Lung Diseases in the UK\n",
       "morley                  Michelson Speed of Light Data\n",
       "mtcars                  Motor Trend Car Road Tests\n",
       "nhtemp                  Average Yearly Temperatures in New Haven\n",
       "nottem                  Average Monthly Temperatures at Nottingham,\n",
       "                        1920-1939\n",
       "npk                     Classical N, P, K Factorial Experiment\n",
       "occupationalStatus      Occupational Status of Fathers and their Sons\n",
       "precip                  Annual Precipitation in US Cities\n",
       "presidents              Quarterly Approval Ratings of US Presidents\n",
       "pressure                Vapor Pressure of Mercury as a Function of\n",
       "                        Temperature\n",
       "quakes                  Locations of Earthquakes off Fiji\n",
       "randu                   Random Numbers from Congruential Generator\n",
       "                        RANDU\n",
       "rivers                  Lengths of Major North American Rivers\n",
       "rock                    Measurements on Petroleum Rock Samples\n",
       "sleep                   Student's Sleep Data\n",
       "stack.loss (stackloss)\n",
       "                        Brownlee's Stack Loss Plant Data\n",
       "stack.x (stackloss)     Brownlee's Stack Loss Plant Data\n",
       "stackloss               Brownlee's Stack Loss Plant Data\n",
       "state.abb (state)       US State Facts and Figures\n",
       "state.area (state)      US State Facts and Figures\n",
       "state.center (state)    US State Facts and Figures\n",
       "state.division (state)\n",
       "                        US State Facts and Figures\n",
       "state.name (state)      US State Facts and Figures\n",
       "state.region (state)    US State Facts and Figures\n",
       "state.x77 (state)       US State Facts and Figures\n",
       "sunspot.month           Monthly Sunspot Data, from 1749 to \"Present\"\n",
       "sunspot.year            Yearly Sunspot Data, 1700-1988\n",
       "sunspots                Monthly Sunspot Numbers, 1749-1983\n",
       "swiss                   Swiss Fertility and Socioeconomic Indicators\n",
       "                        (1888) Data\n",
       "treering                Yearly Treering Data, -6000-1979\n",
       "trees                   Girth, Height and Volume for Black Cherry Trees\n",
       "uspop                   Populations Recorded by the US Census\n",
       "volcano                 Topographic Information on Auckland's Maunga\n",
       "                        Whau Volcano\n",
       "warpbreaks              The Number of Breaks in Yarn during Weaving\n",
       "women                   Average Heights and Weights for American Women\n",
       "\n",
       "Use ‘data(package = .packages(all.available = TRUE))’\n",
       "to list the data sets in all *available* packages."
      ]
     },
     "metadata": {},
     "output_type": "display_data"
    }
   ],
   "source": [
    "# Displays a list of the inbuilt datasets. Opens in a new \"window\".\n",
    "data()    # uses the data function to get a list of built-in datasets"
   ]
  },
  {
   "cell_type": "markdown",
   "metadata": {},
   "source": [
    "As you can see, there are many different datasets already inbuilt in the R environment. Having to go through each of them to take a look at their structure and try to find out what they represent might be very tiring. Thankfully, R has documentation present for each inbuilt dataset. You can take a look at that by using the `help` function.\n",
    "\n",
    "For example, if we want to know more about the `women` dataset, we can use the following function:"
   ]
  },
  {
   "cell_type": "code",
   "execution_count": 15,
   "metadata": {
    "collapsed": false
   },
   "outputs": [
    {
     "data": {
      "text/html": [
       "\n",
       "<table width=\"100%\" summary=\"page for women {datasets}\"><tr><td>women {datasets}</td><td style=\"text-align: right;\">R Documentation</td></tr></table>\n",
       "\n",
       "<h2>Average Heights and Weights for American Women</h2>\n",
       "\n",
       "<h3>Description</h3>\n",
       "\n",
       "<p>This data set gives the average heights and weights for American women\n",
       "aged 30&ndash;39.\n",
       "</p>\n",
       "\n",
       "\n",
       "<h3>Usage</h3>\n",
       "\n",
       "<pre>women</pre>\n",
       "\n",
       "\n",
       "<h3>Format</h3>\n",
       "\n",
       "<p>A data frame with 15 observations on 2 variables.\n",
       "</p>\n",
       "\n",
       "<table summary=\"Rd table\">\n",
       "<tr>\n",
       " <td style=\"text-align: right;\">\n",
       "    <code>[,1]</code>  </td><td style=\"text-align: left;\"> <code>height</code>  </td><td style=\"text-align: left;\"> numeric  </td><td style=\"text-align: left;\"> Height (in)</td>\n",
       "</tr>\n",
       "<tr>\n",
       " <td style=\"text-align: right;\">\n",
       "    <code>[,2]</code>  </td><td style=\"text-align: left;\"> <code>weight</code>  </td><td style=\"text-align: left;\"> numeric  </td><td style=\"text-align: left;\"> Weight (lbs)\n",
       "  </td>\n",
       "</tr>\n",
       "\n",
       "</table>\n",
       "\n",
       "\n",
       "\n",
       "<h3>Details</h3>\n",
       "\n",
       "<p>The data set appears to have been taken from the American Society of\n",
       "Actuaries <em>Build and Blood Pressure Study</em> for some (unknown to\n",
       "us) earlier year.\n",
       "</p>\n",
       "<p>The World Almanac notes: &ldquo;The figures represent weights in\n",
       "ordinary indoor clothing and shoes, and heights with shoes&rdquo;.\n",
       "</p>\n",
       "\n",
       "\n",
       "<h3>Source</h3>\n",
       "\n",
       "<p>The World Almanac and Book of Facts, 1975.</p>\n",
       "\n",
       "\n",
       "<h3>References</h3>\n",
       "\n",
       "<p>McNeil, D. R. (1977)\n",
       "<em>Interactive Data Analysis</em>.\n",
       "Wiley.\n",
       "</p>\n",
       "\n",
       "\n",
       "<h3>Examples</h3>\n",
       "\n",
       "<pre>\n",
       "require(graphics)\n",
       "plot(women, xlab = \"Height (in)\", ylab = \"Weight (lb)\",\n",
       "     main = \"women data: American women aged 30-39\")\n",
       "</pre>\n",
       "\n",
       "<hr /><div style=\"text-align: center;\">[Package <em>datasets</em> version 3.5.1 ]</div>"
      ],
      "text/latex": [
       "\\inputencoding{utf8}\n",
       "\\HeaderA{women}{Average Heights and Weights for American Women}{women}\n",
       "\\keyword{datasets}{women}\n",
       "%\n",
       "\\begin{Description}\\relax\n",
       "This data set gives the average heights and weights for American women\n",
       "aged 30--39.\n",
       "\\end{Description}\n",
       "%\n",
       "\\begin{Usage}\n",
       "\\begin{verbatim}\n",
       "women\n",
       "\\end{verbatim}\n",
       "\\end{Usage}\n",
       "%\n",
       "\\begin{Format}\n",
       "A data frame with 15 observations on 2 variables.\n",
       "\n",
       "\\Tabular{rlll}{\n",
       "\\code{[,1]}  & \\code{height}  & numeric  & Height (in)\\\\{}\n",
       "\\code{[,2]}  & \\code{weight}  & numeric  & Weight (lbs)\n",
       "}\n",
       "\\end{Format}\n",
       "%\n",
       "\\begin{Details}\\relax\n",
       "The data set appears to have been taken from the American Society of\n",
       "Actuaries \\emph{Build and Blood Pressure Study} for some (unknown to\n",
       "us) earlier year.\n",
       "\n",
       "The World Almanac notes: ``The figures represent weights in\n",
       "ordinary indoor clothing and shoes, and heights with shoes''.\n",
       "\\end{Details}\n",
       "%\n",
       "\\begin{Source}\\relax\n",
       "The World Almanac and Book of Facts, 1975.\n",
       "\\end{Source}\n",
       "%\n",
       "\\begin{References}\\relax\n",
       "McNeil, D. R. (1977)\n",
       "\\emph{Interactive Data Analysis}.\n",
       "Wiley.\n",
       "\\end{References}\n",
       "%\n",
       "\\begin{Examples}\n",
       "\\begin{ExampleCode}\n",
       "require(graphics)\n",
       "plot(women, xlab = \"Height (in)\", ylab = \"Weight (lb)\",\n",
       "     main = \"women data: American women aged 30-39\")\n",
       "\\end{ExampleCode}\n",
       "\\end{Examples}"
      ],
      "text/plain": [
       "women                 package:datasets                 R Documentation\n",
       "\n",
       "_\bA_\bv_\be_\br_\ba_\bg_\be _\bH_\be_\bi_\bg_\bh_\bt_\bs _\ba_\bn_\bd _\bW_\be_\bi_\bg_\bh_\bt_\bs _\bf_\bo_\br _\bA_\bm_\be_\br_\bi_\bc_\ba_\bn _\bW_\bo_\bm_\be_\bn\n",
       "\n",
       "_\bD_\be_\bs_\bc_\br_\bi_\bp_\bt_\bi_\bo_\bn:\n",
       "\n",
       "     This data set gives the average heights and weights for American\n",
       "     women aged 30-39.\n",
       "\n",
       "_\bU_\bs_\ba_\bg_\be:\n",
       "\n",
       "     women\n",
       "     \n",
       "_\bF_\bo_\br_\bm_\ba_\bt:\n",
       "\n",
       "     A data frame with 15 observations on 2 variables.\n",
       "\n",
       "       ‘[,1]’  ‘height’  numeric  Height (in)  \n",
       "       ‘[,2]’  ‘weight’  numeric  Weight (lbs) \n",
       "      \n",
       "_\bD_\be_\bt_\ba_\bi_\bl_\bs:\n",
       "\n",
       "     The data set appears to have been taken from the American Society\n",
       "     of Actuaries _Build and Blood Pressure Study_ for some (unknown to\n",
       "     us) earlier year.\n",
       "\n",
       "     The World Almanac notes: “The figures represent weights in\n",
       "     ordinary indoor clothing and shoes, and heights with shoes”.\n",
       "\n",
       "_\bS_\bo_\bu_\br_\bc_\be:\n",
       "\n",
       "     The World Almanac and Book of Facts, 1975.\n",
       "\n",
       "_\bR_\be_\bf_\be_\br_\be_\bn_\bc_\be_\bs:\n",
       "\n",
       "     McNeil, D. R. (1977) _Interactive Data Analysis_.  Wiley.\n",
       "\n",
       "_\bE_\bx_\ba_\bm_\bp_\bl_\be_\bs:\n",
       "\n",
       "     require(graphics)\n",
       "     plot(women, xlab = \"Height (in)\", ylab = \"Weight (lb)\",\n",
       "          main = \"women data: American women aged 30-39\")\n",
       "     "
      ]
     },
     "metadata": {},
     "output_type": "display_data"
    }
   ],
   "source": [
    "# Opens up the documentation for the inbuilt \"women\" dataset.\n",
    "help(women)"
   ]
  },
  {
   "cell_type": "markdown",
   "metadata": {},
   "source": [
    "Since the datasets listed are inbuilt, you do not need to import or load them to use them. If you reference them by their name, R already has the data frame ready."
   ]
  },
  {
   "cell_type": "code",
   "execution_count": 16,
   "metadata": {
    "collapsed": false,
    "scrolled": true
   },
   "outputs": [
    {
     "data": {
      "text/html": [
       "<table>\n",
       "<thead><tr><th scope=col>height</th><th scope=col>weight</th></tr></thead>\n",
       "<tbody>\n",
       "\t<tr><td>58 </td><td>115</td></tr>\n",
       "\t<tr><td>59 </td><td>117</td></tr>\n",
       "\t<tr><td>60 </td><td>120</td></tr>\n",
       "\t<tr><td>61 </td><td>123</td></tr>\n",
       "\t<tr><td>62 </td><td>126</td></tr>\n",
       "\t<tr><td>63 </td><td>129</td></tr>\n",
       "\t<tr><td>64 </td><td>132</td></tr>\n",
       "\t<tr><td>65 </td><td>135</td></tr>\n",
       "\t<tr><td>66 </td><td>139</td></tr>\n",
       "\t<tr><td>67 </td><td>142</td></tr>\n",
       "\t<tr><td>68 </td><td>146</td></tr>\n",
       "\t<tr><td>69 </td><td>150</td></tr>\n",
       "\t<tr><td>70 </td><td>154</td></tr>\n",
       "\t<tr><td>71 </td><td>159</td></tr>\n",
       "\t<tr><td>72 </td><td>164</td></tr>\n",
       "</tbody>\n",
       "</table>\n"
      ],
      "text/latex": [
       "\\begin{tabular}{r|ll}\n",
       " height & weight\\\\\n",
       "\\hline\n",
       "\t 58  & 115\\\\\n",
       "\t 59  & 117\\\\\n",
       "\t 60  & 120\\\\\n",
       "\t 61  & 123\\\\\n",
       "\t 62  & 126\\\\\n",
       "\t 63  & 129\\\\\n",
       "\t 64  & 132\\\\\n",
       "\t 65  & 135\\\\\n",
       "\t 66  & 139\\\\\n",
       "\t 67  & 142\\\\\n",
       "\t 68  & 146\\\\\n",
       "\t 69  & 150\\\\\n",
       "\t 70  & 154\\\\\n",
       "\t 71  & 159\\\\\n",
       "\t 72  & 164\\\\\n",
       "\\end{tabular}\n"
      ],
      "text/markdown": [
       "\n",
       "height | weight | \n",
       "|---|---|---|---|---|---|---|---|---|---|---|---|---|---|---|\n",
       "| 58  | 115 | \n",
       "| 59  | 117 | \n",
       "| 60  | 120 | \n",
       "| 61  | 123 | \n",
       "| 62  | 126 | \n",
       "| 63  | 129 | \n",
       "| 64  | 132 | \n",
       "| 65  | 135 | \n",
       "| 66  | 139 | \n",
       "| 67  | 142 | \n",
       "| 68  | 146 | \n",
       "| 69  | 150 | \n",
       "| 70  | 154 | \n",
       "| 71  | 159 | \n",
       "| 72  | 164 | \n",
       "\n",
       "\n"
      ],
      "text/plain": [
       "   height weight\n",
       "1  58     115   \n",
       "2  59     117   \n",
       "3  60     120   \n",
       "4  61     123   \n",
       "5  62     126   \n",
       "6  63     129   \n",
       "7  64     132   \n",
       "8  65     135   \n",
       "9  66     139   \n",
       "10 67     142   \n",
       "11 68     146   \n",
       "12 69     150   \n",
       "13 70     154   \n",
       "14 71     159   \n",
       "15 72     164   "
      ]
     },
     "metadata": {},
     "output_type": "display_data"
    }
   ],
   "source": [
    "women"
   ]
  },
  {
   "cell_type": "markdown",
   "metadata": {},
   "source": [
    "<a id=\"ref4\"></a>\n",
    "<center><h2>Reading Text (.txt) files in R</h2></center>"
   ]
  },
  {
   "cell_type": "markdown",
   "metadata": {},
   "source": [
    "See the first lab in Module 5 on \"String_Operations\" for how to read text files.\n",
    "This content was not in the original version of this lab.  Although the there's a video in Module 4 that covers this top, the Lab for this topic is in Module 5."
   ]
  },
  {
   "cell_type": "code",
   "execution_count": 7,
   "metadata": {
    "collapsed": false,
    "scrolled": true
   },
   "outputs": [],
   "source": [
    "# Download the data file\n",
    "download.file(\"https://ibm.box.com/shared/static/l8v8g8e6uzk7yj2j1qc8ypezbhzukphy.txt\", destfile=\"The_Artist.txt\")\n",
    "\n"
   ]
  },
  {
   "cell_type": "code",
   "execution_count": 8,
   "metadata": {
    "collapsed": false,
    "scrolled": true
   },
   "outputs": [
    {
     "data": {
      "text/html": [
       "<ol class=list-inline>\n",
       "\t<li>'The Artist is a 2011 French romantic comedy-drama in the style of a black-and-white silent film. It was written, directed, and co-edited by Michel Hazanavicius, produced by Thomas Langmann and starred Jean Dujardin and Bérénice Bejo. The story takes place in Hollywood, between 1927 and 1932, and focuses on the relationship of an older silent film star and a rising young actress as silent cinema falls out of fashion and is replaced by the talkies.'</li>\n",
       "\t<li>''</li>\n",
       "\t<li>'The Artist received highly positive reviews from critics and won many accolades. Dujardin won the Best Actor Award at the 2011 Cannes Film Festival, where the film premiered. The film was nominated for six Golden Globes, the most of any 2011 film, and won three: Best Motion Picture – Musical or Comedy, Best Original Score, and Best Actor – Motion Picture Musical or Comedy for Dujardin. In January 2012, the film was nominated for twelve BAFTAs, the most of any film from 2011 and won seven, including Best Film, Best Director and Best Original Screenplay for Hazanavicius, and Best Actor for Dujardin.'</li>\n",
       "\t<li>''</li>\n",
       "\t<li>''</li>\n",
       "</ol>\n"
      ],
      "text/latex": [
       "\\begin{enumerate*}\n",
       "\\item 'The Artist is a 2011 French romantic comedy-drama in the style of a black-and-white silent film. It was written, directed, and co-edited by Michel Hazanavicius, produced by Thomas Langmann and starred Jean Dujardin and Bérénice Bejo. The story takes place in Hollywood, between 1927 and 1932, and focuses on the relationship of an older silent film star and a rising young actress as silent cinema falls out of fashion and is replaced by the talkies.'\n",
       "\\item ''\n",
       "\\item 'The Artist received highly positive reviews from critics and won many accolades. Dujardin won the Best Actor Award at the 2011 Cannes Film Festival, where the film premiered. The film was nominated for six Golden Globes, the most of any 2011 film, and won three: Best Motion Picture – Musical or Comedy, Best Original Score, and Best Actor – Motion Picture Musical or Comedy for Dujardin. In January 2012, the film was nominated for twelve BAFTAs, the most of any film from 2011 and won seven, including Best Film, Best Director and Best Original Screenplay for Hazanavicius, and Best Actor for Dujardin.'\n",
       "\\item ''\n",
       "\\item ''\n",
       "\\end{enumerate*}\n"
      ],
      "text/markdown": [
       "1. 'The Artist is a 2011 French romantic comedy-drama in the style of a black-and-white silent film. It was written, directed, and co-edited by Michel Hazanavicius, produced by Thomas Langmann and starred Jean Dujardin and Bérénice Bejo. The story takes place in Hollywood, between 1927 and 1932, and focuses on the relationship of an older silent film star and a rising young actress as silent cinema falls out of fashion and is replaced by the talkies.'\n",
       "2. ''\n",
       "3. 'The Artist received highly positive reviews from critics and won many accolades. Dujardin won the Best Actor Award at the 2011 Cannes Film Festival, where the film premiered. The film was nominated for six Golden Globes, the most of any 2011 film, and won three: Best Motion Picture – Musical or Comedy, Best Original Score, and Best Actor – Motion Picture Musical or Comedy for Dujardin. In January 2012, the film was nominated for twelve BAFTAs, the most of any film from 2011 and won seven, including Best Film, Best Director and Best Original Screenplay for Hazanavicius, and Best Actor for Dujardin.'\n",
       "4. ''\n",
       "5. ''\n",
       "\n",
       "\n"
      ],
      "text/plain": [
       "[1] \"The Artist is a 2011 French romantic comedy-drama in the style of a black-and-white silent film. It was written, directed, and co-edited by Michel Hazanavicius, produced by Thomas Langmann and starred Jean Dujardin and Bérénice Bejo. The story takes place in Hollywood, between 1927 and 1932, and focuses on the relationship of an older silent film star and a rising young actress as silent cinema falls out of fashion and is replaced by the talkies.\"                                                                                                                                                          \n",
       "[2] \"\"                                                                                                                                                                                                                                                                                                                                                                                                                                                                                                                                                                                                                            \n",
       "[3] \"The Artist received highly positive reviews from critics and won many accolades. Dujardin won the Best Actor Award at the 2011 Cannes Film Festival, where the film premiered. The film was nominated for six Golden Globes, the most of any 2011 film, and won three: Best Motion Picture – Musical or Comedy, Best Original Score, and Best Actor – Motion Picture Musical or Comedy for Dujardin. In January 2012, the film was nominated for twelve BAFTAs, the most of any film from 2011 and won seven, including Best Film, Best Director and Best Original Screenplay for Hazanavicius, and Best Actor for Dujardin.\"\n",
       "[4] \"\"                                                                                                                                                                                                                                                                                                                                                                                                                                                                                                                                                                                                                            \n",
       "[5] \"\"                                                                                                                                                                                                                                                                                                                                                                                                                                                                                                                                                                                                                            "
      ]
     },
     "metadata": {},
     "output_type": "display_data"
    }
   ],
   "source": [
    "# Reading text files into R using readLines()\n",
    "mytext <- readLines(\"The_Artist.txt\")\n",
    "mytext\n"
   ]
  },
  {
   "cell_type": "markdown",
   "metadata": {},
   "source": [
    "<hr>\n",
    "#### Scaling R with big data\n",
    "\n",
    "As you learn more about R, if you are interested in exploring platforms that can help you run analyses at scale, you might want to sign up for a free account on [IBM Watson Studio](http://cocl.us/dsx_rp0101en), which allows you to run analyses in R with two Spark executors for free.\n",
    "\n",
    "\n",
    "<hr>\n",
    "\n",
    "### About the Authors:  \n",
    "Hi! It's [Iqbal Singh](https://ca.linkedin.com/in/iqbalsingh15) and [Walter Gomes](https://br.linkedin.com/in/walter-gomes-de-amorim-junior-624726121), the authors of this notebook. I hope you found it easy to learn how to import data into R! Feel free to connect with us if you have any questions."
   ]
  },
  {
   "cell_type": "markdown",
   "metadata": {},
   "source": [
    "<hr>\n",
    "\n",
    "\n",
    "Copyright &copy; [IBM Cognitive Class](https://cognitiveclass.ai). This notebook and its source code are released under the terms of the [MIT License](https://cognitiveclass.ai/mit-license/)."
   ]
  }
 ],
 "metadata": {
  "kernelspec": {
   "display_name": "R",
   "language": "R",
   "name": "ir"
  },
  "language_info": {
   "codemirror_mode": "r",
   "file_extension": ".r",
   "mimetype": "text/x-r-source",
   "name": "R",
   "pygments_lexer": "r",
   "version": "3.5.1"
  },
  "widgets": {
   "state": {},
   "version": "1.1.2"
  }
 },
 "nbformat": 4,
 "nbformat_minor": 2
}
