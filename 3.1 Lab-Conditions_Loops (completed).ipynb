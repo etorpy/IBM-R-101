{
 "cells": [
  {
   "cell_type": "markdown",
   "metadata": {},
   "source": [
    "<img src=\"http://cognitiveclass.ai/wp-content/uploads/2017/11/cc-logo-square.png\" width=\"150\">\n",
    "\n",
    "\n",
    "\n",
    "\n",
    "<h1 align=center>LOOPS and CONDITIONS</h1> \n",
    "\n"
   ]
  },
  {
   "cell_type": "markdown",
   "metadata": {},
   "source": [
    "## Table of Contents\n",
    "\n",
    "\n",
    "<ul>\n",
    "<li><a href=\"#About-the-Dataset\">About the Dataset</a></li>\n",
    "<li><a href=\"#Control-statements\">Control statements</a></li>\n",
    "<li><a href=\"#Conditional-Execution\">Conditional Execution</a></li>\n",
    "<li><a href=\"#Loops\">Loops</a></li>\n",
    "</ul>\n",
    "<p></p>\n",
    "Estimated Time Needed: <strong>15 min</strong>\n",
    "\n",
    "\n",
    "<hr>"
   ]
  },
  {
   "cell_type": "markdown",
   "metadata": {},
   "source": [
    "<a id=\"ref0\"></a>\n",
    "<h2 align=center>About the Dataset</h2>"
   ]
  },
  {
   "cell_type": "markdown",
   "metadata": {},
   "source": [
    "Imagine you got many movie recomendations from your friends and compiled all of the recomendations in a table, with specific info about each movie.\n",
    "\n",
    "The table has one row for each movie and several columns\n",
    "\n",
    "- **name** - The name of the movie\n",
    "- **year** - The year the movie was released\n",
    "- **length_min** - The lenght of the movie in minutes\n",
    "- **genre** - The genre of the movie\n",
    "- **average_rating** - Average rating on Imdb\n",
    "- **cost_millions** - The movie's production cost in millions\n",
    "- **sequences** - The amount of sequences\n",
    "- **foreign** - Indicative of whether the movie is foreign (1) or domestic (0)\n",
    "- **age_restriction** - The age restriction for the movie\n",
    "<br>\n",
    "\n",
    "You can see part of the dataset below\n",
    "\n",
    "<img src = \"https://ibm.box.com/shared/static/6kr8sg0n6pc40zd1xn6hjhtvy3k7cmeq.png\">"
   ]
  },
  {
   "cell_type": "markdown",
   "metadata": {},
   "source": [
    "Lets first download the dataset that we will use in this notebook:"
   ]
  },
  {
   "cell_type": "code",
   "execution_count": 1,
   "metadata": {
    "collapsed": true
   },
   "outputs": [],
   "source": [
    "# code to download the dataset\n",
    "download.file(\"https://ibm.box.com/shared/static/n5ay5qadfe7e1nnsv5s01oe1x62mq51j.csv\", destfile=\"movies-db.csv\")"
   ]
  },
  {
   "cell_type": "markdown",
   "metadata": {},
   "source": [
    "To begin, we can start by associating our data to a data frame. Let's call it `movies_Data`."
   ]
  },
  {
   "cell_type": "code",
   "execution_count": 2,
   "metadata": {
    "collapsed": false
   },
   "outputs": [],
   "source": [
    "movies_data <- read.csv(\"movies-db.csv\", header=TRUE, sep=\",\")"
   ]
  },
  {
   "cell_type": "markdown",
   "metadata": {},
   "source": [
    "<hr>"
   ]
  },
  {
   "cell_type": "markdown",
   "metadata": {},
   "source": [
    "<a id=\"ref1\"></a>\n",
    "<center><h2>Control statements</h2></center>"
   ]
  },
  {
   "cell_type": "markdown",
   "metadata": {},
   "source": [
    "**Control statements** are ways for a programmer to control what pieces of the program are to be executed at certain times. The syntax of control statements is very similar to regular english, and they are very similar to logical decisions that we make all the time.\n",
    "\n",
    "**Conditional statements** and **Loops** are the control statements that are able to change the execution flow. The expected execution flow is that each line and command should be executed in the order they are written. Control statements are able to change this, allowing you to skip parts of the code or to repeat blocks of code."
   ]
  },
  {
   "cell_type": "markdown",
   "metadata": {},
   "source": [
    "<hr>"
   ]
  },
  {
   "cell_type": "markdown",
   "metadata": {},
   "source": [
    "<a id=\"ref2\"></a>\n",
    "<center><h2>Conditional Statements</h2></center>"
   ]
  },
  {
   "cell_type": "markdown",
   "metadata": {},
   "source": [
    "We often want to check a conditional statement and then do something in response to that condition being true or false.\n",
    "\n",
    "### If Statements\n",
    "\n",
    "**If** statements are composed of a conditional check and a block of code that is executed if the check results in **true**. For example, assume we want to check a movie's year, and print something if it greater than 2000:"
   ]
  },
  {
   "cell_type": "code",
   "execution_count": 3,
   "metadata": {
    "collapsed": false
   },
   "outputs": [
    {
     "name": "stdout",
     "output_type": "stream",
     "text": [
      "[1] \"Movie year is greater than 2000\"\n"
     ]
    }
   ],
   "source": [
    "movie_year = 2002\n",
    "\n",
    "# If Movie_Year is greater than 2000...\n",
    "if(movie_year > 2000){\n",
    "\n",
    "    # ...we print a message saying that it is greater than 2000.\n",
    "    print('Movie year is greater than 2000')\n",
    "\n",
    "}"
   ]
  },
  {
   "cell_type": "markdown",
   "metadata": {},
   "source": [
    "Notice that the code in the above block **{}** will only be executed if the check results in **true**. "
   ]
  },
  {
   "cell_type": "markdown",
   "metadata": {},
   "source": [
    "You can also add an `else` block to `if` block -- the code in `else` block will only be executed if the check results in **false**.\n",
    "\n",
    "**Syntax:** \n",
    "\n",
    "if (condition) {\n",
    "    # do something\n",
    "} else {\n",
    "    # do something else\n",
    "}"
   ]
  },
  {
   "cell_type": "markdown",
   "metadata": {},
   "source": [
    "<div class=\"alert alert-success alertsuccess\" style=\"margin-top: 20px\">\n",
    "**Tip**: This syntax can be spread over multiple lines for ease of creation and legibility.\n",
    "</div>"
   ]
  },
  {
   "cell_type": "markdown",
   "metadata": {},
   "source": [
    "Let's create a variable called **`Movie_Year`** and attribute it the value 1997. Additionally, let's add an `if` statement to check if the value stored in **`Movie_Year`** is greater than 2000 or not -- if it is, then we want to output a message saying that Movie_Year is greater than 2000, if not, then we output a message saying that it is not greater than 2000."
   ]
  },
  {
   "cell_type": "code",
   "execution_count": 4,
   "metadata": {
    "collapsed": false,
    "scrolled": true
   },
   "outputs": [
    {
     "name": "stdout",
     "output_type": "stream",
     "text": [
      "[1] \"Movie year is not greater than 2000\"\n"
     ]
    }
   ],
   "source": [
    "movie_year = 1997\n",
    "\n",
    "# If Movie_Year is greater than 2000...\n",
    "if(movie_year > 2000){\n",
    "\n",
    "    # ...we print a message saying that it is greater than 2000.\n",
    "    print('Movie year is greater than 2000')\n",
    "\n",
    "}else{ # If the above conditions were not met (Movie_Year is not greater than 2000)...\n",
    "    \n",
    "    # ...then we print a message saying that it is not greater than 2000.\n",
    "    print('Movie year is not greater than 2000') \n",
    "\n",
    "}"
   ]
  },
  {
   "cell_type": "markdown",
   "metadata": {},
   "source": [
    "Feel free to change **`movie_year`**'s value to other values -- you'll see that the result changes based on it!"
   ]
  },
  {
   "cell_type": "markdown",
   "metadata": {},
   "source": [
    "To create our conditional statements to be used with **`if`** and **`else`**, we have a few tools:\n",
    "\n",
    "### Comparison operators\n",
    "When comparing two values you can use this operators\n",
    "\n",
    "<ul>\n",
    "<li>equal: `==`\n",
    "<li>not equal: `!=`\n",
    "<li>greater/less than: `>` `<` </li>\n",
    "<li> greater/less than or equal: `>=` `<=` </li>\n",
    "</ul>\n",
    "\n",
    "### Logical operators\n",
    "Sometimes you want to check more than one condition at once. For example you might want to check if one condition **and** other condition are true. Logical operators allow you to combine or modify conditions.\n",
    "\n",
    "<ul>\n",
    "<li> and: `&`\n",
    "<li> or: `|`\n",
    "<li> not: `!`\n",
    "</ul>\n",
    "\n",
    "Let's try using these operators:"
   ]
  },
  {
   "cell_type": "code",
   "execution_count": 5,
   "metadata": {
    "collapsed": false
   },
   "outputs": [
    {
     "name": "stdout",
     "output_type": "stream",
     "text": [
      "[1] \"Movie year between 1990 and 2000\"\n",
      "[1] \"Movie year is not between 2000 and 2010\"\n"
     ]
    }
   ],
   "source": [
    "movie_year = 1997\n",
    "\n",
    "# If Movie_Year is BOTH less than 2000 AND greater than 1990 -- both conditions have to be true! -- ... \n",
    "if(movie_year < 2000 & movie_year > 1990 ) {\n",
    "    # ...then we print this message.\n",
    "    print('Movie year between 1990 and 2000') \n",
    "}\n",
    "\n",
    "# If Movie_Year is EITHER greater than 2010 OR less than 2000 -- any of the conditions have to be true! -- ... \n",
    "if(movie_year > 2010 | movie_year < 2000 ) {\n",
    "    # ...then we print this message.\n",
    "    print('Movie year is not between 2000 and 2010') \n",
    "}"
   ]
  },
  {
   "cell_type": "markdown",
   "metadata": {},
   "source": [
    "<div class=\"alert alert-success alertsuccess\" style=\"margin-top: 20px\">\n",
    "**Tip**: All the expressions will return the value in Boolean format -- this format can only house two values: true or false!\n",
    "</div>"
   ]
  },
  {
   "cell_type": "markdown",
   "metadata": {},
   "source": [
    "### Subset\n",
    "\n",
    "Sometimes, we don't want an entire dataset -- maybe in a dataset of people we want only people with age 18 and over, or in the movies dataset, maybe we want only movies that were created after a certain year. This means we want a **subset** of the dataset. In R, we can do this by utilizing the **`subset`** function.\n",
    "\n",
    "Suppose we want a subset of the **`movies_Data`** data frame composed of movies from a given year forward (e.g. year 2000) if a selected variable is **recent**, or from that given year back if we select **old**. We can quite simply do that in R by doing this:"
   ]
  },
  {
   "cell_type": "code",
   "execution_count": 6,
   "metadata": {
    "collapsed": false
   },
   "outputs": [
    {
     "data": {
      "text/html": [
       "<table>\n",
       "<thead><tr><th></th><th scope=col>name</th><th scope=col>year</th><th scope=col>length_min</th><th scope=col>genre</th><th scope=col>average_rating</th><th scope=col>cost_millions</th><th scope=col>foreign</th><th scope=col>age_restriction</th></tr></thead>\n",
       "<tbody>\n",
       "\t<tr><th scope=row>4</th><td>The Artist                               </td><td>2011                                     </td><td>100                                      </td><td>Romance                                  </td><td>8.0                                      </td><td> 15.0                                    </td><td>1                                        </td><td>12                                       </td></tr>\n",
       "\t<tr><th scope=row>7</th><td>City of God                              </td><td>2002                                     </td><td>130                                      </td><td>Crime                                    </td><td>8.7                                      </td><td>  3.3                                    </td><td>1                                        </td><td>18                                       </td></tr>\n",
       "\t<tr><th scope=row>11</th><td>Room                                     </td><td>2015                                     </td><td>118                                      </td><td>Drama                                    </td><td>8.3                                      </td><td> 13.0                                    </td><td>1                                        </td><td>14                                       </td></tr>\n",
       "\t<tr><th scope=row>15</th><td>High School Musical                      </td><td>2006                                     </td><td> 98                                      </td><td>Comedy                                   </td><td>5.2                                      </td><td>  4.2                                    </td><td>0                                        </td><td> 0                                       </td></tr>\n",
       "\t<tr><th scope=row>16</th><td>Shaun of the Dead                        </td><td>2004                                     </td><td> 99                                      </td><td>Horror                                   </td><td>8.0                                      </td><td>  6.1                                    </td><td>1                                        </td><td>18                                       </td></tr>\n",
       "\t<tr><th scope=row>19</th><td>Interstellar                             </td><td>2014                                     </td><td>169                                      </td><td>Adventure                                </td><td>8.6                                      </td><td>165.0                                    </td><td>0                                        </td><td>10                                       </td></tr>\n",
       "\t<tr><th scope=row>22</th><td>Blue is the Warmest Colour               </td><td>2013                                     </td><td>179                                      </td><td>Romance                                  </td><td>7.8                                      </td><td>  4.5                                    </td><td>1                                        </td><td>18                                       </td></tr>\n",
       "\t<tr><th scope=row>23</th><td>Black Swan                               </td><td>2010                                     </td><td>108                                      </td><td>Thriller                                 </td><td>8.0                                      </td><td> 13.0                                    </td><td>0                                        </td><td>16                                       </td></tr>\n",
       "\t<tr><th scope=row>25</th><td>The Wave                                 </td><td>2008                                     </td><td>107                                      </td><td>Thriller                                 </td><td>7.6                                      </td><td>  5.5                                    </td><td>1                                        </td><td>16                                       </td></tr>\n",
       "\t<tr><th scope=row>26</th><td>Whiplash                                 </td><td>2014                                     </td><td>106                                      </td><td>Drama                                    </td><td>8.5                                      </td><td>  3.3                                    </td><td>1                                        </td><td>12                                       </td></tr>\n",
       "\t<tr><th scope=row>27</th><td>The Grand Hotel Budapest                 </td><td>2014                                     </td><td>100                                      </td><td>Crime                                    </td><td>8.1                                      </td><td> 25.5                                    </td><td>0                                        </td><td>14                                       </td></tr>\n",
       "\t<tr><th scope=row>29</th><td>The Eternal Sunshine of the Spotless Mind</td><td>2004                                     </td><td>108                                      </td><td>Drama                                    </td><td>8.3                                      </td><td> 20.0                                    </td><td>0                                        </td><td>14                                       </td></tr>\n",
       "\t<tr><th scope=row>30</th><td>Chicago                                  </td><td>2002                                     </td><td>113                                      </td><td>Comedy                                   </td><td>7.2                                      </td><td> 45.0                                    </td><td>0                                        </td><td>12                                       </td></tr>\n",
       "</tbody>\n",
       "</table>\n"
      ],
      "text/latex": [
       "\\begin{tabular}{r|llllllll}\n",
       "  & name & year & length\\_min & genre & average\\_rating & cost\\_millions & foreign & age\\_restriction\\\\\n",
       "\\hline\n",
       "\t4 & The Artist                                & 2011                                      & 100                                       & Romance                                   & 8.0                                       &  15.0                                     & 1                                         & 12                                       \\\\\n",
       "\t7 & City of God                               & 2002                                      & 130                                       & Crime                                     & 8.7                                       &   3.3                                     & 1                                         & 18                                       \\\\\n",
       "\t11 & Room                                      & 2015                                      & 118                                       & Drama                                     & 8.3                                       &  13.0                                     & 1                                         & 14                                       \\\\\n",
       "\t15 & High School Musical                       & 2006                                      &  98                                       & Comedy                                    & 5.2                                       &   4.2                                     & 0                                         &  0                                       \\\\\n",
       "\t16 & Shaun of the Dead                         & 2004                                      &  99                                       & Horror                                    & 8.0                                       &   6.1                                     & 1                                         & 18                                       \\\\\n",
       "\t19 & Interstellar                              & 2014                                      & 169                                       & Adventure                                 & 8.6                                       & 165.0                                     & 0                                         & 10                                       \\\\\n",
       "\t22 & Blue is the Warmest Colour                & 2013                                      & 179                                       & Romance                                   & 7.8                                       &   4.5                                     & 1                                         & 18                                       \\\\\n",
       "\t23 & Black Swan                                & 2010                                      & 108                                       & Thriller                                  & 8.0                                       &  13.0                                     & 0                                         & 16                                       \\\\\n",
       "\t25 & The Wave                                  & 2008                                      & 107                                       & Thriller                                  & 7.6                                       &   5.5                                     & 1                                         & 16                                       \\\\\n",
       "\t26 & Whiplash                                  & 2014                                      & 106                                       & Drama                                     & 8.5                                       &   3.3                                     & 1                                         & 12                                       \\\\\n",
       "\t27 & The Grand Hotel Budapest                  & 2014                                      & 100                                       & Crime                                     & 8.1                                       &  25.5                                     & 0                                         & 14                                       \\\\\n",
       "\t29 & The Eternal Sunshine of the Spotless Mind & 2004                                      & 108                                       & Drama                                     & 8.3                                       &  20.0                                     & 0                                         & 14                                       \\\\\n",
       "\t30 & Chicago                                   & 2002                                      & 113                                       & Comedy                                    & 7.2                                       &  45.0                                     & 0                                         & 12                                       \\\\\n",
       "\\end{tabular}\n"
      ],
      "text/markdown": [
       "\n",
       "| <!--/--> | name | year | length_min | genre | average_rating | cost_millions | foreign | age_restriction | \n",
       "|---|---|---|---|---|---|---|---|---|---|---|---|---|\n",
       "| 4 | The Artist                                | 2011                                      | 100                                       | Romance                                   | 8.0                                       |  15.0                                     | 1                                         | 12                                        | \n",
       "| 7 | City of God                               | 2002                                      | 130                                       | Crime                                     | 8.7                                       |   3.3                                     | 1                                         | 18                                        | \n",
       "| 11 | Room                                      | 2015                                      | 118                                       | Drama                                     | 8.3                                       |  13.0                                     | 1                                         | 14                                        | \n",
       "| 15 | High School Musical                       | 2006                                      |  98                                       | Comedy                                    | 5.2                                       |   4.2                                     | 0                                         |  0                                        | \n",
       "| 16 | Shaun of the Dead                         | 2004                                      |  99                                       | Horror                                    | 8.0                                       |   6.1                                     | 1                                         | 18                                        | \n",
       "| 19 | Interstellar                              | 2014                                      | 169                                       | Adventure                                 | 8.6                                       | 165.0                                     | 0                                         | 10                                        | \n",
       "| 22 | Blue is the Warmest Colour                | 2013                                      | 179                                       | Romance                                   | 7.8                                       |   4.5                                     | 1                                         | 18                                        | \n",
       "| 23 | Black Swan                                | 2010                                      | 108                                       | Thriller                                  | 8.0                                       |  13.0                                     | 0                                         | 16                                        | \n",
       "| 25 | The Wave                                  | 2008                                      | 107                                       | Thriller                                  | 7.6                                       |   5.5                                     | 1                                         | 16                                        | \n",
       "| 26 | Whiplash                                  | 2014                                      | 106                                       | Drama                                     | 8.5                                       |   3.3                                     | 1                                         | 12                                        | \n",
       "| 27 | The Grand Hotel Budapest                  | 2014                                      | 100                                       | Crime                                     | 8.1                                       |  25.5                                     | 0                                         | 14                                        | \n",
       "| 29 | The Eternal Sunshine of the Spotless Mind | 2004                                      | 108                                       | Drama                                     | 8.3                                       |  20.0                                     | 0                                         | 14                                        | \n",
       "| 30 | Chicago                                   | 2002                                      | 113                                       | Comedy                                    | 7.2                                       |  45.0                                     | 0                                         | 12                                        | \n",
       "\n",
       "\n"
      ],
      "text/plain": [
       "   name                                      year length_min genre    \n",
       "4  The Artist                                2011 100        Romance  \n",
       "7  City of God                               2002 130        Crime    \n",
       "11 Room                                      2015 118        Drama    \n",
       "15 High School Musical                       2006  98        Comedy   \n",
       "16 Shaun of the Dead                         2004  99        Horror   \n",
       "19 Interstellar                              2014 169        Adventure\n",
       "22 Blue is the Warmest Colour                2013 179        Romance  \n",
       "23 Black Swan                                2010 108        Thriller \n",
       "25 The Wave                                  2008 107        Thriller \n",
       "26 Whiplash                                  2014 106        Drama    \n",
       "27 The Grand Hotel Budapest                  2014 100        Crime    \n",
       "29 The Eternal Sunshine of the Spotless Mind 2004 108        Drama    \n",
       "30 Chicago                                   2002 113        Comedy   \n",
       "   average_rating cost_millions foreign age_restriction\n",
       "4  8.0             15.0         1       12             \n",
       "7  8.7              3.3         1       18             \n",
       "11 8.3             13.0         1       14             \n",
       "15 5.2              4.2         0        0             \n",
       "16 8.0              6.1         1       18             \n",
       "19 8.6            165.0         0       10             \n",
       "22 7.8              4.5         1       18             \n",
       "23 8.0             13.0         0       16             \n",
       "25 7.6              5.5         1       16             \n",
       "26 8.5              3.3         1       12             \n",
       "27 8.1             25.5         0       14             \n",
       "29 8.3             20.0         0       14             \n",
       "30 7.2             45.0         0       12             "
      ]
     },
     "metadata": {},
     "output_type": "display_data"
    }
   ],
   "source": [
    "# NOTE: This is a TERRIBLE exampe of using if ... else, but it's O.K. as an example of using subset.\n",
    "# This could be used as part of a user-interface where the user chooses whether they want \n",
    "#   the subset of data to be a 'recent' list of movies or a not recent list.\n",
    "decade = 'recent'   # NOTE: decade is a constant and is not meaninful\n",
    "\n",
    "# If the decade given is recent...\n",
    "if(decade == 'recent' ){\n",
    "    # Subset the dataset to include only movies after year 2000.\n",
    "    subset(movies_data, year >= 2000)\n",
    "} else { # If not...\n",
    "    # Subset the dataset to include only movies before 2000.  (This is not run because decade always equals 'recent'.)\n",
    "    subset(movies_data, year < 2000)\n",
    "}"
   ]
  },
  {
   "cell_type": "markdown",
   "metadata": {},
   "source": [
    "<hr>"
   ]
  },
  {
   "cell_type": "markdown",
   "metadata": {},
   "source": [
    "<a id=\"ref3\"></a>\n",
    "<center><h2>Loops</h2></center>"
   ]
  },
  {
   "cell_type": "markdown",
   "metadata": {},
   "source": [
    "Sometimes, you might want to repeat a given function many times. Maybe you don't even know how many times you want it to execute, but have an idea like `once for every row in my dataset`. Repeated execution like this is supplemented by **loops**. In R, there are two main loop structures, **`for`** and **`while`**.\n",
    "\n",
    "### The `for` loop\n",
    "The `for` loop structure enables you to execute a code block once for every element in a given structure. For example, it would be like saying **execute this once for every row in my dataset**, or \"execute this once for every element in this column bigger than 10\". **`for`** loops are a very useful structure that make the processing of a large amount of data very simple.\n",
    "\n",
    "Let's try to use a **`for`** loop to print all the years present in the **`year`** column in the **`movies_Data`** data frame. We can do that like this:"
   ]
  },
  {
   "cell_type": "code",
   "execution_count": 8,
   "metadata": {
    "collapsed": false
   },
   "outputs": [
    {
     "name": "stdout",
     "output_type": "stream",
     "text": [
      " [1] 1995 1998 1985 2011 1936 1999 2002 1987 1977 1999 2015 1964 1998 1975 2006\n",
      "[16] 2004 1976 1994 2014 1995 1990 2013 2010 1985 2008 2014 2014 1995 2004 2002\n"
     ]
    }
   ],
   "source": [
    "# NOTE: There are 30 movies in the movies_data dataset.\n",
    "\n",
    "# Get the data for the \"year\" column in the data frame.\n",
    "years <- movies_data['year']\n",
    "\n",
    "# For each value in the \"years\" variable...\n",
    "# Note that \"val\" here is a variable -- it assumes the value of one of the data points in \"years\"!\n",
    "for (val in years) {\n",
    "    # ...print the year stored in \"val\".\n",
    "    print(val)\n",
    "}"
   ]
  },
  {
   "cell_type": "markdown",
   "metadata": {},
   "source": [
    "### The `while` loop\n",
    "As you can see, the `for` loop is useful for a controlled flow of repetition. However, what if we don't know when we want to stop the loop? What if we want to keep executing a code block until a certain threshold has been reached, or maybe when a logical expression finally results in an expected fashion?\n",
    "\n",
    "The `while` loop exists as a tool for repeated execution based on a condition. The code block will keep being executed until the given logical condition returns a `False` boolean value.\n",
    "\n",
    "Let's try using `while` to print the first five movie names of our dataset. It can be done like this:"
   ]
  },
  {
   "cell_type": "code",
   "execution_count": 9,
   "metadata": {
    "collapsed": false
   },
   "outputs": [
    {
     "name": "stdout",
     "output_type": "stream",
     "text": [
      "[1] \"This is iteration number:\" \"1\"                        \n",
      "[1] Toy Story\n",
      "30 Levels: Akira American Beauty Back to the Future ... Whiplash\n",
      "[1] \"This is iteration number:\" \"2\"                        \n",
      "[1] Akira\n",
      "30 Levels: Akira American Beauty Back to the Future ... Whiplash\n",
      "[1] \"This is iteration number:\" \"3\"                        \n",
      "[1] The Breakfast Club\n",
      "30 Levels: Akira American Beauty Back to the Future ... Whiplash\n",
      "[1] \"This is iteration number:\" \"4\"                        \n",
      "[1] The Artist\n",
      "30 Levels: Akira American Beauty Back to the Future ... Whiplash\n",
      "[1] \"This is iteration number:\" \"5\"                        \n",
      "[1] Modern Times\n",
      "30 Levels: Akira American Beauty Back to the Future ... Whiplash\n"
     ]
    }
   ],
   "source": [
    "# Creating a start point.\n",
    "iteration = 1\n",
    "\n",
    "# We want to repeat until we reach the sixth operation -- but not execute the sixth time.\n",
    "# While iteration is less or equal to five...\n",
    "while (iteration <= 5) {\n",
    "    \n",
    "    print(c(\"This is iteration number:\",as.character(iteration)))  #as.character converts interation to string\n",
    "    \n",
    "    # ...print the \"name\" column of the iteration-th row.\n",
    "    print(movies_data[iteration,]$name)\n",
    "    \n",
    "    # And then, we increase the \"iteration\" value -- so that we actually reach our stopping condition\n",
    "    # Be careful of infinite while loops!\n",
    "    iteration = iteration + 1\n",
    "}"
   ]
  },
  {
   "cell_type": "markdown",
   "metadata": {},
   "source": [
    "### Applying Functions to Vectors"
   ]
  },
  {
   "cell_type": "markdown",
   "metadata": {},
   "source": [
    "One of the most common uses of loops is to **apply a given function to every element in a vector of elements**. Any of the loop structures can do that, however, R conveniently provides us with a very simple way to do that: By inferring the operation.\n",
    "\n",
    "R is a very smart language when it comes to element-wise operations. For example, you can perform an operation on a whole list by utilizing that function directly on it. Let's try that out:"
   ]
  },
  {
   "cell_type": "code",
   "execution_count": 10,
   "metadata": {
    "collapsed": false
   },
   "outputs": [
    {
     "data": {
      "text/html": [
       "<ol class=list-inline>\n",
       "\t<li>12</li>\n",
       "\t<li>14</li>\n",
       "\t<li>17</li>\n",
       "\t<li>21</li>\n",
       "\t<li>27</li>\n",
       "\t<li>35</li>\n",
       "</ol>\n"
      ],
      "text/latex": [
       "\\begin{enumerate*}\n",
       "\\item 12\n",
       "\\item 14\n",
       "\\item 17\n",
       "\\item 21\n",
       "\\item 27\n",
       "\\item 35\n",
       "\\end{enumerate*}\n"
      ],
      "text/markdown": [
       "1. 12\n",
       "2. 14\n",
       "3. 17\n",
       "4. 21\n",
       "5. 27\n",
       "6. 35\n",
       "\n",
       "\n"
      ],
      "text/plain": [
       "[1] 12 14 17 21 27 35"
      ]
     },
     "metadata": {},
     "output_type": "display_data"
    },
    {
     "data": {
      "text/html": [
       "<ol class=list-inline>\n",
       "\t<li>100</li>\n",
       "\t<li>144</li>\n",
       "\t<li>225</li>\n",
       "\t<li>361</li>\n",
       "\t<li>625</li>\n",
       "\t<li>1089</li>\n",
       "</ol>\n"
      ],
      "text/latex": [
       "\\begin{enumerate*}\n",
       "\\item 100\n",
       "\\item 144\n",
       "\\item 225\n",
       "\\item 361\n",
       "\\item 625\n",
       "\\item 1089\n",
       "\\end{enumerate*}\n"
      ],
      "text/markdown": [
       "1. 100\n",
       "2. 144\n",
       "3. 225\n",
       "4. 361\n",
       "5. 625\n",
       "6. 1089\n",
       "\n",
       "\n"
      ],
      "text/plain": [
       "[1]  100  144  225  361  625 1089"
      ]
     },
     "metadata": {},
     "output_type": "display_data"
    },
    {
     "data": {
      "text/html": [
       "<ol class=list-inline>\n",
       "\t<li>20</li>\n",
       "\t<li>24</li>\n",
       "\t<li>30</li>\n",
       "\t<li>38</li>\n",
       "\t<li>50</li>\n",
       "\t<li>66</li>\n",
       "</ol>\n"
      ],
      "text/latex": [
       "\\begin{enumerate*}\n",
       "\\item 20\n",
       "\\item 24\n",
       "\\item 30\n",
       "\\item 38\n",
       "\\item 50\n",
       "\\item 66\n",
       "\\end{enumerate*}\n"
      ],
      "text/markdown": [
       "1. 20\n",
       "2. 24\n",
       "3. 30\n",
       "4. 38\n",
       "5. 50\n",
       "6. 66\n",
       "\n",
       "\n"
      ],
      "text/plain": [
       "[1] 20 24 30 38 50 66"
      ]
     },
     "metadata": {},
     "output_type": "display_data"
    }
   ],
   "source": [
    "# First, we create a vector...\n",
    "my_list <- c(10,12,15,19,25,33)\n",
    "\n",
    "# ...we can try adding two to all the values in that vector.\n",
    "my_list + 2\n",
    "\n",
    "# Or maybe even exponentiating them by two.\n",
    "my_list ** 2\n",
    "\n",
    "# We can also sum two vectors element-wise!\n",
    "my_list + my_list"
   ]
  },
  {
   "cell_type": "markdown",
   "metadata": {},
   "source": [
    "R makes it very simple to operate over vectors -- anything you think should work will probably work. Try to mess around with vectors and see what you find out!\n",
    "\n",
    "This is the end of the **Loops and Conditional Execution in R** notebook. Hopefully, now you know how to manipulate the flow of your code to your needs. Thank you for reading this notebook, and good luck on your studies."
   ]
  },
  {
   "cell_type": "markdown",
   "metadata": {},
   "source": [
    "<hr>\n",
    "#### Scaling R with big data\n",
    "\n",
    "As you learn more about R, if you are interested in exploring platforms that can help you run analyses at scale, you might want to sign up for a free account on [IBM Watson Studio](http://cocl.us/dsx_rp0101en), which allows you to run analyses in R with two Spark executors for free.\n",
    "\n"
   ]
  },
  {
   "cell_type": "markdown",
   "metadata": {},
   "source": [
    "<hr>"
   ]
  },
  {
   "cell_type": "markdown",
   "metadata": {},
   "source": [
    "### About the Author:  \n",
    "Hi! It's [Helly Patel](https://ca.linkedin.com/in/helly-patel-90344750) and [Walter Gomes](https://br.linkedin.com/in/walter-gomes-de-amorim-junior-624726121), the author of this notebook. I hope you found R easy to learn! There's lots more to learn about R but you're well on your way. Feel free to connect with me if you have any questions.\n",
    "<hr>\n",
    "\n",
    "\n",
    "Copyright &copy; [IBM Cognitive Class](https://cognitiveclass.ai). This notebook and its source code are released under the terms of the [MIT License](https://cognitiveclass.ai/mit-license/)."
   ]
  }
 ],
 "metadata": {
  "kernelspec": {
   "display_name": "R",
   "language": "R",
   "name": "ir"
  },
  "language_info": {
   "codemirror_mode": "r",
   "file_extension": ".r",
   "mimetype": "text/x-r-source",
   "name": "R",
   "pygments_lexer": "r",
   "version": "3.5.1"
  },
  "widgets": {
   "state": {},
   "version": "1.1.2"
  }
 },
 "nbformat": 4,
 "nbformat_minor": 2
}
