{
 "cells": [
  {
   "cell_type": "markdown",
   "metadata": {},
   "source": [
    "<img src=\"http://cognitiveclass.ai/wp-content/uploads/2017/11/cc-logo-square.png\" width=\"150\">\n",
    "\n",
    "\n",
    "<h1>Strings in R</h1> "
   ]
  },
  {
   "cell_type": "markdown",
   "metadata": {},
   "source": [
    "<br>"
   ]
  },
  {
   "cell_type": "markdown",
   "metadata": {},
   "source": [
    "This notebook will provide information regarding reading text files, performing various operations on Strings and saving data into various types of files like text files, CSV files, Excel files etc."
   ]
  },
  {
   "cell_type": "markdown",
   "metadata": {},
   "source": [
    "## Table of Contents\n",
    "\n",
    "\n",
    "<ul>\n",
    "<li><a href=\"#About-the-Dataset\">About the Dataset</a></li>\n",
    "<li><a href=\"#Reading-Text-Files\">Reading Text Files</a></li>\n",
    "<li><a href=\"#String-Operations\">String Operations</a></li>\n",
    "<li><a href=\"#Writing-and-Saving-to-Files\">Writing and Saving to Files (covered in Module 4, Video 3)</a></li>\n",
    "</ul>\n",
    "<p></p>\n",
    "Estimated Time Needed: <strong>25 min</strong>\n",
    "\n",
    "\n",
    "<hr>"
   ]
  },
  {
   "cell_type": "markdown",
   "metadata": {},
   "source": [
    "<a id=\"ref0\"></a>\n",
    "<h2 align=center>About the Dataset</h2>"
   ]
  },
  {
   "cell_type": "markdown",
   "metadata": {},
   "source": [
    "In this module, we are going to use **The_Artist.txt** file. This file contains text data which is basically summary of the **The Artist** movie and we are going to perform various operations on this data.\n",
    "\n",
    "This is how our data look like."
   ]
  },
  {
   "cell_type": "markdown",
   "metadata": {},
   "source": [
    "<img src = \"https://ibm.box.com/shared/static/hqojozssqxupoanevcpzv4lbym7lynwa.png\" width = 90% align=\"left\">"
   ]
  },
  {
   "cell_type": "markdown",
   "metadata": {},
   "source": [
    "Let's first **download** the data into your account:"
   ]
  },
  {
   "cell_type": "code",
   "execution_count": 1,
   "metadata": {
    "collapsed": false
   },
   "outputs": [],
   "source": [
    "# Download the data file\n",
    "download.file(\"https://ibm.box.com/shared/static/l8v8g8e6uzk7yj2j1qc8ypezbhzukphy.txt\", destfile=\"The_Artist.txt\")"
   ]
  },
  {
   "cell_type": "markdown",
   "metadata": {},
   "source": [
    "<hr>"
   ]
  },
  {
   "cell_type": "markdown",
   "metadata": {},
   "source": [
    "<a id=\"ref1\"></a>\n",
    "<h2 align=center>Reading Text Files</h2>"
   ]
  },
  {
   "cell_type": "markdown",
   "metadata": {},
   "source": [
    "To read text files in R, we can use the built-in R function **readLines()**. This function takes **file path** as the argument and read the whole file.\n",
    "\n",
    "Let's read the **The_Artist.txt** file and see how it looks like."
   ]
  },
  {
   "cell_type": "code",
   "execution_count": 2,
   "metadata": {
    "collapsed": false,
    "scrolled": true
   },
   "outputs": [
    {
     "data": {
      "text/html": [
       "<ol class=list-inline>\n",
       "\t<li>'The Artist is a 2011 French romantic comedy-drama in the style of a black-and-white silent film. It was written, directed, and co-edited by Michel Hazanavicius, produced by Thomas Langmann and starred Jean Dujardin and Bérénice Bejo. The story takes place in Hollywood, between 1927 and 1932, and focuses on the relationship of an older silent film star and a rising young actress as silent cinema falls out of fashion and is replaced by the talkies.'</li>\n",
       "\t<li>''</li>\n",
       "\t<li>'The Artist received highly positive reviews from critics and won many accolades. Dujardin won the Best Actor Award at the 2011 Cannes Film Festival, where the film premiered. The film was nominated for six Golden Globes, the most of any 2011 film, and won three: Best Motion Picture – Musical or Comedy, Best Original Score, and Best Actor – Motion Picture Musical or Comedy for Dujardin. In January 2012, the film was nominated for twelve BAFTAs, the most of any film from 2011 and won seven, including Best Film, Best Director and Best Original Screenplay for Hazanavicius, and Best Actor for Dujardin.'</li>\n",
       "\t<li>''</li>\n",
       "\t<li>''</li>\n",
       "</ol>\n"
      ],
      "text/latex": [
       "\\begin{enumerate*}\n",
       "\\item 'The Artist is a 2011 French romantic comedy-drama in the style of a black-and-white silent film. It was written, directed, and co-edited by Michel Hazanavicius, produced by Thomas Langmann and starred Jean Dujardin and Bérénice Bejo. The story takes place in Hollywood, between 1927 and 1932, and focuses on the relationship of an older silent film star and a rising young actress as silent cinema falls out of fashion and is replaced by the talkies.'\n",
       "\\item ''\n",
       "\\item 'The Artist received highly positive reviews from critics and won many accolades. Dujardin won the Best Actor Award at the 2011 Cannes Film Festival, where the film premiered. The film was nominated for six Golden Globes, the most of any 2011 film, and won three: Best Motion Picture – Musical or Comedy, Best Original Score, and Best Actor – Motion Picture Musical or Comedy for Dujardin. In January 2012, the film was nominated for twelve BAFTAs, the most of any film from 2011 and won seven, including Best Film, Best Director and Best Original Screenplay for Hazanavicius, and Best Actor for Dujardin.'\n",
       "\\item ''\n",
       "\\item ''\n",
       "\\end{enumerate*}\n"
      ],
      "text/markdown": [
       "1. 'The Artist is a 2011 French romantic comedy-drama in the style of a black-and-white silent film. It was written, directed, and co-edited by Michel Hazanavicius, produced by Thomas Langmann and starred Jean Dujardin and Bérénice Bejo. The story takes place in Hollywood, between 1927 and 1932, and focuses on the relationship of an older silent film star and a rising young actress as silent cinema falls out of fashion and is replaced by the talkies.'\n",
       "2. ''\n",
       "3. 'The Artist received highly positive reviews from critics and won many accolades. Dujardin won the Best Actor Award at the 2011 Cannes Film Festival, where the film premiered. The film was nominated for six Golden Globes, the most of any 2011 film, and won three: Best Motion Picture – Musical or Comedy, Best Original Score, and Best Actor – Motion Picture Musical or Comedy for Dujardin. In January 2012, the film was nominated for twelve BAFTAs, the most of any film from 2011 and won seven, including Best Film, Best Director and Best Original Screenplay for Hazanavicius, and Best Actor for Dujardin.'\n",
       "4. ''\n",
       "5. ''\n",
       "\n",
       "\n"
      ],
      "text/plain": [
       "[1] \"The Artist is a 2011 French romantic comedy-drama in the style of a black-and-white silent film. It was written, directed, and co-edited by Michel Hazanavicius, produced by Thomas Langmann and starred Jean Dujardin and Bérénice Bejo. The story takes place in Hollywood, between 1927 and 1932, and focuses on the relationship of an older silent film star and a rising young actress as silent cinema falls out of fashion and is replaced by the talkies.\"                                                                                                                                                          \n",
       "[2] \"\"                                                                                                                                                                                                                                                                                                                                                                                                                                                                                                                                                                                                                            \n",
       "[3] \"The Artist received highly positive reviews from critics and won many accolades. Dujardin won the Best Actor Award at the 2011 Cannes Film Festival, where the film premiered. The film was nominated for six Golden Globes, the most of any 2011 film, and won three: Best Motion Picture – Musical or Comedy, Best Original Score, and Best Actor – Motion Picture Musical or Comedy for Dujardin. In January 2012, the film was nominated for twelve BAFTAs, the most of any film from 2011 and won seven, including Best Film, Best Director and Best Original Screenplay for Hazanavicius, and Best Actor for Dujardin.\"\n",
       "[4] \"\"                                                                                                                                                                                                                                                                                                                                                                                                                                                                                                                                                                                                                            \n",
       "[5] \"\"                                                                                                                                                                                                                                                                                                                                                                                                                                                                                                                                                                                                                            "
      ]
     },
     "metadata": {},
     "output_type": "display_data"
    }
   ],
   "source": [
    "my_data <- readLines(\"The_Artist.txt\")\n",
    "my_data"
   ]
  },
  {
   "cell_type": "markdown",
   "metadata": {},
   "source": [
    "<div class=\"alert alert-block alert-success\" style=\"margin-top: 20px\">\n",
    "**Tip:** If you got an error message here, make sure that you run the code cell above first to download the dataset.</div>"
   ]
  },
  {
   "cell_type": "markdown",
   "metadata": {},
   "source": [
    "So, we get a character vector which has three elements and these elements can be accessed as we access array.\n",
    "\n",
    "Let's check the length of **my_data** variable"
   ]
  },
  {
   "cell_type": "code",
   "execution_count": 3,
   "metadata": {
    "collapsed": false
   },
   "outputs": [
    {
     "data": {
      "text/html": [
       "5"
      ],
      "text/latex": [
       "5"
      ],
      "text/markdown": [
       "5"
      ],
      "text/plain": [
       "[1] 5"
      ]
     },
     "metadata": {},
     "output_type": "display_data"
    }
   ],
   "source": [
    "length(my_data)"
   ]
  },
  {
   "cell_type": "markdown",
   "metadata": {},
   "source": [
    "Length of **my_data** variable is **5** which means it contains 5 elements.\n",
    "\n",
    "Similarly, we can check the size of the file by using the **file.size()** method of R and it takes **file path** as argument and returns the number of bytes. By executing code block below, we will get **1065** at the output, which is the size of the file **in bytes**."
   ]
  },
  {
   "cell_type": "code",
   "execution_count": 5,
   "metadata": {
    "collapsed": false
   },
   "outputs": [
    {
     "data": {
      "text/html": [
       "1065"
      ],
      "text/latex": [
       "1065"
      ],
      "text/markdown": [
       "1065"
      ],
      "text/plain": [
       "[1] 1065"
      ]
     },
     "metadata": {},
     "output_type": "display_data"
    }
   ],
   "source": [
    "# file.size(\"/resources/data/The_Artist.txt\")\n",
    "file.size(\"The_Artist.txt\")"
   ]
  },
  {
   "cell_type": "markdown",
   "metadata": {},
   "source": [
    "There is another method **scan()** which can be used to read **.txt** files. The Difference in **readLines()** and **scan()** method is that, **readLines()** is used to read text files line by line whereas **scan()** method read the text files word by word.\n",
    "\n",
    "**scan()** method takes two arguments. First is the **file path** and second argument is the string expression according to which we want to separate the words. Like in example below, we pass an empty string as the separator argument."
   ]
  },
  {
   "cell_type": "code",
   "execution_count": 6,
   "metadata": {
    "collapsed": false
   },
   "outputs": [
    {
     "data": {
      "text/html": [
       "<ol class=list-inline>\n",
       "\t<li>'The'</li>\n",
       "\t<li>'Artist'</li>\n",
       "\t<li>'is'</li>\n",
       "\t<li>'a'</li>\n",
       "\t<li>'2011'</li>\n",
       "\t<li>'French'</li>\n",
       "\t<li>'romantic'</li>\n",
       "\t<li>'comedy-drama'</li>\n",
       "\t<li>'in'</li>\n",
       "\t<li>'the'</li>\n",
       "\t<li>'style'</li>\n",
       "\t<li>'of'</li>\n",
       "\t<li>'a'</li>\n",
       "\t<li>'black-and-white'</li>\n",
       "\t<li>'silent'</li>\n",
       "\t<li>'film.'</li>\n",
       "\t<li>'It'</li>\n",
       "\t<li>'was'</li>\n",
       "\t<li>'written,'</li>\n",
       "\t<li>'directed,'</li>\n",
       "\t<li>'and'</li>\n",
       "\t<li>'co-edited'</li>\n",
       "\t<li>'by'</li>\n",
       "\t<li>'Michel'</li>\n",
       "\t<li>'Hazanavicius,'</li>\n",
       "\t<li>'produced'</li>\n",
       "\t<li>'by'</li>\n",
       "\t<li>'Thomas'</li>\n",
       "\t<li>'Langmann'</li>\n",
       "\t<li>'and'</li>\n",
       "\t<li>'starred'</li>\n",
       "\t<li>'Jean'</li>\n",
       "\t<li>'Dujardin'</li>\n",
       "\t<li>'and'</li>\n",
       "\t<li>'Bérénice'</li>\n",
       "\t<li>'Bejo.'</li>\n",
       "\t<li>'The'</li>\n",
       "\t<li>'story'</li>\n",
       "\t<li>'takes'</li>\n",
       "\t<li>'place'</li>\n",
       "\t<li>'in'</li>\n",
       "\t<li>'Hollywood,'</li>\n",
       "\t<li>'between'</li>\n",
       "\t<li>'1927'</li>\n",
       "\t<li>'and'</li>\n",
       "\t<li>'1932,'</li>\n",
       "\t<li>'and'</li>\n",
       "\t<li>'focuses'</li>\n",
       "\t<li>'on'</li>\n",
       "\t<li>'the'</li>\n",
       "\t<li>'relationship'</li>\n",
       "\t<li>'of'</li>\n",
       "\t<li>'an'</li>\n",
       "\t<li>'older'</li>\n",
       "\t<li>'silent'</li>\n",
       "\t<li>'film'</li>\n",
       "\t<li>'star'</li>\n",
       "\t<li>'and'</li>\n",
       "\t<li>'a'</li>\n",
       "\t<li>'rising'</li>\n",
       "\t<li>'young'</li>\n",
       "\t<li>'actress'</li>\n",
       "\t<li>'as'</li>\n",
       "\t<li>'silent'</li>\n",
       "\t<li>'cinema'</li>\n",
       "\t<li>'falls'</li>\n",
       "\t<li>'out'</li>\n",
       "\t<li>'of'</li>\n",
       "\t<li>'fashion'</li>\n",
       "\t<li>'and'</li>\n",
       "\t<li>'is'</li>\n",
       "\t<li>'replaced'</li>\n",
       "\t<li>'by'</li>\n",
       "\t<li>'the'</li>\n",
       "\t<li>'talkies.'</li>\n",
       "\t<li>'The'</li>\n",
       "\t<li>'Artist'</li>\n",
       "\t<li>'received'</li>\n",
       "\t<li>'highly'</li>\n",
       "\t<li>'positive'</li>\n",
       "\t<li>'reviews'</li>\n",
       "\t<li>'from'</li>\n",
       "\t<li>'critics'</li>\n",
       "\t<li>'and'</li>\n",
       "\t<li>'won'</li>\n",
       "\t<li>'many'</li>\n",
       "\t<li>'accolades.'</li>\n",
       "\t<li>'Dujardin'</li>\n",
       "\t<li>'won'</li>\n",
       "\t<li>'the'</li>\n",
       "\t<li>'Best'</li>\n",
       "\t<li>'Actor'</li>\n",
       "\t<li>'Award'</li>\n",
       "\t<li>'at'</li>\n",
       "\t<li>'the'</li>\n",
       "\t<li>'2011'</li>\n",
       "\t<li>'Cannes'</li>\n",
       "\t<li>'Film'</li>\n",
       "\t<li>'Festival,'</li>\n",
       "\t<li>'where'</li>\n",
       "\t<li>'the'</li>\n",
       "\t<li>'film'</li>\n",
       "\t<li>'premiered.'</li>\n",
       "\t<li>'The'</li>\n",
       "\t<li>'film'</li>\n",
       "\t<li>'was'</li>\n",
       "\t<li>'nominated'</li>\n",
       "\t<li>'for'</li>\n",
       "\t<li>'six'</li>\n",
       "\t<li>'Golden'</li>\n",
       "\t<li>'Globes,'</li>\n",
       "\t<li>'the'</li>\n",
       "\t<li>'most'</li>\n",
       "\t<li>'of'</li>\n",
       "\t<li>'any'</li>\n",
       "\t<li>'2011'</li>\n",
       "\t<li>'film,'</li>\n",
       "\t<li>'and'</li>\n",
       "\t<li>'won'</li>\n",
       "\t<li>'three:'</li>\n",
       "\t<li>'Best'</li>\n",
       "\t<li>'Motion'</li>\n",
       "\t<li>'Picture'</li>\n",
       "\t<li>'–'</li>\n",
       "\t<li>'Musical'</li>\n",
       "\t<li>'or'</li>\n",
       "\t<li>'Comedy,'</li>\n",
       "\t<li>'Best'</li>\n",
       "\t<li>'Original'</li>\n",
       "\t<li>'Score,'</li>\n",
       "\t<li>'and'</li>\n",
       "\t<li>'Best'</li>\n",
       "\t<li>'Actor'</li>\n",
       "\t<li>'–'</li>\n",
       "\t<li>'Motion'</li>\n",
       "\t<li>'Picture'</li>\n",
       "\t<li>'Musical'</li>\n",
       "\t<li>'or'</li>\n",
       "\t<li>'Comedy'</li>\n",
       "\t<li>'for'</li>\n",
       "\t<li>'Dujardin.'</li>\n",
       "\t<li>'In'</li>\n",
       "\t<li>'January'</li>\n",
       "\t<li>'2012,'</li>\n",
       "\t<li>'the'</li>\n",
       "\t<li>'film'</li>\n",
       "\t<li>'was'</li>\n",
       "\t<li>'nominated'</li>\n",
       "\t<li>'for'</li>\n",
       "\t<li>'twelve'</li>\n",
       "\t<li>'BAFTAs,'</li>\n",
       "\t<li>'the'</li>\n",
       "\t<li>'most'</li>\n",
       "\t<li>'of'</li>\n",
       "\t<li>'any'</li>\n",
       "\t<li>'film'</li>\n",
       "\t<li>'from'</li>\n",
       "\t<li>'2011'</li>\n",
       "\t<li>'and'</li>\n",
       "\t<li>'won'</li>\n",
       "\t<li>'seven,'</li>\n",
       "\t<li>'including'</li>\n",
       "\t<li>'Best'</li>\n",
       "\t<li>'Film,'</li>\n",
       "\t<li>'Best'</li>\n",
       "\t<li>'Director'</li>\n",
       "\t<li>'and'</li>\n",
       "\t<li>'Best'</li>\n",
       "\t<li>'Original'</li>\n",
       "\t<li>'Screenplay'</li>\n",
       "\t<li>'for'</li>\n",
       "\t<li>'Hazanavicius,'</li>\n",
       "\t<li>'and'</li>\n",
       "\t<li>'Best'</li>\n",
       "\t<li>'Actor'</li>\n",
       "\t<li>'for'</li>\n",
       "\t<li>'Dujardin.'</li>\n",
       "</ol>\n"
      ],
      "text/latex": [
       "\\begin{enumerate*}\n",
       "\\item 'The'\n",
       "\\item 'Artist'\n",
       "\\item 'is'\n",
       "\\item 'a'\n",
       "\\item '2011'\n",
       "\\item 'French'\n",
       "\\item 'romantic'\n",
       "\\item 'comedy-drama'\n",
       "\\item 'in'\n",
       "\\item 'the'\n",
       "\\item 'style'\n",
       "\\item 'of'\n",
       "\\item 'a'\n",
       "\\item 'black-and-white'\n",
       "\\item 'silent'\n",
       "\\item 'film.'\n",
       "\\item 'It'\n",
       "\\item 'was'\n",
       "\\item 'written,'\n",
       "\\item 'directed,'\n",
       "\\item 'and'\n",
       "\\item 'co-edited'\n",
       "\\item 'by'\n",
       "\\item 'Michel'\n",
       "\\item 'Hazanavicius,'\n",
       "\\item 'produced'\n",
       "\\item 'by'\n",
       "\\item 'Thomas'\n",
       "\\item 'Langmann'\n",
       "\\item 'and'\n",
       "\\item 'starred'\n",
       "\\item 'Jean'\n",
       "\\item 'Dujardin'\n",
       "\\item 'and'\n",
       "\\item 'Bérénice'\n",
       "\\item 'Bejo.'\n",
       "\\item 'The'\n",
       "\\item 'story'\n",
       "\\item 'takes'\n",
       "\\item 'place'\n",
       "\\item 'in'\n",
       "\\item 'Hollywood,'\n",
       "\\item 'between'\n",
       "\\item '1927'\n",
       "\\item 'and'\n",
       "\\item '1932,'\n",
       "\\item 'and'\n",
       "\\item 'focuses'\n",
       "\\item 'on'\n",
       "\\item 'the'\n",
       "\\item 'relationship'\n",
       "\\item 'of'\n",
       "\\item 'an'\n",
       "\\item 'older'\n",
       "\\item 'silent'\n",
       "\\item 'film'\n",
       "\\item 'star'\n",
       "\\item 'and'\n",
       "\\item 'a'\n",
       "\\item 'rising'\n",
       "\\item 'young'\n",
       "\\item 'actress'\n",
       "\\item 'as'\n",
       "\\item 'silent'\n",
       "\\item 'cinema'\n",
       "\\item 'falls'\n",
       "\\item 'out'\n",
       "\\item 'of'\n",
       "\\item 'fashion'\n",
       "\\item 'and'\n",
       "\\item 'is'\n",
       "\\item 'replaced'\n",
       "\\item 'by'\n",
       "\\item 'the'\n",
       "\\item 'talkies.'\n",
       "\\item 'The'\n",
       "\\item 'Artist'\n",
       "\\item 'received'\n",
       "\\item 'highly'\n",
       "\\item 'positive'\n",
       "\\item 'reviews'\n",
       "\\item 'from'\n",
       "\\item 'critics'\n",
       "\\item 'and'\n",
       "\\item 'won'\n",
       "\\item 'many'\n",
       "\\item 'accolades.'\n",
       "\\item 'Dujardin'\n",
       "\\item 'won'\n",
       "\\item 'the'\n",
       "\\item 'Best'\n",
       "\\item 'Actor'\n",
       "\\item 'Award'\n",
       "\\item 'at'\n",
       "\\item 'the'\n",
       "\\item '2011'\n",
       "\\item 'Cannes'\n",
       "\\item 'Film'\n",
       "\\item 'Festival,'\n",
       "\\item 'where'\n",
       "\\item 'the'\n",
       "\\item 'film'\n",
       "\\item 'premiered.'\n",
       "\\item 'The'\n",
       "\\item 'film'\n",
       "\\item 'was'\n",
       "\\item 'nominated'\n",
       "\\item 'for'\n",
       "\\item 'six'\n",
       "\\item 'Golden'\n",
       "\\item 'Globes,'\n",
       "\\item 'the'\n",
       "\\item 'most'\n",
       "\\item 'of'\n",
       "\\item 'any'\n",
       "\\item '2011'\n",
       "\\item 'film,'\n",
       "\\item 'and'\n",
       "\\item 'won'\n",
       "\\item 'three:'\n",
       "\\item 'Best'\n",
       "\\item 'Motion'\n",
       "\\item 'Picture'\n",
       "\\item '–'\n",
       "\\item 'Musical'\n",
       "\\item 'or'\n",
       "\\item 'Comedy,'\n",
       "\\item 'Best'\n",
       "\\item 'Original'\n",
       "\\item 'Score,'\n",
       "\\item 'and'\n",
       "\\item 'Best'\n",
       "\\item 'Actor'\n",
       "\\item '–'\n",
       "\\item 'Motion'\n",
       "\\item 'Picture'\n",
       "\\item 'Musical'\n",
       "\\item 'or'\n",
       "\\item 'Comedy'\n",
       "\\item 'for'\n",
       "\\item 'Dujardin.'\n",
       "\\item 'In'\n",
       "\\item 'January'\n",
       "\\item '2012,'\n",
       "\\item 'the'\n",
       "\\item 'film'\n",
       "\\item 'was'\n",
       "\\item 'nominated'\n",
       "\\item 'for'\n",
       "\\item 'twelve'\n",
       "\\item 'BAFTAs,'\n",
       "\\item 'the'\n",
       "\\item 'most'\n",
       "\\item 'of'\n",
       "\\item 'any'\n",
       "\\item 'film'\n",
       "\\item 'from'\n",
       "\\item '2011'\n",
       "\\item 'and'\n",
       "\\item 'won'\n",
       "\\item 'seven,'\n",
       "\\item 'including'\n",
       "\\item 'Best'\n",
       "\\item 'Film,'\n",
       "\\item 'Best'\n",
       "\\item 'Director'\n",
       "\\item 'and'\n",
       "\\item 'Best'\n",
       "\\item 'Original'\n",
       "\\item 'Screenplay'\n",
       "\\item 'for'\n",
       "\\item 'Hazanavicius,'\n",
       "\\item 'and'\n",
       "\\item 'Best'\n",
       "\\item 'Actor'\n",
       "\\item 'for'\n",
       "\\item 'Dujardin.'\n",
       "\\end{enumerate*}\n"
      ],
      "text/markdown": [
       "1. 'The'\n",
       "2. 'Artist'\n",
       "3. 'is'\n",
       "4. 'a'\n",
       "5. '2011'\n",
       "6. 'French'\n",
       "7. 'romantic'\n",
       "8. 'comedy-drama'\n",
       "9. 'in'\n",
       "10. 'the'\n",
       "11. 'style'\n",
       "12. 'of'\n",
       "13. 'a'\n",
       "14. 'black-and-white'\n",
       "15. 'silent'\n",
       "16. 'film.'\n",
       "17. 'It'\n",
       "18. 'was'\n",
       "19. 'written,'\n",
       "20. 'directed,'\n",
       "21. 'and'\n",
       "22. 'co-edited'\n",
       "23. 'by'\n",
       "24. 'Michel'\n",
       "25. 'Hazanavicius,'\n",
       "26. 'produced'\n",
       "27. 'by'\n",
       "28. 'Thomas'\n",
       "29. 'Langmann'\n",
       "30. 'and'\n",
       "31. 'starred'\n",
       "32. 'Jean'\n",
       "33. 'Dujardin'\n",
       "34. 'and'\n",
       "35. 'Bérénice'\n",
       "36. 'Bejo.'\n",
       "37. 'The'\n",
       "38. 'story'\n",
       "39. 'takes'\n",
       "40. 'place'\n",
       "41. 'in'\n",
       "42. 'Hollywood,'\n",
       "43. 'between'\n",
       "44. '1927'\n",
       "45. 'and'\n",
       "46. '1932,'\n",
       "47. 'and'\n",
       "48. 'focuses'\n",
       "49. 'on'\n",
       "50. 'the'\n",
       "51. 'relationship'\n",
       "52. 'of'\n",
       "53. 'an'\n",
       "54. 'older'\n",
       "55. 'silent'\n",
       "56. 'film'\n",
       "57. 'star'\n",
       "58. 'and'\n",
       "59. 'a'\n",
       "60. 'rising'\n",
       "61. 'young'\n",
       "62. 'actress'\n",
       "63. 'as'\n",
       "64. 'silent'\n",
       "65. 'cinema'\n",
       "66. 'falls'\n",
       "67. 'out'\n",
       "68. 'of'\n",
       "69. 'fashion'\n",
       "70. 'and'\n",
       "71. 'is'\n",
       "72. 'replaced'\n",
       "73. 'by'\n",
       "74. 'the'\n",
       "75. 'talkies.'\n",
       "76. 'The'\n",
       "77. 'Artist'\n",
       "78. 'received'\n",
       "79. 'highly'\n",
       "80. 'positive'\n",
       "81. 'reviews'\n",
       "82. 'from'\n",
       "83. 'critics'\n",
       "84. 'and'\n",
       "85. 'won'\n",
       "86. 'many'\n",
       "87. 'accolades.'\n",
       "88. 'Dujardin'\n",
       "89. 'won'\n",
       "90. 'the'\n",
       "91. 'Best'\n",
       "92. 'Actor'\n",
       "93. 'Award'\n",
       "94. 'at'\n",
       "95. 'the'\n",
       "96. '2011'\n",
       "97. 'Cannes'\n",
       "98. 'Film'\n",
       "99. 'Festival,'\n",
       "100. 'where'\n",
       "101. 'the'\n",
       "102. 'film'\n",
       "103. 'premiered.'\n",
       "104. 'The'\n",
       "105. 'film'\n",
       "106. 'was'\n",
       "107. 'nominated'\n",
       "108. 'for'\n",
       "109. 'six'\n",
       "110. 'Golden'\n",
       "111. 'Globes,'\n",
       "112. 'the'\n",
       "113. 'most'\n",
       "114. 'of'\n",
       "115. 'any'\n",
       "116. '2011'\n",
       "117. 'film,'\n",
       "118. 'and'\n",
       "119. 'won'\n",
       "120. 'three:'\n",
       "121. 'Best'\n",
       "122. 'Motion'\n",
       "123. 'Picture'\n",
       "124. '–'\n",
       "125. 'Musical'\n",
       "126. 'or'\n",
       "127. 'Comedy,'\n",
       "128. 'Best'\n",
       "129. 'Original'\n",
       "130. 'Score,'\n",
       "131. 'and'\n",
       "132. 'Best'\n",
       "133. 'Actor'\n",
       "134. '–'\n",
       "135. 'Motion'\n",
       "136. 'Picture'\n",
       "137. 'Musical'\n",
       "138. 'or'\n",
       "139. 'Comedy'\n",
       "140. 'for'\n",
       "141. 'Dujardin.'\n",
       "142. 'In'\n",
       "143. 'January'\n",
       "144. '2012,'\n",
       "145. 'the'\n",
       "146. 'film'\n",
       "147. 'was'\n",
       "148. 'nominated'\n",
       "149. 'for'\n",
       "150. 'twelve'\n",
       "151. 'BAFTAs,'\n",
       "152. 'the'\n",
       "153. 'most'\n",
       "154. 'of'\n",
       "155. 'any'\n",
       "156. 'film'\n",
       "157. 'from'\n",
       "158. '2011'\n",
       "159. 'and'\n",
       "160. 'won'\n",
       "161. 'seven,'\n",
       "162. 'including'\n",
       "163. 'Best'\n",
       "164. 'Film,'\n",
       "165. 'Best'\n",
       "166. 'Director'\n",
       "167. 'and'\n",
       "168. 'Best'\n",
       "169. 'Original'\n",
       "170. 'Screenplay'\n",
       "171. 'for'\n",
       "172. 'Hazanavicius,'\n",
       "173. 'and'\n",
       "174. 'Best'\n",
       "175. 'Actor'\n",
       "176. 'for'\n",
       "177. 'Dujardin.'\n",
       "\n",
       "\n"
      ],
      "text/plain": [
       "  [1] \"The\"             \"Artist\"          \"is\"              \"a\"              \n",
       "  [5] \"2011\"            \"French\"          \"romantic\"        \"comedy-drama\"   \n",
       "  [9] \"in\"              \"the\"             \"style\"           \"of\"             \n",
       " [13] \"a\"               \"black-and-white\" \"silent\"          \"film.\"          \n",
       " [17] \"It\"              \"was\"             \"written,\"        \"directed,\"      \n",
       " [21] \"and\"             \"co-edited\"       \"by\"              \"Michel\"         \n",
       " [25] \"Hazanavicius,\"   \"produced\"        \"by\"              \"Thomas\"         \n",
       " [29] \"Langmann\"        \"and\"             \"starred\"         \"Jean\"           \n",
       " [33] \"Dujardin\"        \"and\"             \"Bérénice\"        \"Bejo.\"          \n",
       " [37] \"The\"             \"story\"           \"takes\"           \"place\"          \n",
       " [41] \"in\"              \"Hollywood,\"      \"between\"         \"1927\"           \n",
       " [45] \"and\"             \"1932,\"           \"and\"             \"focuses\"        \n",
       " [49] \"on\"              \"the\"             \"relationship\"    \"of\"             \n",
       " [53] \"an\"              \"older\"           \"silent\"          \"film\"           \n",
       " [57] \"star\"            \"and\"             \"a\"               \"rising\"         \n",
       " [61] \"young\"           \"actress\"         \"as\"              \"silent\"         \n",
       " [65] \"cinema\"          \"falls\"           \"out\"             \"of\"             \n",
       " [69] \"fashion\"         \"and\"             \"is\"              \"replaced\"       \n",
       " [73] \"by\"              \"the\"             \"talkies.\"        \"The\"            \n",
       " [77] \"Artist\"          \"received\"        \"highly\"          \"positive\"       \n",
       " [81] \"reviews\"         \"from\"            \"critics\"         \"and\"            \n",
       " [85] \"won\"             \"many\"            \"accolades.\"      \"Dujardin\"       \n",
       " [89] \"won\"             \"the\"             \"Best\"            \"Actor\"          \n",
       " [93] \"Award\"           \"at\"              \"the\"             \"2011\"           \n",
       " [97] \"Cannes\"          \"Film\"            \"Festival,\"       \"where\"          \n",
       "[101] \"the\"             \"film\"            \"premiered.\"      \"The\"            \n",
       "[105] \"film\"            \"was\"             \"nominated\"       \"for\"            \n",
       "[109] \"six\"             \"Golden\"          \"Globes,\"         \"the\"            \n",
       "[113] \"most\"            \"of\"              \"any\"             \"2011\"           \n",
       "[117] \"film,\"           \"and\"             \"won\"             \"three:\"         \n",
       "[121] \"Best\"            \"Motion\"          \"Picture\"         \"–\"              \n",
       "[125] \"Musical\"         \"or\"              \"Comedy,\"         \"Best\"           \n",
       "[129] \"Original\"        \"Score,\"          \"and\"             \"Best\"           \n",
       "[133] \"Actor\"           \"–\"               \"Motion\"          \"Picture\"        \n",
       "[137] \"Musical\"         \"or\"              \"Comedy\"          \"for\"            \n",
       "[141] \"Dujardin.\"       \"In\"              \"January\"         \"2012,\"          \n",
       "[145] \"the\"             \"film\"            \"was\"             \"nominated\"      \n",
       "[149] \"for\"             \"twelve\"          \"BAFTAs,\"         \"the\"            \n",
       "[153] \"most\"            \"of\"              \"any\"             \"film\"           \n",
       "[157] \"from\"            \"2011\"            \"and\"             \"won\"            \n",
       "[161] \"seven,\"          \"including\"       \"Best\"            \"Film,\"          \n",
       "[165] \"Best\"            \"Director\"        \"and\"             \"Best\"           \n",
       "[169] \"Original\"        \"Screenplay\"      \"for\"             \"Hazanavicius,\"  \n",
       "[173] \"and\"             \"Best\"            \"Actor\"           \"for\"            \n",
       "[177] \"Dujardin.\"      "
      ]
     },
     "metadata": {},
     "output_type": "display_data"
    }
   ],
   "source": [
    "my_data1 <- scan(\"The_Artist.txt\", \"\")\n",
    "my_data1"
   ]
  },
  {
   "cell_type": "markdown",
   "metadata": {},
   "source": [
    "And if we will check length of **my_data1** variable then we will get total number of elements at the output."
   ]
  },
  {
   "cell_type": "code",
   "execution_count": 7,
   "metadata": {
    "collapsed": false
   },
   "outputs": [
    {
     "data": {
      "text/html": [
       "177"
      ],
      "text/latex": [
       "177"
      ],
      "text/markdown": [
       "177"
      ],
      "text/plain": [
       "[1] 177"
      ]
     },
     "metadata": {},
     "output_type": "display_data"
    }
   ],
   "source": [
    "length(my_data1)"
   ]
  },
  {
   "cell_type": "markdown",
   "metadata": {},
   "source": [
    "<hr>"
   ]
  },
  {
   "cell_type": "markdown",
   "metadata": {},
   "source": [
    "<a id=\"ref2\"></a>\n",
    "<h2 align=center>String Operations</h2>"
   ]
  },
  {
   "cell_type": "markdown",
   "metadata": {},
   "source": [
    "There are many string operation methods in R which can be used to manipulate the data. We are going to use some basic string operations on the data that we read before. "
   ]
  },
  {
   "cell_type": "markdown",
   "metadata": {},
   "source": [
    "<h3 style=\"font-size:120%\">nchar()</h3>"
   ]
  },
  {
   "cell_type": "markdown",
   "metadata": {},
   "source": [
    "The first function is **nchar()** which will return the total number of characters in the given string. Let's find out how many characters are there in the first element of **my_data** variable."
   ]
  },
  {
   "cell_type": "code",
   "execution_count": 8,
   "metadata": {
    "collapsed": false
   },
   "outputs": [
    {
     "data": {
      "text/html": [
       "450"
      ],
      "text/latex": [
       "450"
      ],
      "text/markdown": [
       "450"
      ],
      "text/plain": [
       "[1] 450"
      ]
     },
     "metadata": {},
     "output_type": "display_data"
    }
   ],
   "source": [
    "nchar(my_data[1])"
   ]
  },
  {
   "cell_type": "markdown",
   "metadata": {},
   "source": [
    "<br>"
   ]
  },
  {
   "cell_type": "markdown",
   "metadata": {},
   "source": [
    "<h3 style=\"font-size:120%\">toupper()</h3>"
   ]
  },
  {
   "cell_type": "markdown",
   "metadata": {},
   "source": [
    "Now, sometimes we need the whole string to be in Upper Case. To do so, there is a function called **toupper()** in R which takes a string as input and provides the whole string in upper case at output."
   ]
  },
  {
   "cell_type": "code",
   "execution_count": 10,
   "metadata": {
    "collapsed": false
   },
   "outputs": [
    {
     "data": {
      "text/html": [
       "'THE ARTIST RECEIVED HIGHLY POSITIVE REVIEWS FROM CRITICS AND WON MANY ACCOLADES. DUJARDIN WON THE BEST ACTOR AWARD AT THE 2011 CANNES FILM FESTIVAL, WHERE THE FILM PREMIERED. THE FILM WAS NOMINATED FOR SIX GOLDEN GLOBES, THE MOST OF ANY 2011 FILM, AND WON THREE: BEST MOTION PICTURE – MUSICAL OR COMEDY, BEST ORIGINAL SCORE, AND BEST ACTOR – MOTION PICTURE MUSICAL OR COMEDY FOR DUJARDIN. IN JANUARY 2012, THE FILM WAS NOMINATED FOR TWELVE BAFTAS, THE MOST OF ANY FILM FROM 2011 AND WON SEVEN, INCLUDING BEST FILM, BEST DIRECTOR AND BEST ORIGINAL SCREENPLAY FOR HAZANAVICIUS, AND BEST ACTOR FOR DUJARDIN.'"
      ],
      "text/latex": [
       "'THE ARTIST RECEIVED HIGHLY POSITIVE REVIEWS FROM CRITICS AND WON MANY ACCOLADES. DUJARDIN WON THE BEST ACTOR AWARD AT THE 2011 CANNES FILM FESTIVAL, WHERE THE FILM PREMIERED. THE FILM WAS NOMINATED FOR SIX GOLDEN GLOBES, THE MOST OF ANY 2011 FILM, AND WON THREE: BEST MOTION PICTURE – MUSICAL OR COMEDY, BEST ORIGINAL SCORE, AND BEST ACTOR – MOTION PICTURE MUSICAL OR COMEDY FOR DUJARDIN. IN JANUARY 2012, THE FILM WAS NOMINATED FOR TWELVE BAFTAS, THE MOST OF ANY FILM FROM 2011 AND WON SEVEN, INCLUDING BEST FILM, BEST DIRECTOR AND BEST ORIGINAL SCREENPLAY FOR HAZANAVICIUS, AND BEST ACTOR FOR DUJARDIN.'"
      ],
      "text/markdown": [
       "'THE ARTIST RECEIVED HIGHLY POSITIVE REVIEWS FROM CRITICS AND WON MANY ACCOLADES. DUJARDIN WON THE BEST ACTOR AWARD AT THE 2011 CANNES FILM FESTIVAL, WHERE THE FILM PREMIERED. THE FILM WAS NOMINATED FOR SIX GOLDEN GLOBES, THE MOST OF ANY 2011 FILM, AND WON THREE: BEST MOTION PICTURE – MUSICAL OR COMEDY, BEST ORIGINAL SCORE, AND BEST ACTOR – MOTION PICTURE MUSICAL OR COMEDY FOR DUJARDIN. IN JANUARY 2012, THE FILM WAS NOMINATED FOR TWELVE BAFTAS, THE MOST OF ANY FILM FROM 2011 AND WON SEVEN, INCLUDING BEST FILM, BEST DIRECTOR AND BEST ORIGINAL SCREENPLAY FOR HAZANAVICIUS, AND BEST ACTOR FOR DUJARDIN.'"
      ],
      "text/plain": [
       "[1] \"THE ARTIST RECEIVED HIGHLY POSITIVE REVIEWS FROM CRITICS AND WON MANY ACCOLADES. DUJARDIN WON THE BEST ACTOR AWARD AT THE 2011 CANNES FILM FESTIVAL, WHERE THE FILM PREMIERED. THE FILM WAS NOMINATED FOR SIX GOLDEN GLOBES, THE MOST OF ANY 2011 FILM, AND WON THREE: BEST MOTION PICTURE – MUSICAL OR COMEDY, BEST ORIGINAL SCORE, AND BEST ACTOR – MOTION PICTURE MUSICAL OR COMEDY FOR DUJARDIN. IN JANUARY 2012, THE FILM WAS NOMINATED FOR TWELVE BAFTAS, THE MOST OF ANY FILM FROM 2011 AND WON SEVEN, INCLUDING BEST FILM, BEST DIRECTOR AND BEST ORIGINAL SCREENPLAY FOR HAZANAVICIUS, AND BEST ACTOR FOR DUJARDIN.\""
      ]
     },
     "metadata": {},
     "output_type": "display_data"
    }
   ],
   "source": [
    "toupper(my_data[3])    # NOTE: we would have to write this back to the variable to save this change"
   ]
  },
  {
   "cell_type": "markdown",
   "metadata": {},
   "source": [
    "**In above** code block, we convert the third element of the character vector in upper case."
   ]
  },
  {
   "cell_type": "markdown",
   "metadata": {},
   "source": [
    "<br>"
   ]
  },
  {
   "cell_type": "markdown",
   "metadata": {},
   "source": [
    "<h3 style=\"font-size:120%\">tolower()</h3>"
   ]
  },
  {
   "cell_type": "markdown",
   "metadata": {},
   "source": [
    "Similarly, **tolower()** method can be used to convert whole string into lower case. Let's convert the same string that we convert in upper case, into lower case."
   ]
  },
  {
   "cell_type": "code",
   "execution_count": 11,
   "metadata": {
    "collapsed": false
   },
   "outputs": [
    {
     "data": {
      "text/html": [
       "'the artist received highly positive reviews from critics and won many accolades. dujardin won the best actor award at the 2011 cannes film festival, where the film premiered. the film was nominated for six golden globes, the most of any 2011 film, and won three: best motion picture – musical or comedy, best original score, and best actor – motion picture musical or comedy for dujardin. in january 2012, the film was nominated for twelve baftas, the most of any film from 2011 and won seven, including best film, best director and best original screenplay for hazanavicius, and best actor for dujardin.'"
      ],
      "text/latex": [
       "'the artist received highly positive reviews from critics and won many accolades. dujardin won the best actor award at the 2011 cannes film festival, where the film premiered. the film was nominated for six golden globes, the most of any 2011 film, and won three: best motion picture – musical or comedy, best original score, and best actor – motion picture musical or comedy for dujardin. in january 2012, the film was nominated for twelve baftas, the most of any film from 2011 and won seven, including best film, best director and best original screenplay for hazanavicius, and best actor for dujardin.'"
      ],
      "text/markdown": [
       "'the artist received highly positive reviews from critics and won many accolades. dujardin won the best actor award at the 2011 cannes film festival, where the film premiered. the film was nominated for six golden globes, the most of any 2011 film, and won three: best motion picture – musical or comedy, best original score, and best actor – motion picture musical or comedy for dujardin. in january 2012, the film was nominated for twelve baftas, the most of any film from 2011 and won seven, including best film, best director and best original screenplay for hazanavicius, and best actor for dujardin.'"
      ],
      "text/plain": [
       "[1] \"the artist received highly positive reviews from critics and won many accolades. dujardin won the best actor award at the 2011 cannes film festival, where the film premiered. the film was nominated for six golden globes, the most of any 2011 film, and won three: best motion picture – musical or comedy, best original score, and best actor – motion picture musical or comedy for dujardin. in january 2012, the film was nominated for twelve baftas, the most of any film from 2011 and won seven, including best film, best director and best original screenplay for hazanavicius, and best actor for dujardin.\""
      ]
     },
     "metadata": {},
     "output_type": "display_data"
    }
   ],
   "source": [
    "tolower(my_data[3])"
   ]
  },
  {
   "cell_type": "markdown",
   "metadata": {},
   "source": [
    "**We can** clearly see the difference between the outputs of last two methods."
   ]
  },
  {
   "cell_type": "markdown",
   "metadata": {},
   "source": [
    "<br>"
   ]
  },
  {
   "cell_type": "markdown",
   "metadata": {},
   "source": [
    "<h3 style=\"font-size:120%\">chartr()</h3>"
   ]
  },
  {
   "cell_type": "markdown",
   "metadata": {},
   "source": [
    "`what if we want to replace any characters in given string?`\n",
    "This operation can also be performed in R using **chartr()** method which takes three arguments. The first argument is the characters which we want to replace in string, second argument is the new characters and the last argument is the string on which operation will be performed.\n",
    "\n",
    "Let's replace **white spaces** in the string with the **hyphen (“-”) sign** in the first element of the **my_data** variable. "
   ]
  },
  {
   "cell_type": "code",
   "execution_count": 12,
   "metadata": {
    "collapsed": false
   },
   "outputs": [
    {
     "data": {
      "text/html": [
       "'The-Artist-is-a-2011-French-romantic-comedy-drama-in-the-style-of-a-black-and-white-silent-film.-It-was-written,-directed,-and-co-edited-by-Michel-Hazanavicius,-produced-by-Thomas-Langmann-and-starred-Jean-Dujardin-and-Bérénice-Bejo.-The-story-takes-place-in-Hollywood,-between-1927-and-1932,-and-focuses-on-the-relationship-of-an-older-silent-film-star-and-a-rising-young-actress-as-silent-cinema-falls-out-of-fashion-and-is-replaced-by-the-talkies.'"
      ],
      "text/latex": [
       "'The-Artist-is-a-2011-French-romantic-comedy-drama-in-the-style-of-a-black-and-white-silent-film.-It-was-written,-directed,-and-co-edited-by-Michel-Hazanavicius,-produced-by-Thomas-Langmann-and-starred-Jean-Dujardin-and-Bérénice-Bejo.-The-story-takes-place-in-Hollywood,-between-1927-and-1932,-and-focuses-on-the-relationship-of-an-older-silent-film-star-and-a-rising-young-actress-as-silent-cinema-falls-out-of-fashion-and-is-replaced-by-the-talkies.'"
      ],
      "text/markdown": [
       "'The-Artist-is-a-2011-French-romantic-comedy-drama-in-the-style-of-a-black-and-white-silent-film.-It-was-written,-directed,-and-co-edited-by-Michel-Hazanavicius,-produced-by-Thomas-Langmann-and-starred-Jean-Dujardin-and-Bérénice-Bejo.-The-story-takes-place-in-Hollywood,-between-1927-and-1932,-and-focuses-on-the-relationship-of-an-older-silent-film-star-and-a-rising-young-actress-as-silent-cinema-falls-out-of-fashion-and-is-replaced-by-the-talkies.'"
      ],
      "text/plain": [
       "[1] \"The-Artist-is-a-2011-French-romantic-comedy-drama-in-the-style-of-a-black-and-white-silent-film.-It-was-written,-directed,-and-co-edited-by-Michel-Hazanavicius,-produced-by-Thomas-Langmann-and-starred-Jean-Dujardin-and-Bérénice-Bejo.-The-story-takes-place-in-Hollywood,-between-1927-and-1932,-and-focuses-on-the-relationship-of-an-older-silent-film-star-and-a-rising-young-actress-as-silent-cinema-falls-out-of-fashion-and-is-replaced-by-the-talkies.\""
      ]
     },
     "metadata": {},
     "output_type": "display_data"
    }
   ],
   "source": [
    "chartr(\" \", \"-\", my_data[1])"
   ]
  },
  {
   "cell_type": "markdown",
   "metadata": {},
   "source": [
    "<br>"
   ]
  },
  {
   "cell_type": "markdown",
   "metadata": {},
   "source": [
    "<h3 style=\"font-size:120%\">strsplit()</h3>"
   ]
  },
  {
   "cell_type": "markdown",
   "metadata": {},
   "source": [
    "Previously, we learned that we can read file word by word using **scan()** function. `But what if we want to split the given string word by word?`\n",
    "\n",
    "This can be done using **strsplit()** method. Let's split the string according to the white spaces."
   ]
  },
  {
   "cell_type": "code",
   "execution_count": 13,
   "metadata": {
    "collapsed": false
   },
   "outputs": [
    {
     "data": {
      "text/html": [
       "<ol class=list-inline>\n",
       "\t<li>'The'</li>\n",
       "\t<li>'Artist'</li>\n",
       "\t<li>'is'</li>\n",
       "\t<li>'a'</li>\n",
       "\t<li>'2011'</li>\n",
       "\t<li>'French'</li>\n",
       "\t<li>'romantic'</li>\n",
       "\t<li>'comedy-drama'</li>\n",
       "\t<li>'in'</li>\n",
       "\t<li>'the'</li>\n",
       "\t<li>'style'</li>\n",
       "\t<li>'of'</li>\n",
       "\t<li>'a'</li>\n",
       "\t<li>'black-and-white'</li>\n",
       "\t<li>'silent'</li>\n",
       "\t<li>'film.'</li>\n",
       "\t<li>'It'</li>\n",
       "\t<li>'was'</li>\n",
       "\t<li>'written,'</li>\n",
       "\t<li>'directed,'</li>\n",
       "\t<li>'and'</li>\n",
       "\t<li>'co-edited'</li>\n",
       "\t<li>'by'</li>\n",
       "\t<li>'Michel'</li>\n",
       "\t<li>'Hazanavicius,'</li>\n",
       "\t<li>'produced'</li>\n",
       "\t<li>'by'</li>\n",
       "\t<li>'Thomas'</li>\n",
       "\t<li>'Langmann'</li>\n",
       "\t<li>'and'</li>\n",
       "\t<li>'starred'</li>\n",
       "\t<li>'Jean'</li>\n",
       "\t<li>'Dujardin'</li>\n",
       "\t<li>'and'</li>\n",
       "\t<li>'Bérénice'</li>\n",
       "\t<li>'Bejo.'</li>\n",
       "\t<li>'The'</li>\n",
       "\t<li>'story'</li>\n",
       "\t<li>'takes'</li>\n",
       "\t<li>'place'</li>\n",
       "\t<li>'in'</li>\n",
       "\t<li>'Hollywood,'</li>\n",
       "\t<li>'between'</li>\n",
       "\t<li>'1927'</li>\n",
       "\t<li>'and'</li>\n",
       "\t<li>'1932,'</li>\n",
       "\t<li>'and'</li>\n",
       "\t<li>'focuses'</li>\n",
       "\t<li>'on'</li>\n",
       "\t<li>'the'</li>\n",
       "\t<li>'relationship'</li>\n",
       "\t<li>'of'</li>\n",
       "\t<li>'an'</li>\n",
       "\t<li>'older'</li>\n",
       "\t<li>'silent'</li>\n",
       "\t<li>'film'</li>\n",
       "\t<li>'star'</li>\n",
       "\t<li>'and'</li>\n",
       "\t<li>'a'</li>\n",
       "\t<li>'rising'</li>\n",
       "\t<li>'young'</li>\n",
       "\t<li>'actress'</li>\n",
       "\t<li>'as'</li>\n",
       "\t<li>'silent'</li>\n",
       "\t<li>'cinema'</li>\n",
       "\t<li>'falls'</li>\n",
       "\t<li>'out'</li>\n",
       "\t<li>'of'</li>\n",
       "\t<li>'fashion'</li>\n",
       "\t<li>'and'</li>\n",
       "\t<li>'is'</li>\n",
       "\t<li>'replaced'</li>\n",
       "\t<li>'by'</li>\n",
       "\t<li>'the'</li>\n",
       "\t<li>'talkies.'</li>\n",
       "</ol>\n"
      ],
      "text/latex": [
       "\\begin{enumerate*}\n",
       "\\item 'The'\n",
       "\\item 'Artist'\n",
       "\\item 'is'\n",
       "\\item 'a'\n",
       "\\item '2011'\n",
       "\\item 'French'\n",
       "\\item 'romantic'\n",
       "\\item 'comedy-drama'\n",
       "\\item 'in'\n",
       "\\item 'the'\n",
       "\\item 'style'\n",
       "\\item 'of'\n",
       "\\item 'a'\n",
       "\\item 'black-and-white'\n",
       "\\item 'silent'\n",
       "\\item 'film.'\n",
       "\\item 'It'\n",
       "\\item 'was'\n",
       "\\item 'written,'\n",
       "\\item 'directed,'\n",
       "\\item 'and'\n",
       "\\item 'co-edited'\n",
       "\\item 'by'\n",
       "\\item 'Michel'\n",
       "\\item 'Hazanavicius,'\n",
       "\\item 'produced'\n",
       "\\item 'by'\n",
       "\\item 'Thomas'\n",
       "\\item 'Langmann'\n",
       "\\item 'and'\n",
       "\\item 'starred'\n",
       "\\item 'Jean'\n",
       "\\item 'Dujardin'\n",
       "\\item 'and'\n",
       "\\item 'Bérénice'\n",
       "\\item 'Bejo.'\n",
       "\\item 'The'\n",
       "\\item 'story'\n",
       "\\item 'takes'\n",
       "\\item 'place'\n",
       "\\item 'in'\n",
       "\\item 'Hollywood,'\n",
       "\\item 'between'\n",
       "\\item '1927'\n",
       "\\item 'and'\n",
       "\\item '1932,'\n",
       "\\item 'and'\n",
       "\\item 'focuses'\n",
       "\\item 'on'\n",
       "\\item 'the'\n",
       "\\item 'relationship'\n",
       "\\item 'of'\n",
       "\\item 'an'\n",
       "\\item 'older'\n",
       "\\item 'silent'\n",
       "\\item 'film'\n",
       "\\item 'star'\n",
       "\\item 'and'\n",
       "\\item 'a'\n",
       "\\item 'rising'\n",
       "\\item 'young'\n",
       "\\item 'actress'\n",
       "\\item 'as'\n",
       "\\item 'silent'\n",
       "\\item 'cinema'\n",
       "\\item 'falls'\n",
       "\\item 'out'\n",
       "\\item 'of'\n",
       "\\item 'fashion'\n",
       "\\item 'and'\n",
       "\\item 'is'\n",
       "\\item 'replaced'\n",
       "\\item 'by'\n",
       "\\item 'the'\n",
       "\\item 'talkies.'\n",
       "\\end{enumerate*}\n"
      ],
      "text/markdown": [
       "1. 'The'\n",
       "2. 'Artist'\n",
       "3. 'is'\n",
       "4. 'a'\n",
       "5. '2011'\n",
       "6. 'French'\n",
       "7. 'romantic'\n",
       "8. 'comedy-drama'\n",
       "9. 'in'\n",
       "10. 'the'\n",
       "11. 'style'\n",
       "12. 'of'\n",
       "13. 'a'\n",
       "14. 'black-and-white'\n",
       "15. 'silent'\n",
       "16. 'film.'\n",
       "17. 'It'\n",
       "18. 'was'\n",
       "19. 'written,'\n",
       "20. 'directed,'\n",
       "21. 'and'\n",
       "22. 'co-edited'\n",
       "23. 'by'\n",
       "24. 'Michel'\n",
       "25. 'Hazanavicius,'\n",
       "26. 'produced'\n",
       "27. 'by'\n",
       "28. 'Thomas'\n",
       "29. 'Langmann'\n",
       "30. 'and'\n",
       "31. 'starred'\n",
       "32. 'Jean'\n",
       "33. 'Dujardin'\n",
       "34. 'and'\n",
       "35. 'Bérénice'\n",
       "36. 'Bejo.'\n",
       "37. 'The'\n",
       "38. 'story'\n",
       "39. 'takes'\n",
       "40. 'place'\n",
       "41. 'in'\n",
       "42. 'Hollywood,'\n",
       "43. 'between'\n",
       "44. '1927'\n",
       "45. 'and'\n",
       "46. '1932,'\n",
       "47. 'and'\n",
       "48. 'focuses'\n",
       "49. 'on'\n",
       "50. 'the'\n",
       "51. 'relationship'\n",
       "52. 'of'\n",
       "53. 'an'\n",
       "54. 'older'\n",
       "55. 'silent'\n",
       "56. 'film'\n",
       "57. 'star'\n",
       "58. 'and'\n",
       "59. 'a'\n",
       "60. 'rising'\n",
       "61. 'young'\n",
       "62. 'actress'\n",
       "63. 'as'\n",
       "64. 'silent'\n",
       "65. 'cinema'\n",
       "66. 'falls'\n",
       "67. 'out'\n",
       "68. 'of'\n",
       "69. 'fashion'\n",
       "70. 'and'\n",
       "71. 'is'\n",
       "72. 'replaced'\n",
       "73. 'by'\n",
       "74. 'the'\n",
       "75. 'talkies.'\n",
       "\n",
       "\n"
      ],
      "text/plain": [
       " [1] \"The\"             \"Artist\"          \"is\"              \"a\"              \n",
       " [5] \"2011\"            \"French\"          \"romantic\"        \"comedy-drama\"   \n",
       " [9] \"in\"              \"the\"             \"style\"           \"of\"             \n",
       "[13] \"a\"               \"black-and-white\" \"silent\"          \"film.\"          \n",
       "[17] \"It\"              \"was\"             \"written,\"        \"directed,\"      \n",
       "[21] \"and\"             \"co-edited\"       \"by\"              \"Michel\"         \n",
       "[25] \"Hazanavicius,\"   \"produced\"        \"by\"              \"Thomas\"         \n",
       "[29] \"Langmann\"        \"and\"             \"starred\"         \"Jean\"           \n",
       "[33] \"Dujardin\"        \"and\"             \"Bérénice\"        \"Bejo.\"          \n",
       "[37] \"The\"             \"story\"           \"takes\"           \"place\"          \n",
       "[41] \"in\"              \"Hollywood,\"      \"between\"         \"1927\"           \n",
       "[45] \"and\"             \"1932,\"           \"and\"             \"focuses\"        \n",
       "[49] \"on\"              \"the\"             \"relationship\"    \"of\"             \n",
       "[53] \"an\"              \"older\"           \"silent\"          \"film\"           \n",
       "[57] \"star\"            \"and\"             \"a\"               \"rising\"         \n",
       "[61] \"young\"           \"actress\"         \"as\"              \"silent\"         \n",
       "[65] \"cinema\"          \"falls\"           \"out\"             \"of\"             \n",
       "[69] \"fashion\"         \"and\"             \"is\"              \"replaced\"       \n",
       "[73] \"by\"              \"the\"             \"talkies.\"       "
      ]
     },
     "metadata": {},
     "output_type": "display_data"
    }
   ],
   "source": [
    "# strsplit creates a list as the output which contains all the separated words as single element.\n",
    "# unlist converts the list into character vector\n",
    "# once the individual words are elements in a vector, they are easier to access\n",
    "\n",
    "character_list <- strsplit(my_data[1], \" \") \n",
    "word_list <- unlist(character_list)\n",
    "word_list"
   ]
  },
  {
   "cell_type": "markdown",
   "metadata": {},
   "source": [
    "In above code block, we separate the string word by word, but **strsplit()** method provides a list at the output which contains all the separated words as single element which is more complex to read. So, to make it more easy to read each word as single element, we used **unlist()** method which converts the list into character vector and now we can easily access each word as a single element."
   ]
  },
  {
   "cell_type": "markdown",
   "metadata": {},
   "source": [
    "<br>"
   ]
  },
  {
   "cell_type": "markdown",
   "metadata": {},
   "source": [
    "<h3 style=\"font-size:120%\">sort()</h3>"
   ]
  },
  {
   "cell_type": "markdown",
   "metadata": {},
   "source": [
    "Sorting is also possible in R. Let's use **sort()** method to sort elements of the **word_list** character vector in ascending order."
   ]
  },
  {
   "cell_type": "code",
   "execution_count": 14,
   "metadata": {
    "collapsed": false
   },
   "outputs": [
    {
     "data": {
      "text/html": [
       "<ol class=list-inline>\n",
       "\t<li>'1927'</li>\n",
       "\t<li>'1932,'</li>\n",
       "\t<li>'2011'</li>\n",
       "\t<li>'a'</li>\n",
       "\t<li>'a'</li>\n",
       "\t<li>'a'</li>\n",
       "\t<li>'actress'</li>\n",
       "\t<li>'an'</li>\n",
       "\t<li>'and'</li>\n",
       "\t<li>'and'</li>\n",
       "\t<li>'and'</li>\n",
       "\t<li>'and'</li>\n",
       "\t<li>'and'</li>\n",
       "\t<li>'and'</li>\n",
       "\t<li>'and'</li>\n",
       "\t<li>'Artist'</li>\n",
       "\t<li>'as'</li>\n",
       "\t<li>'Bejo.'</li>\n",
       "\t<li>'Bérénice'</li>\n",
       "\t<li>'between'</li>\n",
       "\t<li>'black-and-white'</li>\n",
       "\t<li>'by'</li>\n",
       "\t<li>'by'</li>\n",
       "\t<li>'by'</li>\n",
       "\t<li>'cinema'</li>\n",
       "\t<li>'co-edited'</li>\n",
       "\t<li>'comedy-drama'</li>\n",
       "\t<li>'directed,'</li>\n",
       "\t<li>'Dujardin'</li>\n",
       "\t<li>'falls'</li>\n",
       "\t<li>'fashion'</li>\n",
       "\t<li>'film'</li>\n",
       "\t<li>'film.'</li>\n",
       "\t<li>'focuses'</li>\n",
       "\t<li>'French'</li>\n",
       "\t<li>'Hazanavicius,'</li>\n",
       "\t<li>'Hollywood,'</li>\n",
       "\t<li>'in'</li>\n",
       "\t<li>'in'</li>\n",
       "\t<li>'is'</li>\n",
       "\t<li>'is'</li>\n",
       "\t<li>'It'</li>\n",
       "\t<li>'Jean'</li>\n",
       "\t<li>'Langmann'</li>\n",
       "\t<li>'Michel'</li>\n",
       "\t<li>'of'</li>\n",
       "\t<li>'of'</li>\n",
       "\t<li>'of'</li>\n",
       "\t<li>'older'</li>\n",
       "\t<li>'on'</li>\n",
       "\t<li>'out'</li>\n",
       "\t<li>'place'</li>\n",
       "\t<li>'produced'</li>\n",
       "\t<li>'relationship'</li>\n",
       "\t<li>'replaced'</li>\n",
       "\t<li>'rising'</li>\n",
       "\t<li>'romantic'</li>\n",
       "\t<li>'silent'</li>\n",
       "\t<li>'silent'</li>\n",
       "\t<li>'silent'</li>\n",
       "\t<li>'star'</li>\n",
       "\t<li>'starred'</li>\n",
       "\t<li>'story'</li>\n",
       "\t<li>'style'</li>\n",
       "\t<li>'takes'</li>\n",
       "\t<li>'talkies.'</li>\n",
       "\t<li>'the'</li>\n",
       "\t<li>'the'</li>\n",
       "\t<li>'the'</li>\n",
       "\t<li>'The'</li>\n",
       "\t<li>'The'</li>\n",
       "\t<li>'Thomas'</li>\n",
       "\t<li>'was'</li>\n",
       "\t<li>'written,'</li>\n",
       "\t<li>'young'</li>\n",
       "</ol>\n"
      ],
      "text/latex": [
       "\\begin{enumerate*}\n",
       "\\item '1927'\n",
       "\\item '1932,'\n",
       "\\item '2011'\n",
       "\\item 'a'\n",
       "\\item 'a'\n",
       "\\item 'a'\n",
       "\\item 'actress'\n",
       "\\item 'an'\n",
       "\\item 'and'\n",
       "\\item 'and'\n",
       "\\item 'and'\n",
       "\\item 'and'\n",
       "\\item 'and'\n",
       "\\item 'and'\n",
       "\\item 'and'\n",
       "\\item 'Artist'\n",
       "\\item 'as'\n",
       "\\item 'Bejo.'\n",
       "\\item 'Bérénice'\n",
       "\\item 'between'\n",
       "\\item 'black-and-white'\n",
       "\\item 'by'\n",
       "\\item 'by'\n",
       "\\item 'by'\n",
       "\\item 'cinema'\n",
       "\\item 'co-edited'\n",
       "\\item 'comedy-drama'\n",
       "\\item 'directed,'\n",
       "\\item 'Dujardin'\n",
       "\\item 'falls'\n",
       "\\item 'fashion'\n",
       "\\item 'film'\n",
       "\\item 'film.'\n",
       "\\item 'focuses'\n",
       "\\item 'French'\n",
       "\\item 'Hazanavicius,'\n",
       "\\item 'Hollywood,'\n",
       "\\item 'in'\n",
       "\\item 'in'\n",
       "\\item 'is'\n",
       "\\item 'is'\n",
       "\\item 'It'\n",
       "\\item 'Jean'\n",
       "\\item 'Langmann'\n",
       "\\item 'Michel'\n",
       "\\item 'of'\n",
       "\\item 'of'\n",
       "\\item 'of'\n",
       "\\item 'older'\n",
       "\\item 'on'\n",
       "\\item 'out'\n",
       "\\item 'place'\n",
       "\\item 'produced'\n",
       "\\item 'relationship'\n",
       "\\item 'replaced'\n",
       "\\item 'rising'\n",
       "\\item 'romantic'\n",
       "\\item 'silent'\n",
       "\\item 'silent'\n",
       "\\item 'silent'\n",
       "\\item 'star'\n",
       "\\item 'starred'\n",
       "\\item 'story'\n",
       "\\item 'style'\n",
       "\\item 'takes'\n",
       "\\item 'talkies.'\n",
       "\\item 'the'\n",
       "\\item 'the'\n",
       "\\item 'the'\n",
       "\\item 'The'\n",
       "\\item 'The'\n",
       "\\item 'Thomas'\n",
       "\\item 'was'\n",
       "\\item 'written,'\n",
       "\\item 'young'\n",
       "\\end{enumerate*}\n"
      ],
      "text/markdown": [
       "1. '1927'\n",
       "2. '1932,'\n",
       "3. '2011'\n",
       "4. 'a'\n",
       "5. 'a'\n",
       "6. 'a'\n",
       "7. 'actress'\n",
       "8. 'an'\n",
       "9. 'and'\n",
       "10. 'and'\n",
       "11. 'and'\n",
       "12. 'and'\n",
       "13. 'and'\n",
       "14. 'and'\n",
       "15. 'and'\n",
       "16. 'Artist'\n",
       "17. 'as'\n",
       "18. 'Bejo.'\n",
       "19. 'Bérénice'\n",
       "20. 'between'\n",
       "21. 'black-and-white'\n",
       "22. 'by'\n",
       "23. 'by'\n",
       "24. 'by'\n",
       "25. 'cinema'\n",
       "26. 'co-edited'\n",
       "27. 'comedy-drama'\n",
       "28. 'directed,'\n",
       "29. 'Dujardin'\n",
       "30. 'falls'\n",
       "31. 'fashion'\n",
       "32. 'film'\n",
       "33. 'film.'\n",
       "34. 'focuses'\n",
       "35. 'French'\n",
       "36. 'Hazanavicius,'\n",
       "37. 'Hollywood,'\n",
       "38. 'in'\n",
       "39. 'in'\n",
       "40. 'is'\n",
       "41. 'is'\n",
       "42. 'It'\n",
       "43. 'Jean'\n",
       "44. 'Langmann'\n",
       "45. 'Michel'\n",
       "46. 'of'\n",
       "47. 'of'\n",
       "48. 'of'\n",
       "49. 'older'\n",
       "50. 'on'\n",
       "51. 'out'\n",
       "52. 'place'\n",
       "53. 'produced'\n",
       "54. 'relationship'\n",
       "55. 'replaced'\n",
       "56. 'rising'\n",
       "57. 'romantic'\n",
       "58. 'silent'\n",
       "59. 'silent'\n",
       "60. 'silent'\n",
       "61. 'star'\n",
       "62. 'starred'\n",
       "63. 'story'\n",
       "64. 'style'\n",
       "65. 'takes'\n",
       "66. 'talkies.'\n",
       "67. 'the'\n",
       "68. 'the'\n",
       "69. 'the'\n",
       "70. 'The'\n",
       "71. 'The'\n",
       "72. 'Thomas'\n",
       "73. 'was'\n",
       "74. 'written,'\n",
       "75. 'young'\n",
       "\n",
       "\n"
      ],
      "text/plain": [
       " [1] \"1927\"            \"1932,\"           \"2011\"            \"a\"              \n",
       " [5] \"a\"               \"a\"               \"actress\"         \"an\"             \n",
       " [9] \"and\"             \"and\"             \"and\"             \"and\"            \n",
       "[13] \"and\"             \"and\"             \"and\"             \"Artist\"         \n",
       "[17] \"as\"              \"Bejo.\"           \"Bérénice\"        \"between\"        \n",
       "[21] \"black-and-white\" \"by\"              \"by\"              \"by\"             \n",
       "[25] \"cinema\"          \"co-edited\"       \"comedy-drama\"    \"directed,\"      \n",
       "[29] \"Dujardin\"        \"falls\"           \"fashion\"         \"film\"           \n",
       "[33] \"film.\"           \"focuses\"         \"French\"          \"Hazanavicius,\"  \n",
       "[37] \"Hollywood,\"      \"in\"              \"in\"              \"is\"             \n",
       "[41] \"is\"              \"It\"              \"Jean\"            \"Langmann\"       \n",
       "[45] \"Michel\"          \"of\"              \"of\"              \"of\"             \n",
       "[49] \"older\"           \"on\"              \"out\"             \"place\"          \n",
       "[53] \"produced\"        \"relationship\"    \"replaced\"        \"rising\"         \n",
       "[57] \"romantic\"        \"silent\"          \"silent\"          \"silent\"         \n",
       "[61] \"star\"            \"starred\"         \"story\"           \"style\"          \n",
       "[65] \"takes\"           \"talkies.\"        \"the\"             \"the\"            \n",
       "[69] \"the\"             \"The\"             \"The\"             \"Thomas\"         \n",
       "[73] \"was\"             \"written,\"        \"young\"          "
      ]
     },
     "metadata": {},
     "output_type": "display_data"
    }
   ],
   "source": [
    "sorted_list <- sort(word_list)  # since word_list is a vector of words, we can sort the words\n",
    "sorted_list"
   ]
  },
  {
   "cell_type": "markdown",
   "metadata": {},
   "source": [
    "<br>"
   ]
  },
  {
   "cell_type": "markdown",
   "metadata": {},
   "source": [
    "<h3 style=\"font-size:120%\">paste()</h3>"
   ]
  },
  {
   "cell_type": "markdown",
   "metadata": {},
   "source": [
    "Now, we sort all the elements of ** word_list** character vector. Let's use **paste()** function here, which is used to concatenate strings. This method takes two arguments, the strings we want to concatenate and **collapse** argument which defines the separator in the words.\n",
    "\n",
    "Here, we are going to concatenate all words of **sorted_list** character vector into a single string."
   ]
  },
  {
   "cell_type": "code",
   "execution_count": 15,
   "metadata": {
    "collapsed": false,
    "scrolled": true
   },
   "outputs": [
    {
     "data": {
      "text/html": [
       "'1927 1932, 2011 a a a actress an and and and and and and and Artist as Bejo. Bérénice between black-and-white by by by cinema co-edited comedy-drama directed, Dujardin falls fashion film film. focuses French Hazanavicius, Hollywood, in in is is It Jean Langmann Michel of of of older on out place produced relationship replaced rising romantic silent silent silent star starred story style takes talkies. the the the The The Thomas was written, young'"
      ],
      "text/latex": [
       "'1927 1932, 2011 a a a actress an and and and and and and and Artist as Bejo. Bérénice between black-and-white by by by cinema co-edited comedy-drama directed, Dujardin falls fashion film film. focuses French Hazanavicius, Hollywood, in in is is It Jean Langmann Michel of of of older on out place produced relationship replaced rising romantic silent silent silent star starred story style takes talkies. the the the The The Thomas was written, young'"
      ],
      "text/markdown": [
       "'1927 1932, 2011 a a a actress an and and and and and and and Artist as Bejo. Bérénice between black-and-white by by by cinema co-edited comedy-drama directed, Dujardin falls fashion film film. focuses French Hazanavicius, Hollywood, in in is is It Jean Langmann Michel of of of older on out place produced relationship replaced rising romantic silent silent silent star starred story style takes talkies. the the the The The Thomas was written, young'"
      ],
      "text/plain": [
       "[1] \"1927 1932, 2011 a a a actress an and and and and and and and Artist as Bejo. Bérénice between black-and-white by by by cinema co-edited comedy-drama directed, Dujardin falls fashion film film. focuses French Hazanavicius, Hollywood, in in is is It Jean Langmann Michel of of of older on out place produced relationship replaced rising romantic silent silent silent star starred story style takes talkies. the the the The The Thomas was written, young\""
      ]
     },
     "metadata": {},
     "output_type": "display_data"
    }
   ],
   "source": [
    "paste(sorted_list, collapse = \" \")"
   ]
  },
  {
   "cell_type": "markdown",
   "metadata": {},
   "source": [
    "<br>"
   ]
  },
  {
   "cell_type": "markdown",
   "metadata": {},
   "source": [
    "<h3 style=\"font-size:120%\">substr()</h3>"
   ]
  },
  {
   "cell_type": "markdown",
   "metadata": {},
   "source": [
    "There is another function **substr()** in R which is used to get a sub section of the string.\n",
    "\n",
    "Let's take an example to understand it more. In example below, we use the **substr()** method and provide it three arguments. First argument is the data string from which we want the sub string. Second argument is the starting point from where function will start reading the string and the third argument is the stopping point till where we want the function to read string."
   ]
  },
  {
   "cell_type": "code",
   "execution_count": 16,
   "metadata": {
    "collapsed": false
   },
   "outputs": [
    {
     "data": {
      "text/html": [
       "' Artist is a 2011 French romantic comedy-drama '"
      ],
      "text/latex": [
       "' Artist is a 2011 French romantic comedy-drama '"
      ],
      "text/markdown": [
       "' Artist is a 2011 French romantic comedy-drama '"
      ],
      "text/plain": [
       "[1] \" Artist is a 2011 French romantic comedy-drama \""
      ]
     },
     "metadata": {},
     "output_type": "display_data"
    }
   ],
   "source": [
    "sub_string <- substr(my_data[1], start = 4, stop = 50)\n",
    "sub_string"
   ]
  },
  {
   "cell_type": "markdown",
   "metadata": {},
   "source": [
    "So, from the character vector, we start reading the first element from 4th position and read the string till 50th position and at the output, we get the resulted string which we stored in **sub_string** variable."
   ]
  },
  {
   "cell_type": "markdown",
   "metadata": {},
   "source": [
    "<br>"
   ]
  },
  {
   "cell_type": "markdown",
   "metadata": {},
   "source": [
    "<h3 style=\"font-size:120%\">trimws()</h3>"
   ]
  },
  {
   "cell_type": "markdown",
   "metadata": {},
   "source": [
    "As the sub string that we get in code block above, have some white spaces at the initial and end points. So, to quickly remove them, we can use **trimws()** method of R like shown below."
   ]
  },
  {
   "cell_type": "code",
   "execution_count": 17,
   "metadata": {
    "collapsed": false
   },
   "outputs": [
    {
     "data": {
      "text/html": [
       "'Artist is a 2011 French romantic comedy-drama'"
      ],
      "text/latex": [
       "'Artist is a 2011 French romantic comedy-drama'"
      ],
      "text/markdown": [
       "'Artist is a 2011 French romantic comedy-drama'"
      ],
      "text/plain": [
       "[1] \"Artist is a 2011 French romantic comedy-drama\""
      ]
     },
     "metadata": {},
     "output_type": "display_data"
    }
   ],
   "source": [
    "trimws(sub_string)"
   ]
  },
  {
   "cell_type": "markdown",
   "metadata": {},
   "source": [
    "So, at the output, we get the string which does not contain any white spaces at the both ends."
   ]
  },
  {
   "cell_type": "markdown",
   "metadata": {},
   "source": [
    "<br>"
   ]
  },
  {
   "cell_type": "markdown",
   "metadata": {},
   "source": [
    "<h3 style=\"font-size:115%\">str_sub()</h3>"
   ]
  },
  {
   "cell_type": "markdown",
   "metadata": {},
   "source": [
    "To read string from last, we are using **stringr** library. This library contains **str_sub()** method, which takes same arguments as **sub_stirng** method but read string from last.\n",
    "\n",
    "Like in the example below, we provide a data string and both starting and end points with negative values which indicates that we are reading string from last."
   ]
  },
  {
   "cell_type": "code",
   "execution_count": 18,
   "metadata": {
    "collapsed": false
   },
   "outputs": [
    {
     "data": {
      "text/html": [
       "'talkies.'"
      ],
      "text/latex": [
       "'talkies.'"
      ],
      "text/markdown": [
       "'talkies.'"
      ],
      "text/plain": [
       "[1] \"talkies.\""
      ]
     },
     "metadata": {},
     "output_type": "display_data"
    }
   ],
   "source": [
    "library(stringr)\n",
    "str_sub(my_data[1], -8, -1)"
   ]
  },
  {
   "cell_type": "markdown",
   "metadata": {},
   "source": [
    "So, we read string from -1 till -8 and it gives **talkies.** with full stop mark at the output."
   ]
  },
  {
   "cell_type": "markdown",
   "metadata": {},
   "source": [
    "<hr>"
   ]
  },
  {
   "cell_type": "markdown",
   "metadata": {},
   "source": [
    "<a id=\"ref3\"></a>\n",
    "<h2 align=center>Writing and Saving to Files</h2>"
   ]
  },
  {
   "cell_type": "markdown",
   "metadata": {},
   "source": [
    "NOTE: This content was covered in the third (last) video from Module 4 (the previous module)."
   ]
  },
  {
   "cell_type": "markdown",
   "metadata": {},
   "source": [
    "After reading files, we can also write data into files and save them in different file formats like **.txt, .csv, .xls (for excel files) etc**. Let's take a look at some examples."
   ]
  },
  {
   "cell_type": "markdown",
   "metadata": {},
   "source": [
    "<h3 style=\"font-size:115%\">Exporting as Text File</h3>"
   ]
  },
  {
   "cell_type": "markdown",
   "metadata": {},
   "source": [
    "Suppose we want to export a matrices or String in **.txt** file. To do so, we can use **write()** method which writes into file and save that on to disk.\n",
    "\n",
    "Let's create a matrix and try to save it into file."
   ]
  },
  {
   "cell_type": "code",
   "execution_count": 19,
   "metadata": {
    "collapsed": false
   },
   "outputs": [
    {
     "data": {
      "text/html": [
       "<table>\n",
       "<tbody>\n",
       "\t<tr><td>1</td><td>3</td><td>5</td></tr>\n",
       "\t<tr><td>2</td><td>4</td><td>6</td></tr>\n",
       "</tbody>\n",
       "</table>\n"
      ],
      "text/latex": [
       "\\begin{tabular}{lll}\n",
       "\t 1 & 3 & 5\\\\\n",
       "\t 2 & 4 & 6\\\\\n",
       "\\end{tabular}\n"
      ],
      "text/markdown": [
       "\n",
       "| 1 | 3 | 5 | \n",
       "| 2 | 4 | 6 | \n",
       "\n",
       "\n"
      ],
      "text/plain": [
       "     [,1] [,2] [,3]\n",
       "[1,] 1    3    5   \n",
       "[2,] 2    4    6   "
      ]
     },
     "metadata": {},
     "output_type": "display_data"
    }
   ],
   "source": [
    "m <- matrix(c(1, 2, 3, 4, 5, 6), nrow = 2, ncol = 3)\n",
    "m"
   ]
  },
  {
   "cell_type": "code",
   "execution_count": 20,
   "metadata": {
    "collapsed": true
   },
   "outputs": [],
   "source": [
    "write(m, file = \"my_text_file.txt\", ncolumns = 3, sep = \" \")"
   ]
  },
  {
   "cell_type": "markdown",
   "metadata": {},
   "source": [
    "In above code block, we provide the input data, file name in which we want to store data along with its path and as we are using matrices to output in file, we provide **ncolumns** argument value and **sep** argument.\n",
    "\n",
    "Let's try to write a string from our **my_data** variable into file named as **my_text_file2.txt**"
   ]
  },
  {
   "cell_type": "code",
   "execution_count": 21,
   "metadata": {
    "collapsed": true
   },
   "outputs": [],
   "source": [
    "write(my_data[1], file = \"my_text_file2.txt\", ncolumns = 1, sep = \" \")"
   ]
  },
  {
   "cell_type": "markdown",
   "metadata": {},
   "source": [
    "So, we get the first element from **my_data** variable and provide it as input to write function and this time we assign **ncolumn** argument with value 1 because we want a single column for string."
   ]
  },
  {
   "cell_type": "markdown",
   "metadata": {},
   "source": [
    "<br>"
   ]
  },
  {
   "cell_type": "markdown",
   "metadata": {},
   "source": [
    "<h3 style=\"font-size:115%\">Exporting as CSV File</h3>"
   ]
  },
  {
   "cell_type": "markdown",
   "metadata": {},
   "source": [
    "As we export data in text files, we can export data into **CSV** files also. To do so, we need a data frame which have data. For this, we can use built-in datasets.\n",
    "\n",
    "Let's use **CO2** dataset of R which contains data about Carbon Dioxide Uptake in Grass Plants. Let's see how data look like in **CO2**dataset."
   ]
  },
  {
   "cell_type": "code",
   "execution_count": 22,
   "metadata": {
    "collapsed": false,
    "scrolled": true
   },
   "outputs": [
    {
     "data": {
      "text/html": [
       "<table>\n",
       "<thead><tr><th scope=col>Plant</th><th scope=col>Type</th><th scope=col>Treatment</th><th scope=col>conc</th><th scope=col>uptake</th></tr></thead>\n",
       "<tbody>\n",
       "\t<tr><td>Qn1       </td><td>Quebec    </td><td>nonchilled</td><td> 95       </td><td>16.0      </td></tr>\n",
       "\t<tr><td>Qn1       </td><td>Quebec    </td><td>nonchilled</td><td>175       </td><td>30.4      </td></tr>\n",
       "\t<tr><td>Qn1       </td><td>Quebec    </td><td>nonchilled</td><td>250       </td><td>34.8      </td></tr>\n",
       "\t<tr><td>Qn1       </td><td>Quebec    </td><td>nonchilled</td><td>350       </td><td>37.2      </td></tr>\n",
       "\t<tr><td>Qn1       </td><td>Quebec    </td><td>nonchilled</td><td>500       </td><td>35.3      </td></tr>\n",
       "\t<tr><td>Qn1       </td><td>Quebec    </td><td>nonchilled</td><td>675       </td><td>39.2      </td></tr>\n",
       "</tbody>\n",
       "</table>\n"
      ],
      "text/latex": [
       "\\begin{tabular}{r|lllll}\n",
       " Plant & Type & Treatment & conc & uptake\\\\\n",
       "\\hline\n",
       "\t Qn1        & Quebec     & nonchilled &  95        & 16.0      \\\\\n",
       "\t Qn1        & Quebec     & nonchilled & 175        & 30.4      \\\\\n",
       "\t Qn1        & Quebec     & nonchilled & 250        & 34.8      \\\\\n",
       "\t Qn1        & Quebec     & nonchilled & 350        & 37.2      \\\\\n",
       "\t Qn1        & Quebec     & nonchilled & 500        & 35.3      \\\\\n",
       "\t Qn1        & Quebec     & nonchilled & 675        & 39.2      \\\\\n",
       "\\end{tabular}\n"
      ],
      "text/markdown": [
       "\n",
       "Plant | Type | Treatment | conc | uptake | \n",
       "|---|---|---|---|---|---|\n",
       "| Qn1        | Quebec     | nonchilled |  95        | 16.0       | \n",
       "| Qn1        | Quebec     | nonchilled | 175        | 30.4       | \n",
       "| Qn1        | Quebec     | nonchilled | 250        | 34.8       | \n",
       "| Qn1        | Quebec     | nonchilled | 350        | 37.2       | \n",
       "| Qn1        | Quebec     | nonchilled | 500        | 35.3       | \n",
       "| Qn1        | Quebec     | nonchilled | 675        | 39.2       | \n",
       "\n",
       "\n"
      ],
      "text/plain": [
       "  Plant Type   Treatment  conc uptake\n",
       "1 Qn1   Quebec nonchilled  95  16.0  \n",
       "2 Qn1   Quebec nonchilled 175  30.4  \n",
       "3 Qn1   Quebec nonchilled 250  34.8  \n",
       "4 Qn1   Quebec nonchilled 350  37.2  \n",
       "5 Qn1   Quebec nonchilled 500  35.3  \n",
       "6 Qn1   Quebec nonchilled 675  39.2  "
      ]
     },
     "metadata": {},
     "output_type": "display_data"
    }
   ],
   "source": [
    "head(CO2)"
   ]
  },
  {
   "cell_type": "markdown",
   "metadata": {},
   "source": [
    "Now, let's export this data into **CSV** file. We will use **write.csv()** method which takes data frame as input and a **file** argument to specify output filename."
   ]
  },
  {
   "cell_type": "code",
   "execution_count": 23,
   "metadata": {
    "collapsed": true
   },
   "outputs": [],
   "source": [
    "write.csv(CO2, file = \"my_csv.csv\")"
   ]
  },
  {
   "cell_type": "markdown",
   "metadata": {},
   "source": [
    "Now, when we will execute above code block, all data will be exported in CSV file. Now, the first column of CSV file contains row numbers which we do not want in our CSV file. So, we have to define **row.names** to **FALSE** in **write.csv()** method."
   ]
  },
  {
   "cell_type": "code",
   "execution_count": 24,
   "metadata": {
    "collapsed": true
   },
   "outputs": [],
   "source": [
    "write.csv(CO2, file = \"my_csv.csv\", row.names = FALSE)"
   ]
  },
  {
   "cell_type": "markdown",
   "metadata": {},
   "source": [
    "Similarly, to remove column names just make **col.names** to **FALSE**. "
   ]
  },
  {
   "cell_type": "markdown",
   "metadata": {},
   "source": [
    "<br>"
   ]
  },
  {
   "cell_type": "markdown",
   "metadata": {},
   "source": [
    "<h3 style=\"font-size:115%\">Exporting as Excel File</h3>"
   ]
  },
  {
   "cell_type": "markdown",
   "metadata": {},
   "source": [
    "To save data into excel files, we have to install an external library called **xlsx**, which will provide us easy methods to export data into **.xlsx** files.\n",
    "\n",
    "Let's install this library. (This may take a minute or two)"
   ]
  },
  {
   "cell_type": "code",
   "execution_count": 25,
   "metadata": {
    "collapsed": false
   },
   "outputs": [
    {
     "name": "stderr",
     "output_type": "stream",
     "text": [
      "also installing the dependency ‘xlsxjars’\n",
      "\n",
      "Updating HTML index of packages in '.Library'\n",
      "Making 'packages.html' ... done\n"
     ]
    }
   ],
   "source": [
    "install.packages(\"xlsx\")"
   ]
  },
  {
   "cell_type": "code",
   "execution_count": 26,
   "metadata": {
    "collapsed": false
   },
   "outputs": [],
   "source": [
    "library(xlsx)\n",
    "write.xlsx(CO2, file = \"my_excel.xlsx\", row.names = FALSE)"
   ]
  },
  {
   "cell_type": "markdown",
   "metadata": {},
   "source": [
    "So, exporting data in **.xlsx** files is similary to **.csv** files just function name is different plus we had to install external library to do this operation."
   ]
  },
  {
   "cell_type": "markdown",
   "metadata": {},
   "source": [
    "<br>"
   ]
  },
  {
   "cell_type": "markdown",
   "metadata": {},
   "source": [
    "<h3 style=\"font-size:115%\">Exporting as .RData File</h3>"
   ]
  },
  {
   "cell_type": "markdown",
   "metadata": {},
   "source": [
    "In R, we can also save files in **.RData** format. **.RData** format provides a way to save and load our R objects.\n",
    "\n",
    "Let's create simple variable objects and save that into file with extension**.RData**."
   ]
  },
  {
   "cell_type": "code",
   "execution_count": 27,
   "metadata": {
    "collapsed": false
   },
   "outputs": [],
   "source": [
    "var1 <- \"var1\"\n",
    "var2 <- \"var2\"\n",
    "var3 <- \"var3\""
   ]
  },
  {
   "cell_type": "markdown",
   "metadata": {},
   "source": [
    "Now, to write in **.RData** file, we will use **save()** method of R. It has a **list** argument which is the list containing the variable names of all the objects we want to save (which in this case are three vaiables), **file** argument which contains file name in which we are going to write/save data and **safe** argument is to specify whether you want the saving to be performed atomically."
   ]
  },
  {
   "cell_type": "code",
   "execution_count": 28,
   "metadata": {
    "collapsed": false,
    "scrolled": true
   },
   "outputs": [],
   "source": [
    "save(list = c(\"var1\", \"var2\", \"var3\"), file = \"variables.RData\", safe = T)"
   ]
  },
  {
   "cell_type": "markdown",
   "metadata": {},
   "source": [
    "The file with name **variables.RData** is generated on the provided location."
   ]
  },
  {
   "cell_type": "markdown",
   "metadata": {},
   "source": [
    "<hr>"
   ]
  },
  {
   "cell_type": "markdown",
   "metadata": {},
   "source": [
    "#### Scaling R with big data\n",
    "\n",
    "As you learn more about R, if you are interested in exploring platforms that can help you run analyses at scale, you might want to sign up for a free account on [IBM Watson Studio](http://cocl.us/dsx_rp0101en), which allows you to run analyses in R with two Spark executors for free."
   ]
  },
  {
   "cell_type": "markdown",
   "metadata": {},
   "source": [
    "<hr>\n",
    "### About the Author:  \n",
    "Hi! It's [Iqbal Singh](https://ca.linkedin.com/in/iqbalsingh15), the author of this notebook. I hope you found R easy to learn! There's lots more to learn about R but you're well on your way. Feel free to connect with me if you have any questions."
   ]
  },
  {
   "cell_type": "markdown",
   "metadata": {},
   "source": [
    "<hr>\n",
    "Copyright &copy; [IBM Cognitive Class](https://cognitiveclass.ai). This notebook and its source code are released under the terms of the [MIT License](https://cognitiveclass.ai/mit-license/)."
   ]
  }
 ],
 "metadata": {
  "kernelspec": {
   "display_name": "R",
   "language": "R",
   "name": "ir"
  },
  "language_info": {
   "codemirror_mode": "r",
   "file_extension": ".r",
   "mimetype": "text/x-r-source",
   "name": "R",
   "pygments_lexer": "r",
   "version": "3.5.1"
  },
  "widgets": {
   "state": {},
   "version": "1.1.2"
  }
 },
 "nbformat": 4,
 "nbformat_minor": 2
}
